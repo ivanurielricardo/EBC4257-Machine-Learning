{
 "cells": [
  {
   "cell_type": "markdown",
   "id": "d98d82cd",
   "metadata": {},
   "source": [
    "# Assignment 4\n",
    "\n",
    "## Support Vector Machines\n",
    "\n",
    "### Problem 1: How do we formulate an SVM as a regularized loss function?\n",
    "In this case, we will use a **Hinge Loss Function** which can be defined as:\n",
    "$$l(a,b) = \\max{(0, 1-ab)}$$\n",
    "\n",
    "This loss function is **non-convex** and hard to optimize.\n",
    "\n",
    "Looking at the graph, we can see that when ab<1, then hinge loss increases massively. \n",
    "\n",
    "We can find a classification function by solving a regularized learning problem:\n",
    "\n",
    "\\begin{align}\n",
    "    \\underset{f \\in \\mathbb{H}}{argmin} \\frac{1}{n} \\sum_{i=1}^{n} V(y_i, f(x_i) + \\lambda ||f||^2_{\\mathbb{H}})\n",
    "\\end{align}\n",
    "\n",
    "**Note**: this class considers Binary Classification\n",
    "\n",
    "We then consider the loss function\n",
    "\n",
    "$$ V(f(x,y)) \\equiv (1 - y f(x))_+$$\n",
    "\n",
    "where\n",
    "\n",
    "$$ (k)_+ \\equiv max(k,0) $$\n",
    "\n",
    "We substitute in the loss function in order to obtain \n",
    "\n",
    "\\begin{align}\n",
    "    \\underset{f \\in \\mathbb{H}}{argmin} \\frac{1}{n} \\sum_{i=1}^{n} (1 - y_i f(x_i))_+ + \\lambda ||f||^2_{\\mathbb{H}}\n",
    "\\end{align}\n",
    "\n",
    "There is a kink in the function so this is non-differentiable. Can rewrite the optimization problem using slack variables.\n",
    "\n",
    "\\begin{align}\n",
    "    \\underset{f \\in \\mathbb{H}}{argmin} \\frac{1}{n} \\sum_{i=1}^{n}  \\zeta_i + \\lambda ||f||^2_{\\mathbb{H}}\n",
    "\\end{align}\n",
    "\n",
    "subject to:\n",
    "\\begin{align}\n",
    "\\zeta_i \\geq 1 - y_i f(x_i) \\quad i = 1, \\dots, n \\\\\n",
    "\\zeta_i \\geq 0 \\quad i = 1, \\dots, n\n",
    "\\end{align}\n",
    "\n",
    "We need something called **Representer Theorem**. This tells us that the solutions to some regularization functionals in high or infinite dimensional spaces lie in finite dimensional subspaces spanned by the representers of the data. Can reduce the computationally cumbersome or infeasible problems in HD spaces to optimization problems on the scalar co-efficients. In this case we substitute in \n",
    "\n",
    "$$f^*(x) = \\sum_{i=1}^n c_i K(x, x_i)$$\n",
    "\n",
    "To obtain a constrained quadratic programming problem\n",
    "\n",
    "\\begin{align}\n",
    "    \\underset{c \\in \\mathbb{R}^n, \\zeta \\in \\mathbb{R}^n}{argmin} \\frac{1}{n} \\sum_{i=1}^{n} \\zeta_i + \\lambda c^T \\mathbf{K}c\n",
    "\\end{align}\n",
    "\n",
    "subject to: \\begin{align}\\zeta_i \\geq 1 - y_i \\sum_{j=1}^n c_j K(x_i, x_j) \\quad i = 1, \\dots, n \\\\\n",
    "\\zeta_i \\geq 0 \\quad i = 1, \\dots, n \\end{align}\n",
    "\n",
    "Adding an unregularized bias term in order to obtain the **primal** SVM (primal refers to the form of SVM. This is preferred when we don't need to apply the kernel trick to the data and the data set is large but the dimensions of each data point is small. Dual form is preferred when data has huge dimension (many features) and we need to apply kernel techniques.)\n",
    "\n",
    "\\begin{align}\n",
    "    \\underset{c \\in \\mathbb{R}^n, b \\in \\mathbb{R}, \\zeta \\in \\mathbb{R}^n}{argmin} \\frac{1}{n} \\sum_{i=1}^{n} \\zeta_i + \\lambda c^T \\mathbf{K}c\n",
    "\\end{align}\n",
    "\n",
    "subject to: \\begin{align}\\zeta_i \\geq 1 - y_i (\\sum_{j=1}^n c_j K(x_i, x_j) + b) \\quad i = 1, \\dots, n \\\\\n",
    "\\zeta_i \\geq 0 \\quad i = 1, \\dots, n \\end{align}\n",
    "\n",
    "Standard Notation:\n",
    "We use a parameter C to control regularization instead of $\\lambda$\n",
    "\n",
    "$$C = \\frac{1}{2\\lambda n} $$\n",
    "\n",
    "The regularization problem then becomes\n",
    "\n",
    "\\begin{align}\n",
    "    \\underset{f \\in \\mathbb{H}}{argmin} C \\sum_{i=1}^{n} V(y_i, f(x_i) + \\frac{1}{2}||f||^2_{\\mathbb{H}})\n",
    "\\end{align}\n",
    "\n",
    "Like $\\lambda$, the parameter C also controls the tradeoff between classification accuracy and the norm of the function. Primal problem then becomes:\n",
    "\n",
    "\\begin{align}\n",
    "    \\underset{c \\in \\mathbb{R}^n, b \\in \\mathbb{R}, \\zeta \\in \\mathbb{R}^n}{argmin} C \\sum_{i=1}^{n} \\zeta_i + \\frac{1}{2} c^T \\mathbf{K}c\n",
    "\\end{align}\n",
    "\n",
    "subject to: \\begin{align}\\zeta_i \\geq 1 - y_i (\\sum_{j=1}^n c_j K(x_i, x_j) + b) \\quad i = 1, \\dots, n \\\\\n",
    "\\zeta_i \\geq 0 \\quad i = 1, \\dots, n \\end{align}\n",
    "\n",
    "This is a constrained optimization problem. We can then calculate the Lagrangian in order to optimize this.\n",
    "\n",
    "**Conclusion**\n",
    "\n",
    "Dual variables are then associated to each primal constraint. The basic idea is then to solve the dual problem to find optimal $\\alpha$'s and use them to find b and c. $\\alpha$ tells us:\n",
    "- c and b\n",
    "- the identities of the misclassified points\n",
    "\n",
    "Hence, SVM is a regularization problem using the hinge loss\n",
    "\n",
    "\\begin{align}\n",
    "    \\underset{f \\in \\mathbb{H}}{argmin} \\frac{1}{n} \\sum_{i=1}^{n} (1 - y_i f(x_i))_+ + \\lambda ||f||^2_{\\mathbb{H}}\n",
    "\\end{align}\n",
    "\n",
    "- Solving SVM means solving the constrained quadratic program\n",
    "- Solutions can be *sparse*, some coefficients are zero\n",
    "- nonzero coefficients correspond to the points that aren't classified correctly enough. \n",
    "- values for C determine how many outliers are incorporated into the SVM. "
   ]
  },
  {
   "cell_type": "code",
   "execution_count": 1,
   "id": "52ffecf3",
   "metadata": {
    "scrolled": true
   },
   "outputs": [
    {
     "name": "stdout",
     "output_type": "stream",
     "text": [
      "Requirement already satisfied: mathjax in /Users/Ivan/opt/anaconda3/lib/python3.9/site-packages (0.1.2)\r\n"
     ]
    }
   ],
   "source": [
    "!pip install mathjax"
   ]
  },
  {
   "cell_type": "markdown",
   "id": "d4426bac",
   "metadata": {},
   "source": [
    "### Problem 2: How do we use Platt scaling to obtain probabilities from an SVM?\n",
    "\n",
    "Firstly,  what is **Platt Scaling** (Platt 1999)?\n",
    "This is a way of transforming the outputs of a classification model into a probability distribution over classes. One simply fits a univariate logistic regression for the purpose to predict outputs. The predicted scores are then used as the unput to the logistic regression model, and the corresponding labels are used as the truth.\n",
    "\n",
    "In all, if we care about the predicted scores and intend to use the scores as probabilities, calibration such as **Platt Scaling** should be used. We use logistic regression on the SVM scores by fitting an additional cross-validation to the training set.\n",
    "\n",
    "This would **not** change the ordering - would not affect the bias/variance. Thi would give it a different interpretation into a probability"
   ]
  },
  {
   "cell_type": "markdown",
   "id": "edee8522",
   "metadata": {},
   "source": [
    "### Problem 3: Three different ways to extend SVMs with more than two classes. \n",
    "This is then the multiclass problem in Machine Learning. I will discuss three types of multiclass extensions for SVMs. \n",
    "\n",
    "- One vs All (OVA) classifier\n",
    "- One vs One (OVO)\n",
    "- Multi-Class SVM (Crammer and Singer 2002)\n",
    "\n",
    "In this case, we will be using an OVA classifier for the remainder of the assignment. But first we can discuss the three different multiclass approaches:\n",
    "\n",
    "#### One-vs-All\n",
    "We fit K SVMs, each time comparing one of the K classes to the remaining K-1 classes. We assign the observation to the class for which the parameters are the largest, as this amounts to a high level of confidence that the test observation belongs to the kth class rather than to any of the other classes.\n",
    "\n",
    "One binary classification problem per class. The problem is that you always have an imbalanced data set.\n",
    "\n",
    "#### One-vs-One\n",
    "We construct K choose 2 SVMs, each of which compares a pair of classes. We classify a test observation using each of the (k 2) classifiers, and tally the number of times tht the test observation is assigned to each K classes. Final clssification is performed by assignng the test observation to the class to which it was most frequently assigned in these (k 2) pairwise classifications. \n",
    "\n",
    "One binary classification problem per each pair of classes. This ignores the other classes. If you have a lot of classes, this would be computationally expensive.\n",
    "\n",
    "#### mSVM\n",
    "Firstly need to consider the margin in multiclass problems. In order to optimize this, we need to consider this as a constrained optimization problem with quadratic objective function. This notion of margin can be obtained through a direct method for training multiclass predictors. This technique doesn't require us to hot-encode!\n",
    "\n",
    "Using the dual of the optimization problem, are able to incorporate kernels with a compact set of constraints and decompose the dual problem into multiple optimization problems of reduced size. \n",
    "\n",
    "#### Directed Acyclic Graph SVM (DAG-SVM)\n",
    "iterated elimination of clases. Starts with OVO classifier. N classes means N-1 SVM classifiers are evaluated from possible. When does the order matter? Does it matter to choose the largest first? Or one that explains the most variance?\n"
   ]
  },
  {
   "cell_type": "markdown",
   "id": "add4a235",
   "metadata": {},
   "source": [
    "### Problem 4: Research how to draw a ROC curve for the multiclass problem\n",
    "\n",
    "Brief Review: What is an **ROC curve**? Most generally, provides a simple way to summarize all the information your model provides. X-axis holds false positives, and Y-axis holds true positives. Theoretically, you want to be further up and left.\n",
    "\n",
    "For the multiclass problem: it is necessary to binarize the output. one ROC curve can be drawn per label, but one can also draw a ROC curve by considering each element of the label indicator matrix as a binary prediction (micro-averaging). \n",
    "\n",
    "If you are at a point in the ROC curve, it doesn't matter whether you have ordinal data. Can be used to compare how often your true positive ratio is correct for a specific point - done for random variables. For multiclass SVM, we would do one vs all in order to plot the ROC curve."
   ]
  },
  {
   "cell_type": "markdown",
   "id": "0abab465",
   "metadata": {},
   "source": [
    "### Problem 5: Use scenarios 2 of ESL II as a multi-class problem\n",
    "First, we need to upload the required items and change the Y variable into a multiclass problem"
   ]
  },
  {
   "cell_type": "code",
   "execution_count": 1,
   "id": "71a032dc",
   "metadata": {
    "scrolled": false
   },
   "outputs": [
    {
     "data": {
      "image/png": "[encoded data removed]",
      "text/plain": [
       "<Figure size 432x288 with 1 Axes>"
      ]
     },
     "metadata": {
      "needs_background": "light"
     },
     "output_type": "display_data"
    },
    {
     "ename": "ValueError",
     "evalue": "all the input array dimensions for the concatenation axis must match exactly, but along dimension 0, the array at index 0 has size 420 and the array at index 1 has size 405",
     "output_type": "error",
     "traceback": [
      "\u001b[0;31m---------------------------------------------------------------------------\u001b[0m",
      "\u001b[0;31mValueError\u001b[0m                                Traceback (most recent call last)",
      "Input \u001b[0;32mIn [1]\u001b[0m, in \u001b[0;36m<cell line: 74>\u001b[0;34m()\u001b[0m\n\u001b[1;32m     70\u001b[0m \u001b[38;5;28;01mfor\u001b[39;00m mu \u001b[38;5;129;01min\u001b[39;00m mean_all:\n\u001b[1;32m     71\u001b[0m     X2 \u001b[38;5;241m=\u001b[39m np\u001b[38;5;241m.\u001b[39mvstack(\n\u001b[1;32m     72\u001b[0m         [X2, np\u001b[38;5;241m.\u001b[39mrandom\u001b[38;5;241m.\u001b[39mmultivariate_normal(mu, \u001b[38;5;241m0.1\u001b[39m \u001b[38;5;241m*\u001b[39m np\u001b[38;5;241m.\u001b[39meye(\u001b[38;5;241m2\u001b[39m), \u001b[38;5;28mint\u001b[39m(\u001b[38;5;28mround\u001b[39m(n_data_points \u001b[38;5;241m/\u001b[39m \u001b[38;5;241m10\u001b[39m)))])\n\u001b[0;32m---> 74\u001b[0m data_scenario2 \u001b[38;5;241m=\u001b[39m pd\u001b[38;5;241m.\u001b[39mDataFrame(data\u001b[38;5;241m=\u001b[39m\u001b[43mnp\u001b[49m\u001b[38;5;241;43m.\u001b[39;49m\u001b[43mconcatenate\u001b[49m\u001b[43m(\u001b[49m\u001b[43m(\u001b[49m\u001b[43mX2\u001b[49m\u001b[43m,\u001b[49m\u001b[43m \u001b[49m\u001b[43mdata_y\u001b[49m\u001b[43m)\u001b[49m\u001b[43m,\u001b[49m\u001b[43m \u001b[49m\u001b[38;5;241;43m1\u001b[39;49m\u001b[43m)\u001b[49m, columns\u001b[38;5;241m=\u001b[39m[\u001b[38;5;124m'\u001b[39m\u001b[38;5;124mX1\u001b[39m\u001b[38;5;124m'\u001b[39m, \u001b[38;5;124m'\u001b[39m\u001b[38;5;124mX2\u001b[39m\u001b[38;5;124m'\u001b[39m, \u001b[38;5;124m'\u001b[39m\u001b[38;5;124mY\u001b[39m\u001b[38;5;124m'\u001b[39m])\n\u001b[1;32m     76\u001b[0m groups \u001b[38;5;241m=\u001b[39m data_scenario2\u001b[38;5;241m.\u001b[39mgroupby(\u001b[38;5;124m'\u001b[39m\u001b[38;5;124mY\u001b[39m\u001b[38;5;124m'\u001b[39m)\n\u001b[1;32m     78\u001b[0m \u001b[38;5;28;01mif\u001b[39;00m plot_graphs \u001b[38;5;241m==\u001b[39m \u001b[38;5;241m1\u001b[39m:\n",
      "File \u001b[0;32m<__array_function__ internals>:5\u001b[0m, in \u001b[0;36mconcatenate\u001b[0;34m(*args, **kwargs)\u001b[0m\n",
      "\u001b[0;31mValueError\u001b[0m: all the input array dimensions for the concatenation axis must match exactly, but along dimension 0, the array at index 0 has size 420 and the array at index 1 has size 405"
     ]
    }
   ],
   "source": [
    "import numpy as np\n",
    "import pandas as pd\n",
    "import matplotlib as plt\n",
    "import sklearn\n",
    "import seaborn as sns\n",
    "\n",
    "import matplotlib.image as pltimg\n",
    "# matplotlib.use('TkAgg')  # to open pictures in new window, currently saving them\n",
    "import matplotlib.pyplot as plt\n",
    "import matplotlib.image as pltimg\n",
    "from matplotlib.colors import ListedColormap\n",
    "\n",
    "from sklearn.model_selection import train_test_split # split the data into training and testing\n",
    "from sklearn.preprocessing import scale # scale and center data\n",
    "from sklearn.svm import SVC # creates support vector machine for classification\n",
    "from sklearn.model_selection import GridSearchCV # cross validation\n",
    "from sklearn.metrics import confusion_matrix # creates a confusion matrix\n",
    "from sklearn.metrics import plot_confusion_matrix # draws a confusion matrix\n",
    "from sklearn.metrics import accuracy_score\n",
    "from sklearn import svm\n",
    "from sklearn.metrics import roc_curve, auc\n",
    "###########################################\n",
    "\n",
    "mu1 = [0,1]\n",
    "mu2 = [2,3]\n",
    "mu3 = [3,4]\n",
    "n_data_points = 135\n",
    "plot_graphs = 1\n",
    "\n",
    "np.random.seed(42)\n",
    "xa = np.random.multivariate_normal(mu1, np.eye(2), n_data_points)\n",
    "ya = np.zeros(n_data_points)\n",
    "\n",
    "xb = np.random.multivariate_normal(mu2, np.eye(2), n_data_points)\n",
    "yb = np.ones(n_data_points)\n",
    "\n",
    "xc = np.random.multivariate_normal(mu3, np.eye(2), n_data_points)\n",
    "yc = [yb+1 for yb in yb]\n",
    "\n",
    "data_x = np.concatenate((xa, xb, xc))\n",
    "data_y = np.concatenate((ya, yb, yc)).reshape(-1, 1)\n",
    "\n",
    "data_scenario1 = pd.DataFrame(data=np.concatenate((data_x, data_y), 1), columns=['X1', 'X2', 'Y'])\n",
    "\n",
    "groups = data_scenario1.groupby('Y')\n",
    "\n",
    "if plot_graphs == 1:\n",
    "    fig, ax = plt.subplots()\n",
    "    for name, group in groups:\n",
    "        ax.plot(group['X1'], group['X2'], marker='o', linestyle='', alpha=.5, label=name)\n",
    "    ax.legend(loc=\"upper left\")\n",
    "    plt.savefig(\"Scenario1.png\")\n",
    "    plt.show()\n",
    "    \n",
    "###########################################\n",
    "\n",
    "n_groups = 10\n",
    "X2 = np.empty((0, 2))\n",
    "mean_all = np.random.multivariate_normal(mu1, np.eye(2), n_groups)\n",
    "for mu in mean_all:\n",
    "    X2 = np.vstack(\n",
    "        [X2, np.random.multivariate_normal(mu, 0.1 * np.eye(2), int(round(n_data_points / 10)))])\n",
    "\n",
    "mean_all = np.random.multivariate_normal(mu2, np.eye(2), n_groups)\n",
    "for mu in mean_all:\n",
    "    X2 = np.vstack(\n",
    "        [X2, np.random.multivariate_normal(mu, 0.1 * np.eye(2), int(round(n_data_points / 10)))])\n",
    "\n",
    "mean_all = np.random.multivariate_normal(mu3, np.eye(2), n_groups)\n",
    "for mu in mean_all:\n",
    "    X2 = np.vstack(\n",
    "        [X2, np.random.multivariate_normal(mu, 0.1 * np.eye(2), int(round(n_data_points / 10)))])\n",
    "    \n",
    "data_scenario2 = pd.DataFrame(data=np.concatenate((X2, data_y), 1), columns=['X1', 'X2', 'Y'])\n",
    "\n",
    "groups = data_scenario2.groupby('Y')\n",
    "\n",
    "if plot_graphs == 1:\n",
    "    fig, ax = plt.subplots()\n",
    "    for name, group in groups:\n",
    "        ax.plot(group['X1'], group['X2'], marker='o', linestyle='', alpha=.5, label=name)\n",
    "    ax.legend(loc=\"upper left\")\n",
    "    plt.savefig(\"Scenario2.png\")\n",
    "    plt.show()\n"
   ]
  },
  {
   "cell_type": "markdown",
   "id": "9f65fb12",
   "metadata": {},
   "source": [
    "We will only focus on `data_scenario2` for this exercise."
   ]
  },
  {
   "cell_type": "markdown",
   "id": "dbc68c1e",
   "metadata": {},
   "source": [
    "#### Splitting into Dependent and Independent variables:"
   ]
  },
  {
   "cell_type": "code",
   "execution_count": 3,
   "id": "65f69b65",
   "metadata": {},
   "outputs": [
    {
     "data": {
      "text/html": [
       "<div>\n",
       "<style scoped>\n",
       "    .dataframe tbody tr th:only-of-type {\n",
       "        vertical-align: middle;\n",
       "    }\n",
       "\n",
       "    .dataframe tbody tr th {\n",
       "        vertical-align: top;\n",
       "    }\n",
       "\n",
       "    .dataframe thead th {\n",
       "        text-align: right;\n",
       "    }\n",
       "</style>\n",
       "<table border=\"1\" class=\"dataframe\">\n",
       "  <thead>\n",
       "    <tr style=\"text-align: right;\">\n",
       "      <th></th>\n",
       "      <th>X1</th>\n",
       "      <th>X2</th>\n",
       "    </tr>\n",
       "  </thead>\n",
       "  <tbody>\n",
       "    <tr>\n",
       "      <th>0</th>\n",
       "      <td>-1.035198</td>\n",
       "      <td>0.495316</td>\n",
       "    </tr>\n",
       "    <tr>\n",
       "      <th>1</th>\n",
       "      <td>-0.325984</td>\n",
       "      <td>0.282068</td>\n",
       "    </tr>\n",
       "    <tr>\n",
       "      <th>2</th>\n",
       "      <td>-1.214566</td>\n",
       "      <td>0.405935</td>\n",
       "    </tr>\n",
       "    <tr>\n",
       "      <th>3</th>\n",
       "      <td>-0.775238</td>\n",
       "      <td>-0.107339</td>\n",
       "    </tr>\n",
       "    <tr>\n",
       "      <th>4</th>\n",
       "      <td>-1.735645</td>\n",
       "      <td>0.183407</td>\n",
       "    </tr>\n",
       "  </tbody>\n",
       "</table>\n",
       "</div>"
      ],
      "text/plain": [
       "         X1        X2\n",
       "0 -1.035198  0.495316\n",
       "1 -0.325984  0.282068\n",
       "2 -1.214566  0.405935\n",
       "3 -0.775238 -0.107339\n",
       "4 -1.735645  0.183407"
      ]
     },
     "execution_count": 3,
     "metadata": {},
     "output_type": "execute_result"
    }
   ],
   "source": [
    "X = data_scenario2.drop('Y', axis=1).copy()\n",
    "X.head()"
   ]
  },
  {
   "cell_type": "code",
   "execution_count": 4,
   "id": "751a7c22",
   "metadata": {},
   "outputs": [
    {
     "data": {
      "text/plain": [
       "0    0.0\n",
       "1    0.0\n",
       "2    0.0\n",
       "3    0.0\n",
       "4    0.0\n",
       "Name: Y, dtype: float64"
      ]
     },
     "execution_count": 4,
     "metadata": {},
     "output_type": "execute_result"
    }
   ],
   "source": [
    "y = data_scenario2['Y'].copy()\n",
    "y.head()"
   ]
  },
  {
   "cell_type": "markdown",
   "id": "dbea92bd",
   "metadata": {},
   "source": [
    "Lets perform cross validation in order to avoid **Data Leakage**. This occurs when information about the training data set corrupts or influences the testing data set."
   ]
  },
  {
   "cell_type": "markdown",
   "id": "30cdb6f8",
   "metadata": {},
   "source": [
    "#### Building the SVM\n"
   ]
  },
  {
   "cell_type": "markdown",
   "id": "28a9de6d",
   "metadata": {},
   "source": [
    "The **Radial Basis Function** that we will use with our SVM assumes that the data are centered and scaled. In other words, each column should have mean = 0 and std. dev = 1. We need to do this to both the training and testing data sets.\n",
    "\n",
    "**NOTE**: we split the data into training and testing and then scale them separately in order to avoid **DATA LEAKAGE**."
   ]
  },
  {
   "cell_type": "code",
   "execution_count": 5,
   "id": "008aee75",
   "metadata": {},
   "outputs": [],
   "source": [
    "X_train, X_test, y_train, y_test = train_test_split(X, y, random_state=42)\n",
    "X_train_scaled = scale(X_train)\n",
    "X_test_scaled = scale(X_test)"
   ]
  },
  {
   "cell_type": "code",
   "execution_count": 6,
   "id": "4b3579f9",
   "metadata": {},
   "outputs": [
    {
     "data": {
      "text/plain": [
       "SVC(kernel='linear', random_state=42)"
      ]
     },
     "execution_count": 6,
     "metadata": {},
     "output_type": "execute_result"
    }
   ],
   "source": [
    "clf_svm = SVC(kernel='linear', random_state=42)\n",
    "clf_svm.fit(X_train_scaled, y_train)"
   ]
  },
  {
   "cell_type": "markdown",
   "id": "44e5b117",
   "metadata": {},
   "source": [
    "Ok we've built an SVM for classification. Lets see how it performs on the **Testing Dataset** and draw the confusion matrix"
   ]
  },
  {
   "cell_type": "code",
   "execution_count": 7,
   "id": "9d76bf57",
   "metadata": {
    "scrolled": true
   },
   "outputs": [
    {
     "name": "stdout",
     "output_type": "stream",
     "text": [
      "SVM obtains an accuracy of 0.803 for the given data set\n"
     ]
    }
   ],
   "source": [
    "y_pred = clf_svm.predict(X_test_scaled)\n",
    "print(f'SVM obtains an accuracy of {accuracy_score(y_test, y_pred).round(3)} for the given data set')"
   ]
  },
  {
   "cell_type": "code",
   "execution_count": 8,
   "id": "bd46a28b",
   "metadata": {
    "scrolled": true
   },
   "outputs": [
    {
     "data": {
      "image/png": "[encoded data removed]",
      "text/plain": [
       "<Figure size 432x288 with 2 Axes>"
      ]
     },
     "metadata": {
      "needs_background": "light"
     },
     "output_type": "display_data"
    }
   ],
   "source": [
    "cf_matrix = confusion_matrix(y_test, y_pred)\n",
    "\n",
    "ax = sns.heatmap(cf_matrix, annot=True)\n",
    "\n",
    "ax.set_title('Confusion Matrix');\n",
    "ax.set_xlabel('\\nPredicted Values')\n",
    "ax.set_ylabel('Actual Values');\n",
    "\n",
    "ax.xaxis.set_ticklabels(['0','1', '2'])\n",
    "ax.yaxis.set_ticklabels(['0','1', '2'])\n",
    "\n",
    "## Display the visualization of the Confusion Matrix.\n",
    "\n",
    "\n",
    "plt.show()\n"
   ]
  },
  {
   "cell_type": "markdown",
   "id": "8772ac43",
   "metadata": {},
   "source": [
    "Create the meshgrid for plotting"
   ]
  },
  {
   "cell_type": "code",
   "execution_count": 9,
   "id": "2c1c5aa8",
   "metadata": {},
   "outputs": [],
   "source": [
    "xx, yy = np.meshgrid(\n",
    "    np.arange(X2[:, 0].min() - 1, X2[:, 0].max() + 1, 0.5),\n",
    "    np.arange(X2[:, 1].min() - 1, X2[:, 1].max() + 1, 0.5))\n",
    "Z = clf_svm.predict(np.c_[xx.ravel(), yy.ravel()])\n",
    "Z = Z.reshape(xx.shape)"
   ]
  },
  {
   "cell_type": "markdown",
   "id": "d9a43dba",
   "metadata": {},
   "source": [
    "Now we actually plot the thing"
   ]
  },
  {
   "cell_type": "code",
   "execution_count": 10,
   "id": "1982d0de",
   "metadata": {
    "scrolled": true
   },
   "outputs": [
    {
     "data": {
      "image/png": "[encoded data removed]",
      "text/plain": [
       "<Figure size 432x288 with 1 Axes>"
      ]
     },
     "metadata": {
      "needs_background": "light"
     },
     "output_type": "display_data"
    }
   ],
   "source": [
    "plt.scatter(X2[:,0], X2[:, 1], color='r')\n",
    "plt.scatter(X2[:,0], X2[:, 1], color='b')\n",
    "plt.scatter(X2[:,0], X2[:, 1], color='y')\n",
    "plt.contourf(xx, yy, Z, cmap=plt.cm.coolwarm, alpha=0.8)\n",
    "plt.title(\"SVM With Radial Kernel and Three Labels (0, 1, 2)\")\n",
    "plt.show()"
   ]
  },
  {
   "cell_type": "markdown",
   "id": "e7194aef",
   "metadata": {},
   "source": [
    "### Problem 6: Relation between SVM and LDA/FDA\n",
    "\n",
    "Firstly, what is Linear Discriminant analysis (LDA)?\n",
    "Say we have some overlap with our data. Linear Discriminant Analysis focuses on *maximizing* separability among known categories. This is also considered a **dimensionality reduction technique**.\n",
    "\n",
    "LDA uses information from both the features to create a new axis which in turn minimizes the variance and maximizes the class distance of the two variables.\n",
    "\n",
    "#### The difference between SVM and LDA?\n",
    "They both seem to arrive to similar ideas. The biggest difference seems to be that LDA assumes that data is Normally Distributed. LDA is one of the best discriminators in the case where all assumptions are satisfied due to its simplicity in decision rules, low dimensional views on the data, and low variance.\n",
    "\n",
    "LDA performs poorly in cases of nonlinear decision boundaries (fixed with QDA), assumptions with regard to the single prototype (class centroid) is insufficient, and correlated predictors.\n",
    "\n",
    "SVM is an optimization problem while LDA has an analytical solution. SVM can make use of kernels in order to transform SVM classifier from linear to non-linear classification. LDA can also make use of kernel - could then be used as FDA\n",
    "\n",
    "LDA makes use of the *entire* data set (somewhat prone to outliers). SVM is best used through a subset of the dataset.\n",
    "\n"
   ]
  },
  {
   "cell_type": "markdown",
   "id": "d4d21a8a",
   "metadata": {},
   "source": [
    "### Problem 7: How can SVM be used for regression problems?\n",
    "\n",
    "Following section 12.3.6 of ESL:\n",
    "Have the regression model \n",
    "$$f(x) = x' \\beta + \\beta_0$$\n",
    "\n",
    "We estimate $\\beta$ by minimizing\n",
    "\n",
    "$$H(\\beta, \\beta_0) = \\sum_{i = 1}^N V(y_i - f(x_i)) + \\frac{\\lambda}{2} ||\\beta||^2$$\n",
    "\n",
    "where\n",
    "\n",
    "V_e(r) = \n",
    "        \\begin{array}{ll}\n",
    "            0 & \\quad if |r| < 0 \\\\\n",
    "            |r| - \\epsilon & \\quad otherwise\n",
    "        \\end{array}\n",
    "\n",
    "\"error insensitive\"\n",
    "\n",
    "Solution function has the form \n",
    "\n",
    "$$\\hat{\\beta} = \\sum_{i=1}^N (\\hat{\\alpha}_i^* - \\hat{\\alpha}_i)x_i$$\n",
    "\n",
    "$$\\hat{f}(x) = \\sum_{i=1}^N(\\hat{\\alpha}_i^* - \\hat{\\alpha}_i)<x,x_i> + \\beta_0$$\n",
    "\n",
    "Due to the nature of the constraints, typically only a subset of the solution values $(\\hat{\\alpha}_i^* - \\hat{\\alpha}_i)$ are nonzero, and the associated data values are called support vectors. \n",
    "\n",
    "In simple regression, the idea is to minimize the error rate while in SVR the idea is to fit the error inside a certain threshold which means, work of SVR is to approximate the best value within a given margin called ε- tube."
   ]
  },
  {
   "cell_type": "markdown",
   "id": "441d910c",
   "metadata": {},
   "source": [
    "### Problem 8: Perform an analysis for the Spam data set using SVM and logistic regressions\n",
    "\n",
    "We will implement an SVM then perform logistic regression in order to transform the outputs into a probability scaling. We will begin by applying the SVM"
   ]
  },
  {
   "cell_type": "markdown",
   "id": "45edadfd",
   "metadata": {},
   "source": [
    "First we load the dataset"
   ]
  },
  {
   "cell_type": "code",
   "execution_count": 11,
   "id": "e30ade0a",
   "metadata": {},
   "outputs": [
    {
     "data": {
      "text/html": [
       "<div>\n",
       "<style scoped>\n",
       "    .dataframe tbody tr th:only-of-type {\n",
       "        vertical-align: middle;\n",
       "    }\n",
       "\n",
       "    .dataframe tbody tr th {\n",
       "        vertical-align: top;\n",
       "    }\n",
       "\n",
       "    .dataframe thead th {\n",
       "        text-align: right;\n",
       "    }\n",
       "</style>\n",
       "<table border=\"1\" class=\"dataframe\">\n",
       "  <thead>\n",
       "    <tr style=\"text-align: right;\">\n",
       "      <th></th>\n",
       "      <th>Unnamed: 0</th>\n",
       "      <th>make</th>\n",
       "      <th>address</th>\n",
       "      <th>all</th>\n",
       "      <th>num3d</th>\n",
       "      <th>our</th>\n",
       "      <th>over</th>\n",
       "      <th>remove</th>\n",
       "      <th>internet</th>\n",
       "      <th>order</th>\n",
       "      <th>...</th>\n",
       "      <th>charSemicolon</th>\n",
       "      <th>charRoundbracket</th>\n",
       "      <th>charSquarebracket</th>\n",
       "      <th>charExclamation</th>\n",
       "      <th>charDollar</th>\n",
       "      <th>charHash</th>\n",
       "      <th>capitalAve</th>\n",
       "      <th>capitalLong</th>\n",
       "      <th>capitalTotal</th>\n",
       "      <th>type</th>\n",
       "    </tr>\n",
       "  </thead>\n",
       "  <tbody>\n",
       "    <tr>\n",
       "      <th>0</th>\n",
       "      <td>1</td>\n",
       "      <td>0.00</td>\n",
       "      <td>0.64</td>\n",
       "      <td>0.64</td>\n",
       "      <td>0.0</td>\n",
       "      <td>0.32</td>\n",
       "      <td>0.00</td>\n",
       "      <td>0.00</td>\n",
       "      <td>0.00</td>\n",
       "      <td>0.00</td>\n",
       "      <td>...</td>\n",
       "      <td>0.00</td>\n",
       "      <td>0.000</td>\n",
       "      <td>0.0</td>\n",
       "      <td>0.778</td>\n",
       "      <td>0.000</td>\n",
       "      <td>0.000</td>\n",
       "      <td>3.756</td>\n",
       "      <td>61</td>\n",
       "      <td>278</td>\n",
       "      <td>spam</td>\n",
       "    </tr>\n",
       "    <tr>\n",
       "      <th>1</th>\n",
       "      <td>2</td>\n",
       "      <td>0.21</td>\n",
       "      <td>0.28</td>\n",
       "      <td>0.50</td>\n",
       "      <td>0.0</td>\n",
       "      <td>0.14</td>\n",
       "      <td>0.28</td>\n",
       "      <td>0.21</td>\n",
       "      <td>0.07</td>\n",
       "      <td>0.00</td>\n",
       "      <td>...</td>\n",
       "      <td>0.00</td>\n",
       "      <td>0.132</td>\n",
       "      <td>0.0</td>\n",
       "      <td>0.372</td>\n",
       "      <td>0.180</td>\n",
       "      <td>0.048</td>\n",
       "      <td>5.114</td>\n",
       "      <td>101</td>\n",
       "      <td>1028</td>\n",
       "      <td>spam</td>\n",
       "    </tr>\n",
       "    <tr>\n",
       "      <th>2</th>\n",
       "      <td>3</td>\n",
       "      <td>0.06</td>\n",
       "      <td>0.00</td>\n",
       "      <td>0.71</td>\n",
       "      <td>0.0</td>\n",
       "      <td>1.23</td>\n",
       "      <td>0.19</td>\n",
       "      <td>0.19</td>\n",
       "      <td>0.12</td>\n",
       "      <td>0.64</td>\n",
       "      <td>...</td>\n",
       "      <td>0.01</td>\n",
       "      <td>0.143</td>\n",
       "      <td>0.0</td>\n",
       "      <td>0.276</td>\n",
       "      <td>0.184</td>\n",
       "      <td>0.010</td>\n",
       "      <td>9.821</td>\n",
       "      <td>485</td>\n",
       "      <td>2259</td>\n",
       "      <td>spam</td>\n",
       "    </tr>\n",
       "    <tr>\n",
       "      <th>3</th>\n",
       "      <td>4</td>\n",
       "      <td>0.00</td>\n",
       "      <td>0.00</td>\n",
       "      <td>0.00</td>\n",
       "      <td>0.0</td>\n",
       "      <td>0.63</td>\n",
       "      <td>0.00</td>\n",
       "      <td>0.31</td>\n",
       "      <td>0.63</td>\n",
       "      <td>0.31</td>\n",
       "      <td>...</td>\n",
       "      <td>0.00</td>\n",
       "      <td>0.137</td>\n",
       "      <td>0.0</td>\n",
       "      <td>0.137</td>\n",
       "      <td>0.000</td>\n",
       "      <td>0.000</td>\n",
       "      <td>3.537</td>\n",
       "      <td>40</td>\n",
       "      <td>191</td>\n",
       "      <td>spam</td>\n",
       "    </tr>\n",
       "    <tr>\n",
       "      <th>4</th>\n",
       "      <td>5</td>\n",
       "      <td>0.00</td>\n",
       "      <td>0.00</td>\n",
       "      <td>0.00</td>\n",
       "      <td>0.0</td>\n",
       "      <td>0.63</td>\n",
       "      <td>0.00</td>\n",
       "      <td>0.31</td>\n",
       "      <td>0.63</td>\n",
       "      <td>0.31</td>\n",
       "      <td>...</td>\n",
       "      <td>0.00</td>\n",
       "      <td>0.135</td>\n",
       "      <td>0.0</td>\n",
       "      <td>0.135</td>\n",
       "      <td>0.000</td>\n",
       "      <td>0.000</td>\n",
       "      <td>3.537</td>\n",
       "      <td>40</td>\n",
       "      <td>191</td>\n",
       "      <td>spam</td>\n",
       "    </tr>\n",
       "  </tbody>\n",
       "</table>\n",
       "<p>5 rows × 59 columns</p>\n",
       "</div>"
      ],
      "text/plain": [
       "   Unnamed: 0  make  address   all  num3d   our  over  remove  internet  \\\n",
       "0           1  0.00     0.64  0.64    0.0  0.32  0.00    0.00      0.00   \n",
       "1           2  0.21     0.28  0.50    0.0  0.14  0.28    0.21      0.07   \n",
       "2           3  0.06     0.00  0.71    0.0  1.23  0.19    0.19      0.12   \n",
       "3           4  0.00     0.00  0.00    0.0  0.63  0.00    0.31      0.63   \n",
       "4           5  0.00     0.00  0.00    0.0  0.63  0.00    0.31      0.63   \n",
       "\n",
       "   order  ...  charSemicolon  charRoundbracket  charSquarebracket  \\\n",
       "0   0.00  ...           0.00             0.000                0.0   \n",
       "1   0.00  ...           0.00             0.132                0.0   \n",
       "2   0.64  ...           0.01             0.143                0.0   \n",
       "3   0.31  ...           0.00             0.137                0.0   \n",
       "4   0.31  ...           0.00             0.135                0.0   \n",
       "\n",
       "   charExclamation  charDollar  charHash  capitalAve  capitalLong  \\\n",
       "0            0.778       0.000     0.000       3.756           61   \n",
       "1            0.372       0.180     0.048       5.114          101   \n",
       "2            0.276       0.184     0.010       9.821          485   \n",
       "3            0.137       0.000     0.000       3.537           40   \n",
       "4            0.135       0.000     0.000       3.537           40   \n",
       "\n",
       "   capitalTotal  type  \n",
       "0           278  spam  \n",
       "1          1028  spam  \n",
       "2          2259  spam  \n",
       "3           191  spam  \n",
       "4           191  spam  \n",
       "\n",
       "[5 rows x 59 columns]"
      ]
     },
     "execution_count": 11,
     "metadata": {},
     "output_type": "execute_result"
    }
   ],
   "source": [
    "df = pd.read_csv('spam.csv')\n",
    "df.head()"
   ]
  },
  {
   "cell_type": "markdown",
   "id": "ed673069",
   "metadata": {},
   "source": [
    "What we will also do is replace the \"type\" column with binary variables. 1 will indicate spam and 0 will indicate not spam."
   ]
  },
  {
   "cell_type": "code",
   "execution_count": 12,
   "id": "5542cc9f",
   "metadata": {
    "scrolled": true
   },
   "outputs": [
    {
     "data": {
      "text/html": [
       "<div>\n",
       "<style scoped>\n",
       "    .dataframe tbody tr th:only-of-type {\n",
       "        vertical-align: middle;\n",
       "    }\n",
       "\n",
       "    .dataframe tbody tr th {\n",
       "        vertical-align: top;\n",
       "    }\n",
       "\n",
       "    .dataframe thead th {\n",
       "        text-align: right;\n",
       "    }\n",
       "</style>\n",
       "<table border=\"1\" class=\"dataframe\">\n",
       "  <thead>\n",
       "    <tr style=\"text-align: right;\">\n",
       "      <th></th>\n",
       "      <th>Unnamed: 0</th>\n",
       "      <th>make</th>\n",
       "      <th>address</th>\n",
       "      <th>all</th>\n",
       "      <th>num3d</th>\n",
       "      <th>our</th>\n",
       "      <th>over</th>\n",
       "      <th>remove</th>\n",
       "      <th>internet</th>\n",
       "      <th>order</th>\n",
       "      <th>...</th>\n",
       "      <th>charSemicolon</th>\n",
       "      <th>charRoundbracket</th>\n",
       "      <th>charSquarebracket</th>\n",
       "      <th>charExclamation</th>\n",
       "      <th>charDollar</th>\n",
       "      <th>charHash</th>\n",
       "      <th>capitalAve</th>\n",
       "      <th>capitalLong</th>\n",
       "      <th>capitalTotal</th>\n",
       "      <th>type_nonspam</th>\n",
       "    </tr>\n",
       "  </thead>\n",
       "  <tbody>\n",
       "    <tr>\n",
       "      <th>0</th>\n",
       "      <td>1</td>\n",
       "      <td>0.00</td>\n",
       "      <td>0.64</td>\n",
       "      <td>0.64</td>\n",
       "      <td>0.0</td>\n",
       "      <td>0.32</td>\n",
       "      <td>0.00</td>\n",
       "      <td>0.00</td>\n",
       "      <td>0.00</td>\n",
       "      <td>0.00</td>\n",
       "      <td>...</td>\n",
       "      <td>0.00</td>\n",
       "      <td>0.000</td>\n",
       "      <td>0.0</td>\n",
       "      <td>0.778</td>\n",
       "      <td>0.000</td>\n",
       "      <td>0.000</td>\n",
       "      <td>3.756</td>\n",
       "      <td>61</td>\n",
       "      <td>278</td>\n",
       "      <td>0</td>\n",
       "    </tr>\n",
       "    <tr>\n",
       "      <th>1</th>\n",
       "      <td>2</td>\n",
       "      <td>0.21</td>\n",
       "      <td>0.28</td>\n",
       "      <td>0.50</td>\n",
       "      <td>0.0</td>\n",
       "      <td>0.14</td>\n",
       "      <td>0.28</td>\n",
       "      <td>0.21</td>\n",
       "      <td>0.07</td>\n",
       "      <td>0.00</td>\n",
       "      <td>...</td>\n",
       "      <td>0.00</td>\n",
       "      <td>0.132</td>\n",
       "      <td>0.0</td>\n",
       "      <td>0.372</td>\n",
       "      <td>0.180</td>\n",
       "      <td>0.048</td>\n",
       "      <td>5.114</td>\n",
       "      <td>101</td>\n",
       "      <td>1028</td>\n",
       "      <td>0</td>\n",
       "    </tr>\n",
       "    <tr>\n",
       "      <th>2</th>\n",
       "      <td>3</td>\n",
       "      <td>0.06</td>\n",
       "      <td>0.00</td>\n",
       "      <td>0.71</td>\n",
       "      <td>0.0</td>\n",
       "      <td>1.23</td>\n",
       "      <td>0.19</td>\n",
       "      <td>0.19</td>\n",
       "      <td>0.12</td>\n",
       "      <td>0.64</td>\n",
       "      <td>...</td>\n",
       "      <td>0.01</td>\n",
       "      <td>0.143</td>\n",
       "      <td>0.0</td>\n",
       "      <td>0.276</td>\n",
       "      <td>0.184</td>\n",
       "      <td>0.010</td>\n",
       "      <td>9.821</td>\n",
       "      <td>485</td>\n",
       "      <td>2259</td>\n",
       "      <td>0</td>\n",
       "    </tr>\n",
       "    <tr>\n",
       "      <th>3</th>\n",
       "      <td>4</td>\n",
       "      <td>0.00</td>\n",
       "      <td>0.00</td>\n",
       "      <td>0.00</td>\n",
       "      <td>0.0</td>\n",
       "      <td>0.63</td>\n",
       "      <td>0.00</td>\n",
       "      <td>0.31</td>\n",
       "      <td>0.63</td>\n",
       "      <td>0.31</td>\n",
       "      <td>...</td>\n",
       "      <td>0.00</td>\n",
       "      <td>0.137</td>\n",
       "      <td>0.0</td>\n",
       "      <td>0.137</td>\n",
       "      <td>0.000</td>\n",
       "      <td>0.000</td>\n",
       "      <td>3.537</td>\n",
       "      <td>40</td>\n",
       "      <td>191</td>\n",
       "      <td>0</td>\n",
       "    </tr>\n",
       "    <tr>\n",
       "      <th>4</th>\n",
       "      <td>5</td>\n",
       "      <td>0.00</td>\n",
       "      <td>0.00</td>\n",
       "      <td>0.00</td>\n",
       "      <td>0.0</td>\n",
       "      <td>0.63</td>\n",
       "      <td>0.00</td>\n",
       "      <td>0.31</td>\n",
       "      <td>0.63</td>\n",
       "      <td>0.31</td>\n",
       "      <td>...</td>\n",
       "      <td>0.00</td>\n",
       "      <td>0.135</td>\n",
       "      <td>0.0</td>\n",
       "      <td>0.135</td>\n",
       "      <td>0.000</td>\n",
       "      <td>0.000</td>\n",
       "      <td>3.537</td>\n",
       "      <td>40</td>\n",
       "      <td>191</td>\n",
       "      <td>0</td>\n",
       "    </tr>\n",
       "  </tbody>\n",
       "</table>\n",
       "<p>5 rows × 59 columns</p>\n",
       "</div>"
      ],
      "text/plain": [
       "   Unnamed: 0  make  address   all  num3d   our  over  remove  internet  \\\n",
       "0           1  0.00     0.64  0.64    0.0  0.32  0.00    0.00      0.00   \n",
       "1           2  0.21     0.28  0.50    0.0  0.14  0.28    0.21      0.07   \n",
       "2           3  0.06     0.00  0.71    0.0  1.23  0.19    0.19      0.12   \n",
       "3           4  0.00     0.00  0.00    0.0  0.63  0.00    0.31      0.63   \n",
       "4           5  0.00     0.00  0.00    0.0  0.63  0.00    0.31      0.63   \n",
       "\n",
       "   order  ...  charSemicolon  charRoundbracket  charSquarebracket  \\\n",
       "0   0.00  ...           0.00             0.000                0.0   \n",
       "1   0.00  ...           0.00             0.132                0.0   \n",
       "2   0.64  ...           0.01             0.143                0.0   \n",
       "3   0.31  ...           0.00             0.137                0.0   \n",
       "4   0.31  ...           0.00             0.135                0.0   \n",
       "\n",
       "   charExclamation  charDollar  charHash  capitalAve  capitalLong  \\\n",
       "0            0.778       0.000     0.000       3.756           61   \n",
       "1            0.372       0.180     0.048       5.114          101   \n",
       "2            0.276       0.184     0.010       9.821          485   \n",
       "3            0.137       0.000     0.000       3.537           40   \n",
       "4            0.135       0.000     0.000       3.537           40   \n",
       "\n",
       "   capitalTotal  type_nonspam  \n",
       "0           278             0  \n",
       "1          1028             0  \n",
       "2          2259             0  \n",
       "3           191             0  \n",
       "4           191             0  \n",
       "\n",
       "[5 rows x 59 columns]"
      ]
     },
     "execution_count": 12,
     "metadata": {},
     "output_type": "execute_result"
    }
   ],
   "source": [
    "df_encoded = pd.get_dummies(df, columns = ['type'])\n",
    "df_encoded.drop('type_spam', axis=1, inplace=True)\n",
    "df_encoded.head()"
   ]
  },
  {
   "cell_type": "markdown",
   "id": "673fd77d",
   "metadata": {},
   "source": [
    "We will also split the data into independent and dependent variables. "
   ]
  },
  {
   "cell_type": "code",
   "execution_count": 13,
   "id": "27483f25",
   "metadata": {},
   "outputs": [
    {
     "data": {
      "text/html": [
       "<div>\n",
       "<style scoped>\n",
       "    .dataframe tbody tr th:only-of-type {\n",
       "        vertical-align: middle;\n",
       "    }\n",
       "\n",
       "    .dataframe tbody tr th {\n",
       "        vertical-align: top;\n",
       "    }\n",
       "\n",
       "    .dataframe thead th {\n",
       "        text-align: right;\n",
       "    }\n",
       "</style>\n",
       "<table border=\"1\" class=\"dataframe\">\n",
       "  <thead>\n",
       "    <tr style=\"text-align: right;\">\n",
       "      <th></th>\n",
       "      <th>Unnamed: 0</th>\n",
       "      <th>make</th>\n",
       "      <th>address</th>\n",
       "      <th>all</th>\n",
       "      <th>num3d</th>\n",
       "      <th>our</th>\n",
       "      <th>over</th>\n",
       "      <th>remove</th>\n",
       "      <th>internet</th>\n",
       "      <th>order</th>\n",
       "      <th>...</th>\n",
       "      <th>conference</th>\n",
       "      <th>charSemicolon</th>\n",
       "      <th>charRoundbracket</th>\n",
       "      <th>charSquarebracket</th>\n",
       "      <th>charExclamation</th>\n",
       "      <th>charDollar</th>\n",
       "      <th>charHash</th>\n",
       "      <th>capitalAve</th>\n",
       "      <th>capitalLong</th>\n",
       "      <th>capitalTotal</th>\n",
       "    </tr>\n",
       "  </thead>\n",
       "  <tbody>\n",
       "    <tr>\n",
       "      <th>0</th>\n",
       "      <td>1</td>\n",
       "      <td>0.00</td>\n",
       "      <td>0.64</td>\n",
       "      <td>0.64</td>\n",
       "      <td>0.0</td>\n",
       "      <td>0.32</td>\n",
       "      <td>0.00</td>\n",
       "      <td>0.00</td>\n",
       "      <td>0.00</td>\n",
       "      <td>0.00</td>\n",
       "      <td>...</td>\n",
       "      <td>0.0</td>\n",
       "      <td>0.00</td>\n",
       "      <td>0.000</td>\n",
       "      <td>0.0</td>\n",
       "      <td>0.778</td>\n",
       "      <td>0.000</td>\n",
       "      <td>0.000</td>\n",
       "      <td>3.756</td>\n",
       "      <td>61</td>\n",
       "      <td>278</td>\n",
       "    </tr>\n",
       "    <tr>\n",
       "      <th>1</th>\n",
       "      <td>2</td>\n",
       "      <td>0.21</td>\n",
       "      <td>0.28</td>\n",
       "      <td>0.50</td>\n",
       "      <td>0.0</td>\n",
       "      <td>0.14</td>\n",
       "      <td>0.28</td>\n",
       "      <td>0.21</td>\n",
       "      <td>0.07</td>\n",
       "      <td>0.00</td>\n",
       "      <td>...</td>\n",
       "      <td>0.0</td>\n",
       "      <td>0.00</td>\n",
       "      <td>0.132</td>\n",
       "      <td>0.0</td>\n",
       "      <td>0.372</td>\n",
       "      <td>0.180</td>\n",
       "      <td>0.048</td>\n",
       "      <td>5.114</td>\n",
       "      <td>101</td>\n",
       "      <td>1028</td>\n",
       "    </tr>\n",
       "    <tr>\n",
       "      <th>2</th>\n",
       "      <td>3</td>\n",
       "      <td>0.06</td>\n",
       "      <td>0.00</td>\n",
       "      <td>0.71</td>\n",
       "      <td>0.0</td>\n",
       "      <td>1.23</td>\n",
       "      <td>0.19</td>\n",
       "      <td>0.19</td>\n",
       "      <td>0.12</td>\n",
       "      <td>0.64</td>\n",
       "      <td>...</td>\n",
       "      <td>0.0</td>\n",
       "      <td>0.01</td>\n",
       "      <td>0.143</td>\n",
       "      <td>0.0</td>\n",
       "      <td>0.276</td>\n",
       "      <td>0.184</td>\n",
       "      <td>0.010</td>\n",
       "      <td>9.821</td>\n",
       "      <td>485</td>\n",
       "      <td>2259</td>\n",
       "    </tr>\n",
       "    <tr>\n",
       "      <th>3</th>\n",
       "      <td>4</td>\n",
       "      <td>0.00</td>\n",
       "      <td>0.00</td>\n",
       "      <td>0.00</td>\n",
       "      <td>0.0</td>\n",
       "      <td>0.63</td>\n",
       "      <td>0.00</td>\n",
       "      <td>0.31</td>\n",
       "      <td>0.63</td>\n",
       "      <td>0.31</td>\n",
       "      <td>...</td>\n",
       "      <td>0.0</td>\n",
       "      <td>0.00</td>\n",
       "      <td>0.137</td>\n",
       "      <td>0.0</td>\n",
       "      <td>0.137</td>\n",
       "      <td>0.000</td>\n",
       "      <td>0.000</td>\n",
       "      <td>3.537</td>\n",
       "      <td>40</td>\n",
       "      <td>191</td>\n",
       "    </tr>\n",
       "    <tr>\n",
       "      <th>4</th>\n",
       "      <td>5</td>\n",
       "      <td>0.00</td>\n",
       "      <td>0.00</td>\n",
       "      <td>0.00</td>\n",
       "      <td>0.0</td>\n",
       "      <td>0.63</td>\n",
       "      <td>0.00</td>\n",
       "      <td>0.31</td>\n",
       "      <td>0.63</td>\n",
       "      <td>0.31</td>\n",
       "      <td>...</td>\n",
       "      <td>0.0</td>\n",
       "      <td>0.00</td>\n",
       "      <td>0.135</td>\n",
       "      <td>0.0</td>\n",
       "      <td>0.135</td>\n",
       "      <td>0.000</td>\n",
       "      <td>0.000</td>\n",
       "      <td>3.537</td>\n",
       "      <td>40</td>\n",
       "      <td>191</td>\n",
       "    </tr>\n",
       "  </tbody>\n",
       "</table>\n",
       "<p>5 rows × 58 columns</p>\n",
       "</div>"
      ],
      "text/plain": [
       "   Unnamed: 0  make  address   all  num3d   our  over  remove  internet  \\\n",
       "0           1  0.00     0.64  0.64    0.0  0.32  0.00    0.00      0.00   \n",
       "1           2  0.21     0.28  0.50    0.0  0.14  0.28    0.21      0.07   \n",
       "2           3  0.06     0.00  0.71    0.0  1.23  0.19    0.19      0.12   \n",
       "3           4  0.00     0.00  0.00    0.0  0.63  0.00    0.31      0.63   \n",
       "4           5  0.00     0.00  0.00    0.0  0.63  0.00    0.31      0.63   \n",
       "\n",
       "   order  ...  conference  charSemicolon  charRoundbracket  charSquarebracket  \\\n",
       "0   0.00  ...         0.0           0.00             0.000                0.0   \n",
       "1   0.00  ...         0.0           0.00             0.132                0.0   \n",
       "2   0.64  ...         0.0           0.01             0.143                0.0   \n",
       "3   0.31  ...         0.0           0.00             0.137                0.0   \n",
       "4   0.31  ...         0.0           0.00             0.135                0.0   \n",
       "\n",
       "   charExclamation  charDollar  charHash  capitalAve  capitalLong  \\\n",
       "0            0.778       0.000     0.000       3.756           61   \n",
       "1            0.372       0.180     0.048       5.114          101   \n",
       "2            0.276       0.184     0.010       9.821          485   \n",
       "3            0.137       0.000     0.000       3.537           40   \n",
       "4            0.135       0.000     0.000       3.537           40   \n",
       "\n",
       "   capitalTotal  \n",
       "0           278  \n",
       "1          1028  \n",
       "2          2259  \n",
       "3           191  \n",
       "4           191  \n",
       "\n",
       "[5 rows x 58 columns]"
      ]
     },
     "execution_count": 13,
     "metadata": {},
     "output_type": "execute_result"
    }
   ],
   "source": [
    "X_spam = df_encoded.drop('type_nonspam', axis=1).copy() \n",
    "X_spam.head()"
   ]
  },
  {
   "cell_type": "code",
   "execution_count": 14,
   "id": "e5760426",
   "metadata": {
    "scrolled": false
   },
   "outputs": [
    {
     "data": {
      "text/plain": [
       "0    0\n",
       "1    0\n",
       "2    0\n",
       "3    0\n",
       "4    0\n",
       "Name: type_nonspam, dtype: uint8"
      ]
     },
     "execution_count": 14,
     "metadata": {},
     "output_type": "execute_result"
    }
   ],
   "source": [
    "y_spam = df_encoded['type_nonspam'].copy()\n",
    "y_spam.head()"
   ]
  },
  {
   "cell_type": "markdown",
   "id": "eb173117",
   "metadata": {},
   "source": [
    "We split into a training and testing and then scale in order to use the rbf kernel"
   ]
  },
  {
   "cell_type": "code",
   "execution_count": 15,
   "id": "9bd485b0",
   "metadata": {},
   "outputs": [],
   "source": [
    "X_train_spam, X_test_spam, y_train_spam, y_test_spam = train_test_split(X_spam, y_spam, random_state=42)\n",
    "X_train_scaled_spam = scale(X_train_spam)\n",
    "X_test_scaled_spam = scale(X_test_spam)"
   ]
  },
  {
   "cell_type": "code",
   "execution_count": 16,
   "id": "82f03f2e",
   "metadata": {},
   "outputs": [
    {
     "data": {
      "text/plain": [
       "SVC(random_state=42)"
      ]
     },
     "execution_count": 16,
     "metadata": {},
     "output_type": "execute_result"
    }
   ],
   "source": [
    "clf_svm_spam = SVC(kernel = 'rbf', random_state=42)\n",
    "clf_svm_spam.fit(X_train_scaled_spam, y_train_spam)"
   ]
  },
  {
   "cell_type": "code",
   "execution_count": 22,
   "id": "e82b9fa9",
   "metadata": {},
   "outputs": [
    {
     "data": {
      "text/plain": [
       "<sklearn.metrics._plot.confusion_matrix.ConfusionMatrixDisplay at 0x7fa611166670>"
      ]
     },
     "execution_count": 22,
     "metadata": {},
     "output_type": "execute_result"
    },
    {
     "data": {
      "image/png": "[encoded data removed]",
      "text/plain": [
       "<Figure size 432x288 with 2 Axes>"
      ]
     },
     "metadata": {
      "needs_background": "light"
     },
     "output_type": "display_data"
    }
   ],
   "source": [
    "plot_confusion_matrix(clf_svm_spam,\n",
    "                     X_test_scaled_spam,\n",
    "                     y_test_spam,\n",
    "                     values_format='d',\n",
    "                     display_labels=['Not Spam', 'Spam'])"
   ]
  },
  {
   "cell_type": "code",
   "execution_count": 20,
   "id": "06eaba70",
   "metadata": {},
   "outputs": [
    {
     "name": "stdout",
     "output_type": "stream",
     "text": [
      "SVM obtains an accuracy of 0.983 for the given data set\n"
     ]
    }
   ],
   "source": [
    "y_pred_spam = clf_svm_spam.predict(X_test_scaled_spam)\n",
    "print(f'SVM obtains an accuracy of {accuracy_score(y_test_spam, y_pred_spam).round(3)} for the given data set')"
   ]
  },
  {
   "cell_type": "markdown",
   "id": "287a92b5",
   "metadata": {},
   "source": [
    "Now we can fit this to a logistic regression in order to obtain probabilities from the SVM. We will use **Platt Scaling**. "
   ]
  },
  {
   "cell_type": "code",
   "execution_count": null,
   "id": "7bdcb384",
   "metadata": {},
   "outputs": [],
   "source": []
  },
  {
   "cell_type": "markdown",
   "id": "7a1f1271",
   "metadata": {},
   "source": [
    "### Problem 9: How would we use SHAP in order to describe the SVM?\n",
    "How do we define **SHAP**? There is typically a tradeoff between *accuracy* and *interpretability* when dealing with machine learning models. SHAP assigns each feature an importance value for a particular prediction. Its novel components include:\n",
    "- the identification of a new class of additive feature importance measures\n",
    "- theoretical results showing there is a unique solution in this class with a set of desirable properties\n",
    "\n",
    "In other words, we have a *global interpretability* and a *local interpretability*. Global interpretability can show how much each predictor contributes, either positively or negatively, to the target variable. Local interpretability gives each observation a SHAP value which would theoretically increase its transparancy."
   ]
  },
  {
   "cell_type": "code",
   "execution_count": null,
   "id": "87e13672",
   "metadata": {},
   "outputs": [],
   "source": [
    "!pip install shap"
   ]
  },
  {
   "cell_type": "code",
   "execution_count": 23,
   "id": "b479cea4",
   "metadata": {},
   "outputs": [],
   "source": [
    "import shap"
   ]
  },
  {
   "cell_type": "code",
   "execution_count": 50,
   "id": "0314bb12",
   "metadata": {},
   "outputs": [],
   "source": [
    "fast_sample = shap.sample(X_train_scaled_spam, 100)"
   ]
  },
  {
   "cell_type": "code",
   "execution_count": 51,
   "id": "da16924c",
   "metadata": {},
   "outputs": [],
   "source": [
    "explainer = shap.KernelExplainer(clf_svm_spam.predict, fast_sample)"
   ]
  },
  {
   "cell_type": "code",
   "execution_count": 52,
   "id": "68c645e3",
   "metadata": {},
   "outputs": [
    {
     "ename": "AttributeError",
     "evalue": "'Kernel' object has no attribute 'masker'",
     "output_type": "error",
     "traceback": [
      "\u001b[0;31m---------------------------------------------------------------------------\u001b[0m",
      "\u001b[0;31mAttributeError\u001b[0m                            Traceback (most recent call last)",
      "\u001b[0;32m/var/folders/bk/vwbh8wcn0bdg18n5f30xdrf00000gn/T/ipykernel_3395/1263357518.py\u001b[0m in \u001b[0;36m<module>\u001b[0;34m\u001b[0m\n\u001b[0;32m----> 1\u001b[0;31m \u001b[0mshap_values\u001b[0m \u001b[0;34m=\u001b[0m \u001b[0mexplainer\u001b[0m\u001b[0;34m(\u001b[0m\u001b[0mX_train_scaled_spam\u001b[0m\u001b[0;34m)\u001b[0m\u001b[0;34m\u001b[0m\u001b[0;34m\u001b[0m\u001b[0m\n\u001b[0m",
      "\u001b[0;32m~/opt/anaconda3/lib/python3.9/site-packages/shap/explainers/_explainer.py\u001b[0m in \u001b[0;36m__call__\u001b[0;34m(self, max_evals, main_effects, error_bounds, batch_size, outputs, silent, *args, **kwargs)\u001b[0m\n\u001b[1;32m    205\u001b[0m         \u001b[0mstart_time\u001b[0m \u001b[0;34m=\u001b[0m \u001b[0mtime\u001b[0m\u001b[0;34m.\u001b[0m\u001b[0mtime\u001b[0m\u001b[0;34m(\u001b[0m\u001b[0;34m)\u001b[0m\u001b[0;34m\u001b[0m\u001b[0;34m\u001b[0m\u001b[0m\n\u001b[1;32m    206\u001b[0m \u001b[0;34m\u001b[0m\u001b[0m\n\u001b[0;32m--> 207\u001b[0;31m         \u001b[0;32mif\u001b[0m \u001b[0missubclass\u001b[0m\u001b[0;34m(\u001b[0m\u001b[0mtype\u001b[0m\u001b[0;34m(\u001b[0m\u001b[0mself\u001b[0m\u001b[0;34m.\u001b[0m\u001b[0mmasker\u001b[0m\u001b[0;34m)\u001b[0m\u001b[0;34m,\u001b[0m \u001b[0mmaskers\u001b[0m\u001b[0;34m.\u001b[0m\u001b[0mOutputComposite\u001b[0m\u001b[0;34m)\u001b[0m \u001b[0;32mand\u001b[0m \u001b[0mlen\u001b[0m\u001b[0;34m(\u001b[0m\u001b[0margs\u001b[0m\u001b[0;34m)\u001b[0m\u001b[0;34m==\u001b[0m\u001b[0;36m2\u001b[0m\u001b[0;34m:\u001b[0m\u001b[0;34m\u001b[0m\u001b[0;34m\u001b[0m\u001b[0m\n\u001b[0m\u001b[1;32m    208\u001b[0m             \u001b[0mself\u001b[0m\u001b[0;34m.\u001b[0m\u001b[0mmasker\u001b[0m\u001b[0;34m.\u001b[0m\u001b[0mmodel\u001b[0m \u001b[0;34m=\u001b[0m \u001b[0mmodels\u001b[0m\u001b[0;34m.\u001b[0m\u001b[0mTextGeneration\u001b[0m\u001b[0;34m(\u001b[0m\u001b[0mtarget_sentences\u001b[0m\u001b[0;34m=\u001b[0m\u001b[0margs\u001b[0m\u001b[0;34m[\u001b[0m\u001b[0;36m1\u001b[0m\u001b[0;34m]\u001b[0m\u001b[0;34m)\u001b[0m\u001b[0;34m\u001b[0m\u001b[0;34m\u001b[0m\u001b[0m\n\u001b[1;32m    209\u001b[0m             \u001b[0margs\u001b[0m \u001b[0;34m=\u001b[0m \u001b[0margs\u001b[0m\u001b[0;34m[\u001b[0m\u001b[0;34m:\u001b[0m\u001b[0;36m1\u001b[0m\u001b[0;34m]\u001b[0m\u001b[0;34m\u001b[0m\u001b[0;34m\u001b[0m\u001b[0m\n",
      "\u001b[0;31mAttributeError\u001b[0m: 'Kernel' object has no attribute 'masker'"
     ]
    }
   ],
   "source": [
    "shap_values = explainer(X_train_scaled_spam)"
   ]
  }
 ],
 "metadata": {
  "kernelspec": {
   "display_name": "Python 3 (ipykernel)",
   "language": "python",
   "name": "python3"
  },
  "language_info": {
   "codemirror_mode": {
    "name": "ipython",
    "version": 3
   },
   "file_extension": ".py",
   "mimetype": "text/x-python",
   "name": "python",
   "nbconvert_exporter": "python",
   "pygments_lexer": "ipython3",
   "version": "3.9.12"
  }
 },
 "nbformat": 4,
 "nbformat_minor": 5
}
