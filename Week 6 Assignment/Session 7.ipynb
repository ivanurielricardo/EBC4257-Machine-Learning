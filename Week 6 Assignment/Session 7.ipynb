{
 "cells": [
  {
   "cell_type": "markdown",
   "id": "cd190ed8",
   "metadata": {},
   "source": [
    "# Session 7: Principle Components\n",
    "\n",
    "### Introduction:\n",
    "\n",
    "**Supervised Learning**: typically have a set of p features measured on n observations, ad a response Y also measured on those same n observations. Predict Y using features.\n",
    "\n",
    "**Unsupervised Learning**: We have only a set of features. Not interested in prediction, but rather, discover interesting things about the measurements.\n",
    "\n",
    "- Unsupervised learning is often performed as part of *exploratory data analysis*.\n",
    "\n",
    "**Principle Components**: When faced with a large set of correlated variables, principal components allows us to summarize this set with a smaller number of representative variables that collectively explain most of the variability in the original set.\n",
    "\n",
    "The idea is to find a low-dimensional representation of the data that captures as much of the information as possible\n",
    "\n",
    "Principle components of a set of data in $\\mathbb{R}^p$ provide a sequence of best linear approximations to that data, of all ranks $q \\leq p$.\n",
    "\n",
    "Singular Value Decomposition\n",
    "\n",
    "$$\\mathbf{X} = \\mathbf{U}\\mathbf{D}\\mathbf{V}^T$$\n",
    "\n",
    "*Notation*:\\\n",
    "$\\mathbf{V}$ is a $p \\times q$ matrix with q orthogonal unit vectors as columns (slope)\\\n",
    "$\\mathbf{D}$ is a $p \\times p$ diagonal matrix\\\n",
    "$\\mathbf{U}$ is an $N \\times p$ orthogonal matrix\n",
    "\n",
    "Columns UD are called the principle components of X.\n",
    "\n",
    "\n",
    "**Latent Variables and Factor Analysis**\n",
    "\n",
    "We have an equation of the form:\n",
    "\n",
    "$$X = \\mathbf{A}S + \\varepsilon$$\n",
    "\n",
    "where we have more equations than variables. S is modeled as Gaussian random.\n",
    "\n",
    "**Independent Component Analysis**\n",
    "\n",
    "Exactly the same form except S are assumed to be statistically independent rather than uncorrelated. Uncorrelated implies a determination of second-degree covariances while independence determines all the covariances (Second moment vs all moments). Here we can exploit independence and non-gaussianity of sources."
   ]
  },
  {
   "cell_type": "markdown",
   "id": "3cb1572a",
   "metadata": {},
   "source": [
    "### Problem 1: Latent Factor models\n",
    "\n",
    "First, what is the **MNIST** data set?\\\n",
    "Data collection of handwritten digits used to train and test supervised ML algorithms. Separation of images ensures that an adequately trained model can accurately classify relevant images.\n",
    "\n",
    "**Factor Models**:\\\n",
    "Models which are developed to approximate the returns of financial security or a transaction through running various statistical techniques over a bunch of factors. \n",
    "\n",
    "**Latent Models**:\\\n",
    "Make use of *latent variables* which are not directly observable and are assumed to affect the response variable\n",
    "- Represent the effect of unobserved covariates and then accounting for unobserved heterogeneity between subjects\n",
    "- Accounting for measurement errors\n",
    "- Summarizing different measurements of the same unobservable characteristics\n",
    "\n",
    "MNIST handwritten dataset can be analyzed using PCA. Reduce the dimensions in order to create simpler digits to analyze. The pixels in a digitized image are inherently correlated,\n",
    "and since these are all the same digit the correlations are even stronger.\n",
    "\n",
    "Each feature accounts for a different portion of the digit. One feature could account for character thickness, while another could account for curls."
   ]
  },
  {
   "cell_type": "markdown",
   "id": "e4831567",
   "metadata": {},
   "source": [
    "### Problem 2: Classical Interpretations of PCA\n",
    "\n",
    "- The first PC explains the most variation in the data (i.e. captures as much information as possible), and then all the others explain less and less, in decreasing order\n",
    "- Data transformation technique\n",
    "- Typically, PCA is done over many dimensions - lots of attributes\n",
    "- PCA will find new axes for the data that separate it better\n",
    "- Find a new axis that separates everything out (regression) so the data variance is maximized and minimize the error\n",
    "- Second principle component is orthogonal and this would maximize the variance\n",
    "- Each PC is going to be a weighted sum of all the attributes\n",
    "\n",
    "Principal components are new variables constructed as linear combinations of the original features\n",
    "\n",
    "Can choose to minimize the distance to the projected lines or maximize the distance from the origin to the projected points. (12.3, 12.6)"
   ]
  },
  {
   "cell_type": "markdown",
   "id": "79cb541a",
   "metadata": {},
   "source": [
    "### Problem 3: Distributional Assumptions of variable matrix X\n",
    "\n",
    "- Linearity in the data set\n",
    "- PCs with high variance are paid attention to and PCs with lower variance are disregarded\n",
    "- All variables are accessed on the same ratio level of measurement\n",
    "- Little/no outliers in the data set\n",
    "- Feature set must be correlated and the reduced feature set will represent the original data set\n",
    "- standardize the data (centered around 0 and sd of 1)\n",
    "\n",
    "PCA in time series: Can be used to reject cyclic time series behavior. The periodic components embedded in a set of concurrent time-series can be isolated by Principal Component Analysis (PCA), to uncover any abnormal activity hidden in them. Here, we will ignore the largest (in the sense of variance) basis vectors until we are left with those that are normally 'quiet', where the anomalies appear.\n",
    "\n",
    "https://towardsdatascience.com/the-pca-trick-with-time-series-d40d48c69d28\n",
    "\n",
    "For two different time periods, if you have cyclic behavior, then you can isolate this with the aforementioned tehnique"
   ]
  },
  {
   "cell_type": "markdown",
   "id": "9aefcc51",
   "metadata": {},
   "source": [
    "### Problem 4: What is the relation between estimated PCs and estimated covariance matrix?\n",
    "\n",
    "Consider the linear combinations of the basis vector for the data. We are looking for the regression coefficient that best fits the data to transform into a PC. These coefficients are chosen in a way to maximize the variance of the output subject to some constraints (sum of squared coefficients add up to one). \n",
    "\n",
    "We take the eigenvalues of the variance/covariance matrix. These are ordered such that $\\lambda_1$ has the largest eigenvalue and  $\\lambda_p$ has the smallest. Turns out that the elements for the eigenvectors are the coefficients of the principle components. The vairnace for the nth principle component is equal to the nth eigenvalue. \n",
    "\n",
    "In all, the variance covariance matrix may be written as a function of the eigenvalues and their corresponding eigenvectors\n",
    "\n",
    "https://online.stat.psu.edu/stat505/book/export/html/670"
   ]
  },
  {
   "cell_type": "markdown",
   "id": "152fd3af",
   "metadata": {},
   "source": [
    "### Problem 5: What are the main applications of PCA?\n",
    "In the most general sense, PCA is a dimensionality reduction technique that makes high dimensional data easier to interpret. The idea is to take a large number of correlated variables and reduce this to a much smaller number that are less correlated with one another.\n",
    "\n",
    "**Applications**:\n",
    "- Neuroscience to identify specific properties of a stimulus that increase a neuron's probability of generating an action potential. Also to detect coordinated activities of large neuronal ensembles.\n",
    "- Reduce dimensionality of a complex portfolio in finance. Correlations can be captured from the stocks.\n",
    "- Image compression to reduce the size of images\n",
    "- Recognition of faces in order to separate out key characteristics of features. \n",
    "- Can also be used in anomaly detection."
   ]
  },
  {
   "cell_type": "markdown",
   "id": "2f9f205f",
   "metadata": {},
   "source": [
    "### Problem 6: Performing PCA on the Food-Texture data"
   ]
  },
  {
   "cell_type": "code",
   "execution_count": 7,
   "id": "6433dc5b",
   "metadata": {},
   "outputs": [],
   "source": [
    "import pandas as pd\n",
    "import numpy as np\n",
    "import matplotlib.pyplot as plt\n",
    "from sklearn.decomposition import PCA\n",
    "from sklearn import preprocessing"
   ]
  },
  {
   "cell_type": "code",
   "execution_count": 19,
   "id": "8eba50e5",
   "metadata": {
    "scrolled": false
   },
   "outputs": [
    {
     "data": {
      "text/html": [
       "<div>\n",
       "<style scoped>\n",
       "    .dataframe tbody tr th:only-of-type {\n",
       "        vertical-align: middle;\n",
       "    }\n",
       "\n",
       "    .dataframe tbody tr th {\n",
       "        vertical-align: top;\n",
       "    }\n",
       "\n",
       "    .dataframe thead th {\n",
       "        text-align: right;\n",
       "    }\n",
       "</style>\n",
       "<table border=\"1\" class=\"dataframe\">\n",
       "  <thead>\n",
       "    <tr style=\"text-align: right;\">\n",
       "      <th></th>\n",
       "      <th>Unnamed: 0</th>\n",
       "      <th>Oil</th>\n",
       "      <th>Density</th>\n",
       "      <th>Crispy</th>\n",
       "      <th>Fracture</th>\n",
       "      <th>Hardness</th>\n",
       "    </tr>\n",
       "  </thead>\n",
       "  <tbody>\n",
       "    <tr>\n",
       "      <th>0</th>\n",
       "      <td>B110</td>\n",
       "      <td>16.5</td>\n",
       "      <td>2955</td>\n",
       "      <td>10</td>\n",
       "      <td>23</td>\n",
       "      <td>97</td>\n",
       "    </tr>\n",
       "    <tr>\n",
       "      <th>1</th>\n",
       "      <td>B136</td>\n",
       "      <td>17.7</td>\n",
       "      <td>2660</td>\n",
       "      <td>14</td>\n",
       "      <td>9</td>\n",
       "      <td>139</td>\n",
       "    </tr>\n",
       "    <tr>\n",
       "      <th>2</th>\n",
       "      <td>B171</td>\n",
       "      <td>16.2</td>\n",
       "      <td>2870</td>\n",
       "      <td>12</td>\n",
       "      <td>17</td>\n",
       "      <td>143</td>\n",
       "    </tr>\n",
       "    <tr>\n",
       "      <th>3</th>\n",
       "      <td>B192</td>\n",
       "      <td>16.7</td>\n",
       "      <td>2920</td>\n",
       "      <td>10</td>\n",
       "      <td>31</td>\n",
       "      <td>95</td>\n",
       "    </tr>\n",
       "    <tr>\n",
       "      <th>4</th>\n",
       "      <td>B225</td>\n",
       "      <td>16.3</td>\n",
       "      <td>2975</td>\n",
       "      <td>11</td>\n",
       "      <td>26</td>\n",
       "      <td>143</td>\n",
       "    </tr>\n",
       "  </tbody>\n",
       "</table>\n",
       "</div>"
      ],
      "text/plain": [
       "  Unnamed: 0   Oil  Density  Crispy  Fracture  Hardness\n",
       "0       B110  16.5     2955      10        23        97\n",
       "1       B136  17.7     2660      14         9       139\n",
       "2       B171  16.2     2870      12        17       143\n",
       "3       B192  16.7     2920      10        31        95\n",
       "4       B225  16.3     2975      11        26       143"
      ]
     },
     "execution_count": 19,
     "metadata": {},
     "output_type": "execute_result"
    }
   ],
   "source": [
    "df = pd.read_csv('food-texture.csv')\n",
    "df.head()"
   ]
  },
  {
   "cell_type": "markdown",
   "id": "ecb6fe6c",
   "metadata": {},
   "source": [
    "#### Preprocessing"
   ]
  },
  {
   "cell_type": "markdown",
   "id": "1c01e9d4",
   "metadata": {},
   "source": [
    "First, we remove the `unnamed` column from the df"
   ]
  },
  {
   "cell_type": "code",
   "execution_count": 21,
   "id": "8bf1f6ee",
   "metadata": {},
   "outputs": [
    {
     "data": {
      "text/html": [
       "<div>\n",
       "<style scoped>\n",
       "    .dataframe tbody tr th:only-of-type {\n",
       "        vertical-align: middle;\n",
       "    }\n",
       "\n",
       "    .dataframe tbody tr th {\n",
       "        vertical-align: top;\n",
       "    }\n",
       "\n",
       "    .dataframe thead th {\n",
       "        text-align: right;\n",
       "    }\n",
       "</style>\n",
       "<table border=\"1\" class=\"dataframe\">\n",
       "  <thead>\n",
       "    <tr style=\"text-align: right;\">\n",
       "      <th></th>\n",
       "      <th>Oil</th>\n",
       "      <th>Density</th>\n",
       "      <th>Crispy</th>\n",
       "      <th>Fracture</th>\n",
       "      <th>Hardness</th>\n",
       "    </tr>\n",
       "  </thead>\n",
       "  <tbody>\n",
       "    <tr>\n",
       "      <th>0</th>\n",
       "      <td>16.5</td>\n",
       "      <td>2955</td>\n",
       "      <td>10</td>\n",
       "      <td>23</td>\n",
       "      <td>97</td>\n",
       "    </tr>\n",
       "    <tr>\n",
       "      <th>1</th>\n",
       "      <td>17.7</td>\n",
       "      <td>2660</td>\n",
       "      <td>14</td>\n",
       "      <td>9</td>\n",
       "      <td>139</td>\n",
       "    </tr>\n",
       "    <tr>\n",
       "      <th>2</th>\n",
       "      <td>16.2</td>\n",
       "      <td>2870</td>\n",
       "      <td>12</td>\n",
       "      <td>17</td>\n",
       "      <td>143</td>\n",
       "    </tr>\n",
       "    <tr>\n",
       "      <th>3</th>\n",
       "      <td>16.7</td>\n",
       "      <td>2920</td>\n",
       "      <td>10</td>\n",
       "      <td>31</td>\n",
       "      <td>95</td>\n",
       "    </tr>\n",
       "    <tr>\n",
       "      <th>4</th>\n",
       "      <td>16.3</td>\n",
       "      <td>2975</td>\n",
       "      <td>11</td>\n",
       "      <td>26</td>\n",
       "      <td>143</td>\n",
       "    </tr>\n",
       "  </tbody>\n",
       "</table>\n",
       "</div>"
      ],
      "text/plain": [
       "    Oil  Density  Crispy  Fracture  Hardness\n",
       "0  16.5     2955      10        23        97\n",
       "1  17.7     2660      14         9       139\n",
       "2  16.2     2870      12        17       143\n",
       "3  16.7     2920      10        31        95\n",
       "4  16.3     2975      11        26       143"
      ]
     },
     "execution_count": 21,
     "metadata": {},
     "output_type": "execute_result"
    }
   ],
   "source": [
    "df.drop(df.columns[[0]], axis=1, inplace=True)\n",
    "df.head()"
   ]
  },
  {
   "cell_type": "markdown",
   "id": "7e34b381",
   "metadata": {},
   "source": [
    "First, we need to center and scale the data. After centering, the average value for feature will be 0 and the sd will be 1."
   ]
  },
  {
   "cell_type": "code",
   "execution_count": 27,
   "id": "0245b331",
   "metadata": {},
   "outputs": [],
   "source": [
    "scaled_data = preprocessing.scale(df)"
   ]
  },
  {
   "cell_type": "markdown",
   "id": "31665a51",
   "metadata": {},
   "source": [
    "The formula for scaling is slightly different in R, but won't result in different results. Only slightly different graphs"
   ]
  },
  {
   "cell_type": "markdown",
   "id": "f37fc60c",
   "metadata": {},
   "source": [
    "#### PCA"
   ]
  },
  {
   "cell_type": "code",
   "execution_count": 28,
   "id": "1e5da9dc",
   "metadata": {},
   "outputs": [],
   "source": [
    "pca = PCA()  # PCA object\n",
    "pca.fit(scaled_data)  # fit method to do PCA math. Calculate loading scores.\n",
    "pca_data = pca.transform(scaled_data)  # generate coordinates for a PCA graph"
   ]
  },
  {
   "cell_type": "markdown",
   "id": "1046ad2c",
   "metadata": {},
   "source": [
    "#### SCREE PLOT"
   ]
  },
  {
   "cell_type": "code",
   "execution_count": 29,
   "id": "e55495cd",
   "metadata": {},
   "outputs": [
    {
     "data": {
      "image/png": "[encoded data removed]",
      "text/plain": [
       "<Figure size 432x288 with 1 Axes>"
      ]
     },
     "metadata": {
      "needs_background": "light"
     },
     "output_type": "display_data"
    }
   ],
   "source": [
    "# Calculate the percentage of variation that each PC accounts for\n",
    "per_var = np.round(pca.explained_variance_ratio_* 100, decimals = 1)\n",
    "\n",
    "# create labels for the scree plot\n",
    "labels = ['PC' + str(x) for x in range(1, len(per_var)+1)]\n",
    "\n",
    "# Use matplotlib to create a bar plot\n",
    "plt.bar(x = range(1, len(per_var)+1), height = per_var, tick_label = labels)\n",
    "plt.ylabel('Percentage of Explained Variance')\n",
    "plt.xlabel('Principal Component')\n",
    "plt.title('Scree Plot')\n",
    "plt.show()"
   ]
  },
  {
   "cell_type": "markdown",
   "id": "707d082c",
   "metadata": {},
   "source": [
    "Almost all the variation is along the first two components, so a 2D graph should do a good job representing the original data. We'll do this by drawing a PCA plot."
   ]
  },
  {
   "cell_type": "code",
   "execution_count": 36,
   "id": "58f39b5f",
   "metadata": {},
   "outputs": [
    {
     "data": {
      "image/png": "[encoded data removed]",
      "text/plain": [
       "<Figure size 432x288 with 1 Axes>"
      ]
     },
     "metadata": {
      "needs_background": "light"
     },
     "output_type": "display_data"
    }
   ],
   "source": [
    "# Put new coordinates into a matrix \n",
    "pca_df = pd.DataFrame(pca_data, columns = labels)\n",
    "\n",
    "# draw a scatterplot\n",
    "plt.scatter(pca_df.PC1, pca_df.PC2)\n",
    "plt.title('PCA Graph')\n",
    "plt.xlabel('PC1 - {0}%'.format(per_var[0]))\n",
    "plt.ylabel('PC2 - {0}%'.format(per_var[1]))\n",
    "\n",
    "plt.show()"
   ]
  },
  {
   "cell_type": "markdown",
   "id": "018b7d63",
   "metadata": {},
   "source": [
    "Not much correlation between the data."
   ]
  },
  {
   "cell_type": "markdown",
   "id": "c9bdb7dc",
   "metadata": {},
   "source": [
    "#### Loading Scores for PC1\n",
    "Used to determine which samples had the largest influence on separating clusters"
   ]
  },
  {
   "cell_type": "code",
   "execution_count": 38,
   "id": "84de33bb",
   "metadata": {},
   "outputs": [
    {
     "name": "stdout",
     "output_type": "stream",
     "text": [
      "2   -0.532388\n",
      "3    0.504477\n",
      "1    0.478745\n",
      "0   -0.457533\n",
      "4   -0.153403\n",
      "dtype: float64\n"
     ]
    }
   ],
   "source": [
    "loading_scores = pd.Series(pca.components_[0])\n",
    "\n",
    "# Sort loading scores based on their magnitude\n",
    "sorted_loading_scores = loading_scores.abs().sort_values(ascending = False)\n",
    "\n",
    "# Getting the names of the top 5 indexes\n",
    "top_ten = sorted_loading_scores[0:5].index.values\n",
    "\n",
    "print(loading_scores[top_ten])"
   ]
  },
  {
   "cell_type": "markdown",
   "id": "2841afd0",
   "metadata": {},
   "source": [
    "These values are not very similar, so not very many pastries played a role in separating the samples. These were the main pastries."
   ]
  },
  {
   "cell_type": "markdown",
   "id": "4972fe81",
   "metadata": {},
   "source": [
    "### Problem 7\n",
    "Performing PCA on the MNIST dataset. Display the first three principal components in a plot."
   ]
  },
  {
   "cell_type": "code",
   "execution_count": 64,
   "id": "e2c89bd4",
   "metadata": {
    "scrolled": true
   },
   "outputs": [
    {
     "name": "stdout",
     "output_type": "stream",
     "text": [
      "Collecting keras\n",
      "  Downloading keras-2.8.0-py2.py3-none-any.whl (1.4 MB)\n",
      "\u001b[K     |████████████████████████████████| 1.4 MB 656 kB/s eta 0:00:01\n",
      "\u001b[?25hInstalling collected packages: keras\n",
      "Successfully installed keras-2.8.0\n"
     ]
    }
   ],
   "source": [
    "!pip install keras"
   ]
  },
  {
   "cell_type": "code",
   "execution_count": 66,
   "id": "83d22519",
   "metadata": {},
   "outputs": [
    {
     "name": "stdout",
     "output_type": "stream",
     "text": [
      "Collecting tensorflow\n",
      "  Downloading tensorflow-2.8.0-cp39-cp39-macosx_10_14_x86_64.whl (217.5 MB)\n",
      "\u001b[K     |████████████████████████████████| 217.5 MB 27 kB/s  eta 0:00:011   |█▎                              | 8.7 MB 11.4 MB/s eta 0:00:19     |████▋                           | 31.3 MB 13.1 MB/s eta 0:00:15     |█████▍                          | 36.7 MB 10.0 MB/s eta 0:00:18     |██████▏                         | 42.0 MB 10.0 MB/s eta 0:00:18     |████████                        | 54.2 MB 15.4 MB/s eta 0:00:11     |█████████                       | 61.0 MB 9.5 MB/s eta 0:00:17     |██████████▍                     | 70.6 MB 4.5 MB/s eta 0:00:33     |██████████▉                     | 73.3 MB 4.5 MB/s eta 0:00:33     |███████████▏                    | 75.6 MB 4.5 MB/s eta 0:00:32     |████████████                    | 81.1 MB 4.5 MB/s eta 0:00:31     |████████████▏                   | 82.6 MB 4.5 MB/s eta 0:00:31     |██████████████                  | 94.5 MB 7.6 MB/s eta 0:00:17     |███████████████████████████▌    | 186.9 MB 38.2 MB/s eta 0:00:01\n",
      "\u001b[?25hCollecting tensorflow-io-gcs-filesystem>=0.23.1\n",
      "  Downloading tensorflow_io_gcs_filesystem-0.25.0-cp39-cp39-macosx_10_14_x86_64.whl (1.6 MB)\n",
      "\u001b[K     |████████████████████████████████| 1.6 MB 16.9 MB/s eta 0:00:01     |███████████████████████▌        | 1.2 MB 16.9 MB/s eta 0:00:01\n",
      "\u001b[?25hCollecting libclang>=9.0.1\n",
      "  Downloading libclang-14.0.1-py2.py3-none-macosx_10_9_x86_64.whl (13.2 MB)\n",
      "\u001b[K     |████████████████████████████████| 13.2 MB 13.6 MB/s eta 0:00:01    |█████████████▏                  | 5.4 MB 13.6 MB/s eta 0:00:01\n",
      "\u001b[?25hCollecting opt-einsum>=2.3.2\n",
      "  Downloading opt_einsum-3.3.0-py3-none-any.whl (65 kB)\n",
      "\u001b[K     |████████████████████████████████| 65 kB 713 kB/s  eta 0:00:01\n",
      "\u001b[?25hCollecting grpcio<2.0,>=1.24.3\n",
      "  Downloading grpcio-1.46.0-cp39-cp39-macosx_10_10_x86_64.whl (4.4 MB)\n",
      "\u001b[K     |████████████████████████████████| 4.4 MB 1.0 MB/s eta 0:00:01\n",
      "\u001b[?25hRequirement already satisfied: wrapt>=1.11.0 in /Users/Ivan/opt/anaconda3/lib/python3.9/site-packages (from tensorflow) (1.12.1)\n",
      "Requirement already satisfied: keras<2.9,>=2.8.0rc0 in /Users/Ivan/opt/anaconda3/lib/python3.9/site-packages (from tensorflow) (2.8.0)\n",
      "Collecting tensorboard<2.9,>=2.8\n",
      "  Downloading tensorboard-2.8.0-py3-none-any.whl (5.8 MB)\n",
      "\u001b[K     |████████████████████████████████| 5.8 MB 14.1 MB/s eta 0:00:01\n",
      "\u001b[?25hCollecting keras-preprocessing>=1.1.1\n",
      "  Downloading Keras_Preprocessing-1.1.2-py2.py3-none-any.whl (42 kB)\n",
      "\u001b[K     |████████████████████████████████| 42 kB 661 kB/s eta 0:00:011\n",
      "\u001b[?25hCollecting tf-estimator-nightly==2.8.0.dev2021122109\n",
      "  Downloading tf_estimator_nightly-2.8.0.dev2021122109-py2.py3-none-any.whl (462 kB)\n",
      "\u001b[K     |████████████████████████████████| 462 kB 1.3 MB/s eta 0:00:01\n",
      "\u001b[?25hCollecting astunparse>=1.6.0\n",
      "  Downloading astunparse-1.6.3-py2.py3-none-any.whl (12 kB)\n",
      "Collecting termcolor>=1.1.0\n",
      "  Downloading termcolor-1.1.0.tar.gz (3.9 kB)\n",
      "Collecting absl-py>=0.4.0\n",
      "  Downloading absl_py-1.0.0-py3-none-any.whl (126 kB)\n",
      "\u001b[K     |████████████████████████████████| 126 kB 13.4 MB/s eta 0:00:01\n",
      "\u001b[?25hCollecting protobuf>=3.9.2\n",
      "  Downloading protobuf-3.20.1-cp39-cp39-macosx_10_9_x86_64.whl (962 kB)\n",
      "\u001b[K     |████████████████████████████████| 962 kB 16.7 MB/s eta 0:00:01\n",
      "\u001b[?25hRequirement already satisfied: six>=1.12.0 in /Users/Ivan/opt/anaconda3/lib/python3.9/site-packages (from tensorflow) (1.16.0)\n",
      "Requirement already satisfied: numpy>=1.20 in /Users/Ivan/opt/anaconda3/lib/python3.9/site-packages (from tensorflow) (1.20.3)\n",
      "Collecting flatbuffers>=1.12\n",
      "  Downloading flatbuffers-2.0-py2.py3-none-any.whl (26 kB)\n",
      "Requirement already satisfied: h5py>=2.9.0 in /Users/Ivan/opt/anaconda3/lib/python3.9/site-packages (from tensorflow) (3.2.1)\n",
      "Requirement already satisfied: typing-extensions>=3.6.6 in /Users/Ivan/opt/anaconda3/lib/python3.9/site-packages (from tensorflow) (3.10.0.2)\n",
      "Collecting google-pasta>=0.1.1\n",
      "  Downloading google_pasta-0.2.0-py3-none-any.whl (57 kB)\n",
      "\u001b[K     |████████████████████████████████| 57 kB 1.5 MB/s eta 0:00:011\n",
      "\u001b[?25hRequirement already satisfied: setuptools in /Users/Ivan/opt/anaconda3/lib/python3.9/site-packages (from tensorflow) (58.0.4)\n",
      "Collecting gast>=0.2.1\n",
      "  Downloading gast-0.5.3-py3-none-any.whl (19 kB)\n",
      "Requirement already satisfied: wheel<1.0,>=0.23.0 in /Users/Ivan/opt/anaconda3/lib/python3.9/site-packages (from astunparse>=1.6.0->tensorflow) (0.37.0)\n",
      "Collecting google-auth<3,>=1.6.3\n",
      "  Downloading google_auth-2.6.6-py2.py3-none-any.whl (156 kB)\n",
      "\u001b[K     |████████████████████████████████| 156 kB 11.2 MB/s eta 0:00:01\n",
      "\u001b[?25hRequirement already satisfied: requests<3,>=2.21.0 in /Users/Ivan/opt/anaconda3/lib/python3.9/site-packages (from tensorboard<2.9,>=2.8->tensorflow) (2.26.0)\n",
      "Collecting tensorboard-data-server<0.7.0,>=0.6.0\n",
      "  Downloading tensorboard_data_server-0.6.1-py3-none-macosx_10_9_x86_64.whl (3.5 MB)\n",
      "\u001b[K     |████████████████████████████████| 3.5 MB 1.6 MB/s eta 0:00:01\n",
      "\u001b[?25hRequirement already satisfied: werkzeug>=0.11.15 in /Users/Ivan/opt/anaconda3/lib/python3.9/site-packages (from tensorboard<2.9,>=2.8->tensorflow) (2.0.2)\n",
      "Collecting google-auth-oauthlib<0.5,>=0.4.1\n",
      "  Downloading google_auth_oauthlib-0.4.6-py2.py3-none-any.whl (18 kB)\n",
      "Collecting tensorboard-plugin-wit>=1.6.0\n",
      "  Downloading tensorboard_plugin_wit-1.8.1-py3-none-any.whl (781 kB)\n",
      "\u001b[K     |████████████████████████████████| 781 kB 25.2 MB/s eta 0:00:01\n",
      "\u001b[?25hCollecting markdown>=2.6.8\n",
      "  Downloading Markdown-3.3.7-py3-none-any.whl (97 kB)\n",
      "\u001b[K     |████████████████████████████████| 97 kB 1.4 MB/s eta 0:00:01\n",
      "\u001b[?25hCollecting rsa<5,>=3.1.4\n",
      "  Downloading rsa-4.8-py3-none-any.whl (39 kB)\n",
      "Collecting pyasn1-modules>=0.2.1\n",
      "  Downloading pyasn1_modules-0.2.8-py2.py3-none-any.whl (155 kB)\n",
      "\u001b[K     |████████████████████████████████| 155 kB 6.4 MB/s eta 0:00:01\n",
      "\u001b[?25hCollecting cachetools<6.0,>=2.0.0\n",
      "  Downloading cachetools-5.0.0-py3-none-any.whl (9.1 kB)\n",
      "Collecting requests-oauthlib>=0.7.0\n",
      "  Using cached requests_oauthlib-1.3.1-py2.py3-none-any.whl (23 kB)\n",
      "Requirement already satisfied: importlib-metadata>=4.4 in /Users/Ivan/opt/anaconda3/lib/python3.9/site-packages (from markdown>=2.6.8->tensorboard<2.9,>=2.8->tensorflow) (4.8.1)\n",
      "Requirement already satisfied: zipp>=0.5 in /Users/Ivan/opt/anaconda3/lib/python3.9/site-packages (from importlib-metadata>=4.4->markdown>=2.6.8->tensorboard<2.9,>=2.8->tensorflow) (3.6.0)\n",
      "Collecting pyasn1<0.5.0,>=0.4.6\n",
      "  Downloading pyasn1-0.4.8-py2.py3-none-any.whl (77 kB)\n",
      "\u001b[K     |████████████████████████████████| 77 kB 1.8 MB/s eta 0:00:01\n",
      "\u001b[?25hRequirement already satisfied: certifi>=2017.4.17 in /Users/Ivan/opt/anaconda3/lib/python3.9/site-packages (from requests<3,>=2.21.0->tensorboard<2.9,>=2.8->tensorflow) (2021.10.8)\n",
      "Requirement already satisfied: idna<4,>=2.5 in /Users/Ivan/opt/anaconda3/lib/python3.9/site-packages (from requests<3,>=2.21.0->tensorboard<2.9,>=2.8->tensorflow) (3.2)\n",
      "Requirement already satisfied: urllib3<1.27,>=1.21.1 in /Users/Ivan/opt/anaconda3/lib/python3.9/site-packages (from requests<3,>=2.21.0->tensorboard<2.9,>=2.8->tensorflow) (1.26.7)\n",
      "Requirement already satisfied: charset-normalizer~=2.0.0 in /Users/Ivan/opt/anaconda3/lib/python3.9/site-packages (from requests<3,>=2.21.0->tensorboard<2.9,>=2.8->tensorflow) (2.0.4)\n",
      "Collecting oauthlib>=3.0.0\n",
      "  Using cached oauthlib-3.2.0-py3-none-any.whl (151 kB)\n",
      "Building wheels for collected packages: termcolor\n",
      "  Building wheel for termcolor (setup.py) ... \u001b[?25ldone\n",
      "\u001b[?25h  Created wheel for termcolor: filename=termcolor-1.1.0-py3-none-any.whl size=4847 sha256=26886b286ac00120a5d441618aaaec7babf634b6a8a600f0e742164425f54b74\n",
      "  Stored in directory: /Users/Ivan/Library/Caches/pip/wheels/b6/0d/90/0d1bbd99855f99cb2f6c2e5ff96f8023fad8ec367695f7d72d\n",
      "Successfully built termcolor\n",
      "Installing collected packages: pyasn1, rsa, pyasn1-modules, oauthlib, cachetools, requests-oauthlib, google-auth, tensorboard-plugin-wit, tensorboard-data-server, protobuf, markdown, grpcio, google-auth-oauthlib, absl-py, tf-estimator-nightly, termcolor, tensorflow-io-gcs-filesystem, tensorboard, opt-einsum, libclang, keras-preprocessing, google-pasta, gast, flatbuffers, astunparse, tensorflow\n",
      "Successfully installed absl-py-1.0.0 astunparse-1.6.3 cachetools-5.0.0 flatbuffers-2.0 gast-0.5.3 google-auth-2.6.6 google-auth-oauthlib-0.4.6 google-pasta-0.2.0 grpcio-1.46.0 keras-preprocessing-1.1.2 libclang-14.0.1 markdown-3.3.7 oauthlib-3.2.0 opt-einsum-3.3.0 protobuf-3.20.1 pyasn1-0.4.8 pyasn1-modules-0.2.8 requests-oauthlib-1.3.1 rsa-4.8 tensorboard-2.8.0 tensorboard-data-server-0.6.1 tensorboard-plugin-wit-1.8.1 tensorflow-2.8.0 tensorflow-io-gcs-filesystem-0.25.0 termcolor-1.1.0 tf-estimator-nightly-2.8.0.dev2021122109\n"
     ]
    }
   ],
   "source": [
    "!pip install tensorflow"
   ]
  },
  {
   "cell_type": "code",
   "execution_count": 67,
   "id": "612673d1",
   "metadata": {},
   "outputs": [],
   "source": [
    "from keras.datasets import mnist"
   ]
  },
  {
   "cell_type": "code",
   "execution_count": 68,
   "id": "f22b28f5",
   "metadata": {},
   "outputs": [
    {
     "name": "stdout",
     "output_type": "stream",
     "text": [
      "Downloading data from https://storage.googleapis.com/tensorflow/tf-keras-datasets/mnist.npz\n",
      "11493376/11490434 [==============================] - 1s 0us/step\n",
      "11501568/11490434 [==============================] - 1s 0us/step\n"
     ]
    }
   ],
   "source": [
    "# We will be using the training set for the most part here\n",
    "(train_X, train_y), (test_X, test_y) = mnist.load_data()"
   ]
  },
  {
   "cell_type": "markdown",
   "id": "3a6f2ad7",
   "metadata": {},
   "source": [
    "### Problem 8: Conventional linear PCA as a special case of kernel PCA\n",
    "\n",
    "**Kernel PCA**: A generalization of normal PCA which can account for nonlinearities. Kernel PCA uses a kernel function to project the data set into a higher dimensional feature space, where it is linearly separable. Similar to the idea of SVMs. \n",
    "\n",
    "The linear kernel function is a modification of the covariance matrix. In this case, modifying the kernel function would yield a different covariance matrix to optimize for linear PCA\n"
   ]
  },
  {
   "cell_type": "markdown",
   "id": "14ca7feb",
   "metadata": {},
   "source": [
    "### Problem 9: PCA with generated data"
   ]
  },
  {
   "cell_type": "code",
   "execution_count": 54,
   "id": "15366140",
   "metadata": {},
   "outputs": [
    {
     "data": {
      "text/html": [
       "<div>\n",
       "<style scoped>\n",
       "    .dataframe tbody tr th:only-of-type {\n",
       "        vertical-align: middle;\n",
       "    }\n",
       "\n",
       "    .dataframe tbody tr th {\n",
       "        vertical-align: top;\n",
       "    }\n",
       "\n",
       "    .dataframe thead th {\n",
       "        text-align: right;\n",
       "    }\n",
       "</style>\n",
       "<table border=\"1\" class=\"dataframe\">\n",
       "  <thead>\n",
       "    <tr style=\"text-align: right;\">\n",
       "      <th></th>\n",
       "      <th>X1</th>\n",
       "      <th>X2</th>\n",
       "      <th>X3</th>\n",
       "    </tr>\n",
       "  </thead>\n",
       "  <tbody>\n",
       "    <tr>\n",
       "      <th>0</th>\n",
       "      <td>0.943376</td>\n",
       "      <td>0.944033</td>\n",
       "      <td>-0.990291</td>\n",
       "    </tr>\n",
       "    <tr>\n",
       "      <th>1</th>\n",
       "      <td>0.285169</td>\n",
       "      <td>0.285216</td>\n",
       "      <td>17.197250</td>\n",
       "    </tr>\n",
       "    <tr>\n",
       "      <th>2</th>\n",
       "      <td>0.746044</td>\n",
       "      <td>0.746723</td>\n",
       "      <td>15.866295</td>\n",
       "    </tr>\n",
       "    <tr>\n",
       "      <th>3</th>\n",
       "      <td>0.516186</td>\n",
       "      <td>0.516772</td>\n",
       "      <td>-0.342510</td>\n",
       "    </tr>\n",
       "    <tr>\n",
       "      <th>4</th>\n",
       "      <td>-2.035714</td>\n",
       "      <td>-2.034883</td>\n",
       "      <td>-10.134063</td>\n",
       "    </tr>\n",
       "  </tbody>\n",
       "</table>\n",
       "</div>"
      ],
      "text/plain": [
       "         X1        X2         X3\n",
       "0  0.943376  0.944033  -0.990291\n",
       "1  0.285169  0.285216  17.197250\n",
       "2  0.746044  0.746723  15.866295\n",
       "3  0.516186  0.516772  -0.342510\n",
       "4 -2.035714 -2.034883 -10.134063"
      ]
     },
     "execution_count": 54,
     "metadata": {},
     "output_type": "execute_result"
    }
   ],
   "source": [
    "import random as rd  # for gaussian distributions\n",
    "\n",
    "X = ['X' + str(i) for i in range(1,4)]  # feature names\n",
    "\n",
    "generated_df = pd.DataFrame(columns = [*X])\n",
    "\n",
    "# Generating the data for each feature\n",
    "generated_df['X1'] = np.random.normal(size = 200)\n",
    "\n",
    "generated_df['X2'] = generated_df['X1'] + 0.001 * np.random.normal(size = 200)\n",
    "\n",
    "generated_df['X3'] = 10 * np.random.normal(size = 200)\n",
    "\n",
    "generated_df.head()"
   ]
  },
  {
   "cell_type": "markdown",
   "id": "834f59b7",
   "metadata": {},
   "source": [
    "#### Preprocessing"
   ]
  },
  {
   "cell_type": "code",
   "execution_count": 71,
   "id": "6ac82e69",
   "metadata": {},
   "outputs": [],
   "source": [
    "generated_scaled_data = preprocessing.scale(generated_df)"
   ]
  },
  {
   "cell_type": "code",
   "execution_count": 73,
   "id": "92b53592",
   "metadata": {},
   "outputs": [],
   "source": [
    "generated_pca = PCA()  # PCA object\n",
    "generated_pca.fit(generated_scaled_data)  # fit method to do PCA math. Calculate loading scores.\n",
    "generated_pca_data = generated_pca.transform(generated_scaled_data)  # generate coordinates for a PCA graph"
   ]
  },
  {
   "cell_type": "code",
   "execution_count": 75,
   "id": "00fb2921",
   "metadata": {},
   "outputs": [
    {
     "data": {
      "image/png": "[encoded data removed]",
      "text/plain": [
       "<Figure size 432x288 with 1 Axes>"
      ]
     },
     "metadata": {
      "needs_background": "light"
     },
     "output_type": "display_data"
    }
   ],
   "source": [
    "# Calculate the percentage of variation that each PC accounts for\n",
    "generated_per_var = np.round(generated_pca.explained_variance_ratio_* 100, decimals = 1)\n",
    "\n",
    "# create labels for the scree plot\n",
    "labels = ['PC' + str(x) for x in range(1, len(generated_per_var)+1)]\n",
    "\n",
    "# Use matplotlib to create a bar plot\n",
    "plt.bar(x = range(1, len(generated_per_var)+1), height = generated_per_var, tick_label = labels)\n",
    "plt.ylabel('Percentage of Explained Variance')\n",
    "plt.xlabel('Principal Component')\n",
    "plt.title('Scree Plot')\n",
    "plt.show()"
   ]
  },
  {
   "cell_type": "code",
   "execution_count": null,
   "id": "194ae6b2",
   "metadata": {},
   "outputs": [],
   "source": []
  }
 ],
 "metadata": {
  "kernelspec": {
   "display_name": "Python 3 (ipykernel)",
   "language": "python",
   "name": "python3"
  },
  "language_info": {
   "codemirror_mode": {
    "name": "ipython",
    "version": 3
   },
   "file_extension": ".py",
   "mimetype": "text/x-python",
   "name": "python",
   "nbconvert_exporter": "python",
   "pygments_lexer": "ipython3",
   "version": "3.9.7"
  }
 },
 "nbformat": 4,
 "nbformat_minor": 5
}
