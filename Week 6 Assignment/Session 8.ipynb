{
 "cells": [
  {
   "cell_type": "markdown",
   "id": "5dc21f83",
   "metadata": {},
   "source": [
    "# Session 8: Genetic Algorithms, Particle Swarm Optimization"
   ]
  },
  {
   "cell_type": "markdown",
   "id": "fe4ca7fb",
   "metadata": {},
   "source": [
    "## Introduction\n",
    "\n",
    "**Genetic Algorithms**:\\\n",
    "These are an adaptive heuristic search algorithm that belong to a larger part of evolutionary algorithms\n",
    "\n",
    "Commonly used to generate high quality solutions for optimization problems and search problems. More specifically, they *simulate the process of natural selection* which means those species who can adapt to changes in their environment are able to survive and reproduce\n",
    "\n",
    "**Foundations**\n",
    "- Individuals in population compete for resources and mate\n",
    "- Individuals who are successful then mate to create more offspring\n",
    "- Genes from 'fittest' parent propagate throughout the generation\n",
    "- Each successive generation is more suited for their environment\n",
    "\n",
    "**Fitness Score** is given to each individual which shows the ability of an individual to 'compete'. Individuals who have optimal fitness scores are sought.\n",
    "\n",
    "Each new generation has on average more 'better genes' than the individual (solution) of previous generations. So each generation has better *partial solutions*. This occurs until a convergence.\n",
    "\n",
    "**Operators of GAs**\n",
    "- Selection Operator: give prederence to the individuals with good fitness scores\n",
    "- Crossover Operator: represents mating between individuals\n",
    "- Mutation Operator: insert random genes in offspring to maintain diversity in the population to avoid premature convergence\n",
    "\n",
    "This algorithm has potential to get stuck at a local optimum solution. This can be further improved by updating fitness score calculation or by tweaking mutation and crossover operators"
   ]
  },
  {
   "cell_type": "markdown",
   "id": "e86b5ead",
   "metadata": {},
   "source": [
    "### Problem 1: Describe the main features of GA's:\n",
    "Simulate the process of natural selection and are able to converge into a target. Genetic Algorithms can deal with various types of optimization whether the objective function is stationary or non-stationary, etc. \n",
    "\n",
    "- Formulation of a Fitness function\n",
    "- Use of population size\n",
    "- Choice of important parameters such as rate of mutation and crossover\n",
    "- Selection criteria of the new population\n",
    "\n",
    "Easy for the algorithm to converge to a non-ideal result."
   ]
  },
  {
   "cell_type": "markdown",
   "id": "37d22fee",
   "metadata": {},
   "source": [
    "### Problem 2: GA's and the Prisoner's Dilemma\n",
    "Key idea is the evolution of strategies within games. Not realistic to assume that individuals can fully analyze the situation and calculate an optimal strategy so instead, they can adapt their strategy over time based on what has been effective and what has not\n",
    "\n",
    "This paper shows how the genetic algorithm can discover complex and effective strategies to the prisoner's dilemma game.\n",
    "\n",
    "- Under what conditions does cooperation emerge in a world of egoists without central authority?\n",
    "- Axelrod creates a tournament with different competitors for an iterated prisoner's dilemma\n",
    "- One idea was an iterated prisoner's dilemma of length unknown to the players. If the expected length of the game is sufficiently long, defecting is no longer dominant\n",
    "- as a robustness check, Axelrod sets up a dynamical 'ecological' tournament.\n",
    "- Initially, many different strategies are represented. In later rounds, the number of copies of each strategy entered into the round is proportional to the average score obtained by the program.\n",
    "- GA is used as a basis for finding the best strategy. For the tournament, we are looking for collective stability instead of a nash equilibrium\n",
    "- Strategy is collectively stable is no strategy can invade it. TIT for TAT is collectively stable if the expected length of the game is sufficiently long\n",
    "- Any strategy that could be the first to cooperate is only stable if the expected length of the interaction is long enough"
   ]
  },
  {
   "cell_type": "markdown",
   "id": "5c40033f",
   "metadata": {},
   "source": [
    "### Problem 3: Schema Theorem\n",
    "\n",
    "Short, low order schemata with above-average fitness increase exponentially in frequency in successive generations. This typically comes from the assumption that a correlation exists between parents and offspring fitnesses.\n",
    "\n",
    "- Schemata: sets of 'similar' chromosomes / partitions of genome space\n",
    "- Schema Theory describes how schemata are *expected* to propagate from one generation to the next\n",
    "\n",
    "Schema can be used to identify subset of strings with similarities at certain string positions\n",
    "\n",
    "the schema with above average fitness, short defining length and lower order is more likely to survive"
   ]
  },
  {
   "cell_type": "markdown",
   "id": "e5da0752",
   "metadata": {},
   "source": [
    "### Problem 4: Average Fitness of Schema\n",
    "NOTE: technically, we have a length of 0 as we define the length of a schema as the distance between the first and last bits\n",
    "\n",
    "$$ f(H,k) = \\frac{\\sum_{x \\in H} f(x)}{m(H,k)}$$\n",
    "\n",
    "where H is the schema, k is the generation, m(H,k) is the count of individuals in the kth generation, f(H,k) is the average fitness, and f(x) is the fitness value of x.\n",
    "\n",
    "In our example, we have a total number of 8 possible combinations in the generation. our fitness values are then 8,9, $\\dots$, 15. Using the formula, we then get $92/8 = 11.5$.\n",
    "\n",
    "For the 0 case, we would obtain a value of 3.5."
   ]
  },
  {
   "cell_type": "markdown",
   "id": "7792af39",
   "metadata": {},
   "source": [
    "### Problem 5: The Union of Schema\n",
    "\n",
    "When we want to take the union of two sets, the sets need to contain all members of **either** set. The intersection contains all members of **both**. Any schema is a set whose size is a power of 2. We need to look at where the defined bits are. Consider\n",
    "\n",
    "1\\*1\\*0\\*\\* \\\n",
    "1\\*0\\*\\*\\*\\*\n",
    "\n",
    "If we were to take the union, then we would have 1\\*\\*\\*_\\*\\*\n",
    "\n",
    "This would not work as we wouldn't be able to fill the blank space. If the two disagree about the value of a defined bit (either 1 or 0), then the result must have a * there. "
   ]
  },
  {
   "cell_type": "markdown",
   "id": "a5747ab4",
   "metadata": {},
   "source": [
    "### Problem 6: Which of the following offspring can not be created by one point crossover?\n",
    "\n",
    "What is **one point crossover**? A  random crossover point is selected and the tails of its two parents are swapped to get new off-springs\n",
    "\n",
    "We have parents 000000 and 111111. \n",
    "\n",
    "In this case, a one point crossover would not result in 110011 or 011110"
   ]
  },
  {
   "cell_type": "markdown",
   "id": "6adf7144",
   "metadata": {},
   "source": [
    "### Problem 7: Selection in Genetic Algorithms\n",
    "\n",
    "**Roulette Wheel Selection**: "
   ]
  },
  {
   "cell_type": "markdown",
   "id": "c8ef7d89",
   "metadata": {},
   "source": [
    "### Problem 8: GA and Particle Filters"
   ]
  },
  {
   "cell_type": "markdown",
   "id": "3aa13e28",
   "metadata": {},
   "source": [
    "### Problem 9: Markov Chain Analysis"
   ]
  },
  {
   "cell_type": "markdown",
   "id": "d40d3206",
   "metadata": {},
   "source": [
    "### Problem 10: GA and Genetic Programming\n",
    "\n",
    "Largely the same, but genetic programming creates programs  to solve a certain problem. GP is a branch of GA. GA modifies a solution. "
   ]
  },
  {
   "cell_type": "markdown",
   "id": "64d90053",
   "metadata": {},
   "source": [
    "### Problem 11: Applying Genetic Programming "
   ]
  },
  {
   "cell_type": "code",
   "execution_count": 1,
   "id": "e4f0b1ac",
   "metadata": {
    "scrolled": true
   },
   "outputs": [
    {
     "name": "stdout",
     "output_type": "stream",
     "text": [
      "Collecting deap\n",
      "  Downloading deap-1.3.1-cp39-cp39-macosx_10_14_x86_64.whl (109 kB)\n",
      "\u001b[K     |████████████████████████████████| 109 kB 1.1 MB/s eta 0:00:01\n",
      "\u001b[?25hRequirement already satisfied: numpy in /Users/Ivan/opt/anaconda3/lib/python3.9/site-packages (from deap) (1.20.3)\n",
      "Installing collected packages: deap\n",
      "Successfully installed deap-1.3.1\n"
     ]
    }
   ],
   "source": [
    "!pip install deap"
   ]
  },
  {
   "cell_type": "code",
   "execution_count": 25,
   "id": "2bd35a6e",
   "metadata": {
    "scrolled": true
   },
   "outputs": [
    {
     "name": "stdout",
     "output_type": "stream",
     "text": [
      "Collecting UliEngineering\n",
      "  Downloading UliEngineering-0.3.7.tar.gz (69 kB)\n",
      "\u001b[K     |████████████████████████████████| 69 kB 698 kB/s eta 0:00:01\n",
      "\u001b[?25hRequirement already satisfied: numpy>=1.5 in /Users/Ivan/opt/anaconda3/lib/python3.9/site-packages (from UliEngineering) (1.20.3)\n",
      "Requirement already satisfied: toolz>=0.5 in /Users/Ivan/opt/anaconda3/lib/python3.9/site-packages (from UliEngineering) (0.11.1)\n",
      "Building wheels for collected packages: UliEngineering\n",
      "  Building wheel for UliEngineering (setup.py) ... \u001b[?25ldone\n",
      "\u001b[?25h  Created wheel for UliEngineering: filename=UliEngineering-0.3.7-py3-none-any.whl size=90966 sha256=c2301b68f9323023d0215b85c1bf803e64c8736602abba8426c621f74e3e2159\n",
      "  Stored in directory: /Users/Ivan/Library/Caches/pip/wheels/8b/c0/b0/19a975cac554fc528674aaf51875a2785da04762bf1265e601\n",
      "Successfully built UliEngineering\n",
      "Installing collected packages: UliEngineering\n",
      "Successfully installed UliEngineering-0.3.7\n"
     ]
    }
   ],
   "source": [
    "!pip install UliEngineering"
   ]
  },
  {
   "cell_type": "code",
   "execution_count": 26,
   "id": "df8b0f56",
   "metadata": {},
   "outputs": [],
   "source": [
    "import pandas as pd\n",
    "import numpy as np\n",
    "import matplotlib.pyplot as plt\n",
    "import math\n",
    "import deap\n",
    "import random as rd\n",
    "\n",
    "from UliEngineering.SignalProcessing.Simulation import sine_wave\n"
   ]
  },
  {
   "cell_type": "code",
   "execution_count": 61,
   "id": "7f52af47",
   "metadata": {
    "scrolled": true
   },
   "outputs": [
    {
     "data": {
      "text/html": [
       "<div>\n",
       "<style scoped>\n",
       "    .dataframe tbody tr th:only-of-type {\n",
       "        vertical-align: middle;\n",
       "    }\n",
       "\n",
       "    .dataframe tbody tr th {\n",
       "        vertical-align: top;\n",
       "    }\n",
       "\n",
       "    .dataframe thead th {\n",
       "        text-align: right;\n",
       "    }\n",
       "</style>\n",
       "<table border=\"1\" class=\"dataframe\">\n",
       "  <thead>\n",
       "    <tr style=\"text-align: right;\">\n",
       "      <th></th>\n",
       "      <th>Output</th>\n",
       "      <th>Input</th>\n",
       "    </tr>\n",
       "  </thead>\n",
       "  <tbody>\n",
       "    <tr>\n",
       "      <th>0</th>\n",
       "      <td>0.963114</td>\n",
       "      <td>0.000000</td>\n",
       "    </tr>\n",
       "    <tr>\n",
       "      <th>1</th>\n",
       "      <td>1.130262</td>\n",
       "      <td>0.031574</td>\n",
       "    </tr>\n",
       "    <tr>\n",
       "      <th>2</th>\n",
       "      <td>0.823157</td>\n",
       "      <td>0.063148</td>\n",
       "    </tr>\n",
       "    <tr>\n",
       "      <th>3</th>\n",
       "      <td>1.143370</td>\n",
       "      <td>0.094721</td>\n",
       "    </tr>\n",
       "    <tr>\n",
       "      <th>4</th>\n",
       "      <td>1.382332</td>\n",
       "      <td>0.126295</td>\n",
       "    </tr>\n",
       "  </tbody>\n",
       "</table>\n",
       "</div>"
      ],
      "text/plain": [
       "     Output     Input\n",
       "0  0.963114  0.000000\n",
       "1  1.130262  0.031574\n",
       "2  0.823157  0.063148\n",
       "3  1.143370  0.094721\n",
       "4  1.382332  0.126295"
      ]
     },
     "execution_count": 61,
     "metadata": {},
     "output_type": "execute_result"
    }
   ],
   "source": [
    "# Generation of data\n",
    "\n",
    "in_array = np.linspace(0, 2 * np.pi, 200)\n",
    "y = []\n",
    "cos = []\n",
    "sin = []\n",
    "e = np.random.normal(0,0.2,200)\n",
    "\n",
    "for i in range(len(in_array)):\n",
    "    cos.append(math.cos(2*in_array[i]))\n",
    "    sin.append(math.sin(in_array[i]))\n",
    "    y.append(sin[i] + cos[i] + e[i])\n",
    "    i += 1\n",
    "\n",
    "df = pd.DataFrame({'Output': y, 'Input': in_array})\n",
    "df.head()"
   ]
  },
  {
   "cell_type": "code",
   "execution_count": 68,
   "id": "28582a49",
   "metadata": {
    "scrolled": true
   },
   "outputs": [
    {
     "data": {
      "text/plain": [
       "[<matplotlib.lines.Line2D at 0x7ff7da336d60>]"
      ]
     },
     "execution_count": 68,
     "metadata": {},
     "output_type": "execute_result"
    },
    {
     "data": {
      "image/png": "[encoded data removed]",
      "text/plain": [
       "<Figure size 432x288 with 1 Axes>"
      ]
     },
     "metadata": {
      "needs_background": "light"
     },
     "output_type": "display_data"
    }
   ],
   "source": [
    "plt.plot(df['Output'])"
   ]
  },
  {
   "cell_type": "markdown",
   "id": "5444155e",
   "metadata": {},
   "source": [
    "To model a process using an evolutionary algorithm, we need a **candidate model**, basically, an assumption or 'inductive bias' about what kind of model we are searching for. In this case, we look at the data and try to fit a sin function to it because thats what seems likely."
   ]
  },
  {
   "cell_type": "markdown",
   "id": "96f7004b",
   "metadata": {},
   "source": [
    "**Some General GA Steps**:\n",
    "1. Initialize the population with characteristics you'd like to explore\n",
    "2. Calculate the fitness of all units/individuals in the population\n",
    "3. Sample the `parents` with sampling weights based on fitness\n",
    "4. The population from steps 4 become he children from the previous generation. repeat steps 2-4."
   ]
  },
  {
   "cell_type": "code",
   "execution_count": 71,
   "id": "ff40721b",
   "metadata": {},
   "outputs": [],
   "source": [
    "from deap import algorithms\n",
    "from deap import base\n",
    "from deap import creator\n",
    "from deap import tools\n",
    "import array"
   ]
  },
  {
   "cell_type": "markdown",
   "id": "2ba31916",
   "metadata": {},
   "source": [
    "Now we need to define the individual, strategy, and fitness as datatypes"
   ]
  },
  {
   "cell_type": "code",
   "execution_count": 79,
   "id": "43d6edfd",
   "metadata": {},
   "outputs": [
    {
     "name": "stderr",
     "output_type": "stream",
     "text": [
      "/Users/Ivan/opt/anaconda3/lib/python3.9/site-packages/deap/creator.py:138: RuntimeWarning: A class named 'Individual' has already been created and it will be overwritten. Consider deleting previous creation of that class or rename it.\n",
      "  warnings.warn(\"A class named '{0}' has already been created and it \"\n",
      "/Users/Ivan/opt/anaconda3/lib/python3.9/site-packages/deap/creator.py:138: RuntimeWarning: A class named 'Strategy' has already been created and it will be overwritten. Consider deleting previous creation of that class or rename it.\n",
      "  warnings.warn(\"A class named '{0}' has already been created and it \"\n"
     ]
    }
   ],
   "source": [
    "creator.create(\"FitnessMin\", base.Fitness, weights=(-1.0,))\n",
    "creator.create(\"Individual\", array.array, typecode=\"d\", fitness=creator.FitnessMin, strategy=None)\n",
    "creator.create(\"Strategy\", array.array, typecode=\"d\")"
   ]
  },
  {
   "cell_type": "code",
   "execution_count": 80,
   "id": "14691395",
   "metadata": {},
   "outputs": [],
   "source": [
    "def generateES(ind_cls, strg_cls, size):\n",
    "    ind = ind_cls(random.normal() for i in range(size))\n",
    "    ind.strategy = strg_cls(random.normal() for i in range(size))\n",
    "    return ind\n",
    "\n",
    "toolbox = base.Toolbox()\n",
    "\n",
    "IND_SIZE = 5\n",
    "NGEN = 100\n",
    "# generation functions\n",
    "toolbox.register(\"individual\", generateES, creator.Individual, creator.Strategy, IND_SIZE)\n",
    "toolbox.register(\"population\", tools.initRepeat, list, toolbox.individual)"
   ]
  },
  {
   "cell_type": "code",
   "execution_count": null,
   "id": "d48b70e0",
   "metadata": {},
   "outputs": [],
   "source": [
    "# evolutionary ops\n",
    "toolbox.register(\"mate\", tools.cxESBlend, alpha=0.1)\n",
    "toolbox.register(\"mutate\", tools.mutESLogNormal, c=1.0, indpb=0.3)\n",
    "toolbox.register(\"select\", tools.selTournament, tournsize=3)\n",
    "\n",
    "def pred(ind, x):\n",
    "    \n",
    "    y_ = 0.0\n",
    "    \n",
    "    for i in range(1,IND_SIZE):\n",
    "        y_ += ind[i-1]*x**i\n",
    "    \n",
    "    y_ += ind[IND_SIZE-1]\n",
    "       \n",
    "    return y_\n",
    "\n",
    "def fitness(ind, data):\n",
    "    \n",
    "    mse = 0.0\n",
    "    \n",
    "    for x, y in data:\n",
    "        \n",
    "        y_ = pred(ind, x)\n",
    "        mse += (y - y_)**2\n",
    "        \n",
    "    return mse/len(data),\n",
    "\n",
    "# fitness eval\n",
    "toolbox.register(\"evaluate\", fitness, data=data)b"
   ]
  },
  {
   "cell_type": "markdown",
   "id": "2e28e635",
   "metadata": {},
   "source": [
    "### Problem 12: Particle Swarm Optimization\n",
    "We are focusing on the collective behavior of simple organisms and their interaction with the environment.\n",
    "\n",
    "PSO focuses on a group of birds. Birds are hungry and are searching for food. These hungry birds can be correlated with the tasks in a computation system which are hungry for resources. One food particle. The best approach to finding the food is to follow the birds which are nearest to the food particle.\n",
    "\n"
   ]
  },
  {
   "cell_type": "markdown",
   "id": "b48a4201",
   "metadata": {},
   "source": [
    "### Problem 13: Simulating trail laying ants\n",
    "-  aingle any is walking at a time and it leaves a weight of 1 pheromone on the path\n",
    "- An any always chooses the dge that holds the most pheromones\n",
    "- If there isno pheromones, the ant chooses an edge randomly"
   ]
  },
  {
   "cell_type": "markdown",
   "id": "7e8ed797",
   "metadata": {},
   "source": [
    "### Problem 14: \n",
    "- Instill short term memory into the ant\n",
    "- Distinguish its own pheromone from other ants \n",
    "- Making it more likely to ignore under a certain level of pheromone"
   ]
  },
  {
   "cell_type": "markdown",
   "id": "27a622d6",
   "metadata": {},
   "source": [
    "### Problem 15:"
   ]
  },
  {
   "cell_type": "markdown",
   "id": "521ec0a0",
   "metadata": {},
   "source": [
    "### Problem 16:\n",
    "Ant Colony optimization implementation on traveling salesman problem. Here you have cities as the nodes or the distances as the nodes."
   ]
  }
 ],
 "metadata": {
  "kernelspec": {
   "display_name": "Python 3 (ipykernel)",
   "language": "python",
   "name": "python3"
  },
  "language_info": {
   "codemirror_mode": {
    "name": "ipython",
    "version": 3
   },
   "file_extension": ".py",
   "mimetype": "text/x-python",
   "name": "python",
   "nbconvert_exporter": "python",
   "pygments_lexer": "ipython3",
   "version": "3.9.12"
  }
 },
 "nbformat": 4,
 "nbformat_minor": 5
}
