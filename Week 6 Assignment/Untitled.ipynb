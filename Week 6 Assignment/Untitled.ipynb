{
 "cells": [
  {
   "cell_type": "markdown",
   "id": "b384cdb5",
   "metadata": {},
   "source": [
    "# Session 7: Principle Components\n",
    "\n",
    "### Introduction:\n",
    "\n",
    "**Supervised Learning**: typically have a set of p features measured on n observations, ad a response Y also measured on those same n observations. Predict Y using features.\n",
    "\n",
    "**Unsupervised Learning**: We have only a set of features. Not interested in prediction, but rather, discover interesting things about the measurements.\n",
    "\n",
    "- Unsupervised learning is often performed as part of *exploratory data analysis*.\n",
    "\n",
    "**Principle Components**: When faced with a large set of correlated variables, principal components allows us to summarize this set with a smaller number of representative variables that collectively explain most of the variability in the original set.\n",
    "\n",
    "The idea is to find a low-dimensional representation of the data that captures as much of the information as possible"
   ]
  }
 ],
 "metadata": {
  "kernelspec": {
   "display_name": "Python 3 (ipykernel)",
   "language": "python",
   "name": "python3"
  },
  "language_info": {
   "codemirror_mode": {
    "name": "ipython",
    "version": 3
   },
   "file_extension": ".py",
   "mimetype": "text/x-python",
   "name": "python",
   "nbconvert_exporter": "python",
   "pygments_lexer": "ipython3",
   "version": "3.9.7"
  }
 },
 "nbformat": 4,
 "nbformat_minor": 5
}
