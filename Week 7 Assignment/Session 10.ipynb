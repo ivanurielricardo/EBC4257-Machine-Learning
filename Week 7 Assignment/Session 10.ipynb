{
 "cells": [
  {
   "cell_type": "markdown",
   "id": "20315a24",
   "metadata": {},
   "source": [
    "# Session 10 Gaussian Processes"
   ]
  },
  {
   "cell_type": "markdown",
   "id": "d6ec73e4",
   "metadata": {},
   "source": [
    "### Introduction\n",
    "- Interested in predicting the function at concrete points\n",
    "- Bayesian inference: Update the current hypothesis as new information becomes available\n",
    "- Choice of kernel (covariance function) is crucial for the shape of the prior and posterior of the GP\n",
    "\n",
    "**Gaussian Processes**\n",
    "\n",
    "- Using conditioning we can find the probabilities from the joint distribution"
   ]
  },
  {
   "cell_type": "markdown",
   "id": "8eca5c5d",
   "metadata": {},
   "source": [
    "### Problem 1: Proof that scalar multiplication/quadratic of a linear kernel is still a kernel"
   ]
  },
  {
   "cell_type": "markdown",
   "id": "1caad90a",
   "metadata": {},
   "source": [
    "Consider the scalar $c$ and the linear kernel k(x,x'). We then have\n",
    "\n",
    "$$ k_1(x,x') = c k(x,x') $$\n",
    "\n",
    "Given that kernels can be represented by positive, semi-definite matrices, that k is also a kernel.\n",
    "\n",
    "**Positive Semi-Definite**: A symmetric matrix is said to be *positive semi-definite* iff the associated quadratic form q is non-negative everywhere. Eigenvalues of A are non-negative \n",
    "\n",
    "**Symmetric**: a square matrix that is equal to the transpose \n",
    "\n",
    "**Feature Map**: the output activations for a given filter. It is a mapping that corresponds to the activation of different parts of an image. Since a kernel function corresponds to an inner product in some (possibly infinite dimensional) feature space, we can also write the kernel as a feature mapping.\n",
    "\n",
    "When using a Kernel in a linear model, it is just like transforming the input data\n",
    "\n",
    "$k_1(x,x')$ is symmetric and positive semidefinite. \\Proof: if $\\phi$ is the feature map for $\\kappa$, $\\sqrt{\\gamma}\\phi$ is a valid feature map for $\\gamma \\kappa$.\n",
    "\n",
    "If $\\kappa$ is a pd kernel and \n",
    "$ f: \\chi \\rightarrow \\mathbb{R},\\ \n",
    "g(x,y) := f(x)\\kappa f(y)$\n",
    "is as well.\\\n",
    "Proof: Use the feature map $x \\rightarrow f(x)\\phi(x)$\n"
   ]
  },
  {
   "cell_type": "markdown",
   "id": "6480907d",
   "metadata": {},
   "source": [
    "### Problem 2: Compute the posterior of a Gaussian process"
   ]
  },
  {
   "cell_type": "markdown",
   "id": "7bb4c93e",
   "metadata": {},
   "source": [
    "- Kernel is the subspace of the domain -> can have many bases\n",
    "- Kernel is the set of all points defined by the dot product of the two vectors\n"
   ]
  },
  {
   "cell_type": "markdown",
   "id": "e97bb4f7",
   "metadata": {},
   "source": [
    "https://stats.stackexchange.com/questions/182805/proof-that-the-linear-kernel-is-a-kernel-understanding-the-math"
   ]
  },
  {
   "cell_type": "code",
   "execution_count": 2,
   "id": "7928bdea",
   "metadata": {},
   "outputs": [],
   "source": [
    "import numpy as np\n",
    "import pandas as pd\n",
    "import matplotlib.pyplot as plt\n",
    "import random as rd"
   ]
  },
  {
   "cell_type": "markdown",
   "id": "5ebe3245",
   "metadata": {},
   "source": [
    "### Problem 3: Sampling from a GP prior"
   ]
  },
  {
   "cell_type": "code",
   "execution_count": 4,
   "id": "4083a6c4",
   "metadata": {},
   "outputs": [
    {
     "name": "stdout",
     "output_type": "stream",
     "text": [
      "Requirement already satisfied: gpflow in /Users/Ivan/opt/anaconda3/lib/python3.9/site-packages (2.5.2)\n",
      "Requirement already satisfied: scipy in /Users/Ivan/opt/anaconda3/lib/python3.9/site-packages (from gpflow) (1.7.3)\n",
      "Requirement already satisfied: setuptools>=41.0.0 in /Users/Ivan/opt/anaconda3/lib/python3.9/site-packages (from gpflow) (61.2.0)\n",
      "Requirement already satisfied: deprecated in /Users/Ivan/opt/anaconda3/lib/python3.9/site-packages (from gpflow) (1.2.13)\n",
      "Requirement already satisfied: multipledispatch>=0.6 in /Users/Ivan/opt/anaconda3/lib/python3.9/site-packages (from gpflow) (0.6.0)\n",
      "Requirement already satisfied: lark>=1.1.0 in /Users/Ivan/opt/anaconda3/lib/python3.9/site-packages (from gpflow) (1.1.2)\n",
      "Requirement already satisfied: packaging in /Users/Ivan/opt/anaconda3/lib/python3.9/site-packages (from gpflow) (21.3)\n",
      "Requirement already satisfied: tabulate in /Users/Ivan/opt/anaconda3/lib/python3.9/site-packages (from gpflow) (0.8.9)\n",
      "Requirement already satisfied: numpy in /Users/Ivan/opt/anaconda3/lib/python3.9/site-packages (from gpflow) (1.21.5)\n",
      "Requirement already satisfied: tensorflow-probability>=0.12.0 in /Users/Ivan/opt/anaconda3/lib/python3.9/site-packages (from gpflow) (0.16.0)\n",
      "Requirement already satisfied: tensorflow>=2.4.0 in /Users/Ivan/opt/anaconda3/lib/python3.9/site-packages (from gpflow) (2.8.1)\n",
      "Requirement already satisfied: typing-extensions in /Users/Ivan/opt/anaconda3/lib/python3.9/site-packages (from gpflow) (4.1.1)\n",
      "Requirement already satisfied: six in /Users/Ivan/opt/anaconda3/lib/python3.9/site-packages (from multipledispatch>=0.6->gpflow) (1.16.0)\n",
      "Requirement already satisfied: wrapt>=1.11.0 in /Users/Ivan/opt/anaconda3/lib/python3.9/site-packages (from tensorflow>=2.4.0->gpflow) (1.12.1)\n",
      "Requirement already satisfied: keras-preprocessing>=1.1.1 in /Users/Ivan/opt/anaconda3/lib/python3.9/site-packages (from tensorflow>=2.4.0->gpflow) (1.1.2)\n",
      "Requirement already satisfied: tensorflow-estimator<2.9,>=2.8 in /Users/Ivan/opt/anaconda3/lib/python3.9/site-packages (from tensorflow>=2.4.0->gpflow) (2.8.0)\n",
      "Requirement already satisfied: astunparse>=1.6.0 in /Users/Ivan/opt/anaconda3/lib/python3.9/site-packages (from tensorflow>=2.4.0->gpflow) (1.6.3)\n",
      "Requirement already satisfied: h5py>=2.9.0 in /Users/Ivan/opt/anaconda3/lib/python3.9/site-packages (from tensorflow>=2.4.0->gpflow) (3.6.0)\n",
      "Requirement already satisfied: termcolor>=1.1.0 in /Users/Ivan/opt/anaconda3/lib/python3.9/site-packages (from tensorflow>=2.4.0->gpflow) (1.1.0)\n",
      "Requirement already satisfied: grpcio<2.0,>=1.24.3 in /Users/Ivan/opt/anaconda3/lib/python3.9/site-packages (from tensorflow>=2.4.0->gpflow) (1.42.0)\n",
      "Requirement already satisfied: keras<2.9,>=2.8.0rc0 in /Users/Ivan/opt/anaconda3/lib/python3.9/site-packages (from tensorflow>=2.4.0->gpflow) (2.8.0)\n",
      "Requirement already satisfied: gast>=0.2.1 in /Users/Ivan/opt/anaconda3/lib/python3.9/site-packages (from tensorflow>=2.4.0->gpflow) (0.5.3)\n",
      "Requirement already satisfied: flatbuffers>=1.12 in /Users/Ivan/opt/anaconda3/lib/python3.9/site-packages (from tensorflow>=2.4.0->gpflow) (2.0)\n",
      "Requirement already satisfied: absl-py>=0.4.0 in /Users/Ivan/opt/anaconda3/lib/python3.9/site-packages (from tensorflow>=2.4.0->gpflow) (1.0.0)\n",
      "Requirement already satisfied: protobuf>=3.9.2 in /Users/Ivan/opt/anaconda3/lib/python3.9/site-packages (from tensorflow>=2.4.0->gpflow) (3.19.1)\n",
      "Requirement already satisfied: opt-einsum>=2.3.2 in /Users/Ivan/opt/anaconda3/lib/python3.9/site-packages (from tensorflow>=2.4.0->gpflow) (3.3.0)\n",
      "Requirement already satisfied: libclang>=9.0.1 in /Users/Ivan/opt/anaconda3/lib/python3.9/site-packages (from tensorflow>=2.4.0->gpflow) (14.0.1)\n",
      "Requirement already satisfied: tensorflow-io-gcs-filesystem>=0.23.1 in /Users/Ivan/opt/anaconda3/lib/python3.9/site-packages (from tensorflow>=2.4.0->gpflow) (0.25.0)\n",
      "Requirement already satisfied: google-pasta>=0.1.1 in /Users/Ivan/opt/anaconda3/lib/python3.9/site-packages (from tensorflow>=2.4.0->gpflow) (0.2.0)\n",
      "Requirement already satisfied: tensorboard<2.9,>=2.8 in /Users/Ivan/opt/anaconda3/lib/python3.9/site-packages (from tensorflow>=2.4.0->gpflow) (2.8.0)\n",
      "Requirement already satisfied: dm-tree in /Users/Ivan/opt/anaconda3/lib/python3.9/site-packages (from tensorflow-probability>=0.12.0->gpflow) (0.1.7)\n",
      "Requirement already satisfied: cloudpickle>=1.3 in /Users/Ivan/opt/anaconda3/lib/python3.9/site-packages (from tensorflow-probability>=0.12.0->gpflow) (2.0.0)\n",
      "Requirement already satisfied: decorator in /Users/Ivan/opt/anaconda3/lib/python3.9/site-packages (from tensorflow-probability>=0.12.0->gpflow) (5.1.1)\n",
      "Requirement already satisfied: pyparsing!=3.0.5,>=2.0.2 in /Users/Ivan/opt/anaconda3/lib/python3.9/site-packages (from packaging->gpflow) (3.0.4)\n",
      "Requirement already satisfied: wheel<1.0,>=0.23.0 in /Users/Ivan/opt/anaconda3/lib/python3.9/site-packages (from astunparse>=1.6.0->tensorflow>=2.4.0->gpflow) (0.37.1)\n",
      "Requirement already satisfied: google-auth<3,>=1.6.3 in /Users/Ivan/opt/anaconda3/lib/python3.9/site-packages (from tensorboard<2.9,>=2.8->tensorflow>=2.4.0->gpflow) (1.33.0)\n",
      "Requirement already satisfied: tensorboard-data-server<0.7.0,>=0.6.0 in /Users/Ivan/opt/anaconda3/lib/python3.9/site-packages (from tensorboard<2.9,>=2.8->tensorflow>=2.4.0->gpflow) (0.6.1)\n",
      "Requirement already satisfied: werkzeug>=0.11.15 in /Users/Ivan/opt/anaconda3/lib/python3.9/site-packages (from tensorboard<2.9,>=2.8->tensorflow>=2.4.0->gpflow) (2.0.3)\n",
      "Requirement already satisfied: google-auth-oauthlib<0.5,>=0.4.1 in /Users/Ivan/opt/anaconda3/lib/python3.9/site-packages (from tensorboard<2.9,>=2.8->tensorflow>=2.4.0->gpflow) (0.4.6)\n",
      "Requirement already satisfied: requests<3,>=2.21.0 in /Users/Ivan/opt/anaconda3/lib/python3.9/site-packages (from tensorboard<2.9,>=2.8->tensorflow>=2.4.0->gpflow) (2.27.1)\n",
      "Requirement already satisfied: tensorboard-plugin-wit>=1.6.0 in /Users/Ivan/opt/anaconda3/lib/python3.9/site-packages (from tensorboard<2.9,>=2.8->tensorflow>=2.4.0->gpflow) (1.8.1)\n",
      "Requirement already satisfied: markdown>=2.6.8 in /Users/Ivan/opt/anaconda3/lib/python3.9/site-packages (from tensorboard<2.9,>=2.8->tensorflow>=2.4.0->gpflow) (3.3.4)\n",
      "Requirement already satisfied: cachetools<5.0,>=2.0.0 in /Users/Ivan/opt/anaconda3/lib/python3.9/site-packages (from google-auth<3,>=1.6.3->tensorboard<2.9,>=2.8->tensorflow>=2.4.0->gpflow) (4.2.2)\n",
      "Requirement already satisfied: pyasn1-modules>=0.2.1 in /Users/Ivan/opt/anaconda3/lib/python3.9/site-packages (from google-auth<3,>=1.6.3->tensorboard<2.9,>=2.8->tensorflow>=2.4.0->gpflow) (0.2.8)\n",
      "Requirement already satisfied: rsa<5,>=3.1.4 in /Users/Ivan/opt/anaconda3/lib/python3.9/site-packages (from google-auth<3,>=1.6.3->tensorboard<2.9,>=2.8->tensorflow>=2.4.0->gpflow) (4.7.2)\n",
      "Requirement already satisfied: requests-oauthlib>=0.7.0 in /Users/Ivan/opt/anaconda3/lib/python3.9/site-packages (from google-auth-oauthlib<0.5,>=0.4.1->tensorboard<2.9,>=2.8->tensorflow>=2.4.0->gpflow) (1.3.1)\n",
      "Requirement already satisfied: certifi>=2017.4.17 in /Users/Ivan/opt/anaconda3/lib/python3.9/site-packages (from requests<3,>=2.21.0->tensorboard<2.9,>=2.8->tensorflow>=2.4.0->gpflow) (2021.10.8)\n",
      "Requirement already satisfied: urllib3<1.27,>=1.21.1 in /Users/Ivan/opt/anaconda3/lib/python3.9/site-packages (from requests<3,>=2.21.0->tensorboard<2.9,>=2.8->tensorflow>=2.4.0->gpflow) (1.26.9)\n",
      "Requirement already satisfied: idna<4,>=2.5 in /Users/Ivan/opt/anaconda3/lib/python3.9/site-packages (from requests<3,>=2.21.0->tensorboard<2.9,>=2.8->tensorflow>=2.4.0->gpflow) (3.3)\n",
      "Requirement already satisfied: charset-normalizer~=2.0.0 in /Users/Ivan/opt/anaconda3/lib/python3.9/site-packages (from requests<3,>=2.21.0->tensorboard<2.9,>=2.8->tensorflow>=2.4.0->gpflow) (2.0.4)\n",
      "Requirement already satisfied: pyasn1<0.5.0,>=0.4.6 in /Users/Ivan/opt/anaconda3/lib/python3.9/site-packages (from pyasn1-modules>=0.2.1->google-auth<3,>=1.6.3->tensorboard<2.9,>=2.8->tensorflow>=2.4.0->gpflow) (0.4.8)\n",
      "Requirement already satisfied: oauthlib>=3.0.0 in /Users/Ivan/opt/anaconda3/lib/python3.9/site-packages (from requests-oauthlib>=0.7.0->google-auth-oauthlib<0.5,>=0.4.1->tensorboard<2.9,>=2.8->tensorflow>=2.4.0->gpflow) (3.2.0)\n"
     ]
    }
   ],
   "source": [
    "!pip install gpflow"
   ]
  },
  {
   "cell_type": "code",
   "execution_count": 10,
   "id": "92e5573a",
   "metadata": {},
   "outputs": [],
   "source": [
    "import gpflow\n",
    "import sklearn.gaussian_process.kernels"
   ]
  },
  {
   "cell_type": "markdown",
   "id": "93119818",
   "metadata": {},
   "source": [
    "#### Covariance Functions:\n",
    "I define two covariance functions to test. The first is the normal definition of the covariance. The second is the 'squared exponential' covariance function. The squared exponential is a simple stationary parametric covariance function with a smooth sample path. This is also known as the **RBF Kernel**. Other covariance functions include Matern covariance and rational quadratic."
   ]
  },
  {
   "cell_type": "code",
   "execution_count": 11,
   "id": "59ea49d5",
   "metadata": {},
   "outputs": [],
   "source": [
    "def covariance(x,y):\n",
    "    # finding the mean of the series x and y\n",
    "    mean_x = sum(x)/float(len(x))\n",
    "    mean_y = sum(y)/float(len(x))\n",
    "    # subtracting mean from the individual elements\n",
    "    sub_x = [i-mean_x for i in x]\n",
    "    sub_y = [i-mean_y for i in y]\n",
    "    numerator = sum([sub_x[i]*sub_y[i] for i in range(len(sub_x))])\n",
    "    denominator = len(x)-1\n",
    "    cov = numerator/denominator\n",
    "    return cov"
   ]
  },
  {
   "cell_type": "code",
   "execution_count": 12,
   "id": "1fc60ddd",
   "metadata": {},
   "outputs": [],
   "source": [
    "def exponential_cov(x, y, params):\n",
    "    return params[0] * np.exp( -0.5 * params[1] * np.subtract.outer(x, y)**2)\n"
   ]
  },
  {
   "cell_type": "code",
   "execution_count": 13,
   "id": "f2252bd8",
   "metadata": {},
   "outputs": [],
   "source": [
    "def conditional(x_new, x, y, params):\n",
    "    B = exponential_cov(x_new, x, params)\n",
    "    C = exponential_cov(x, x, params)\n",
    "    A = exponential_cov(x_new, x_new, params)\n",
    "    mu = np.linalg.inv(C).dot(B.T).T.dot(y)\n",
    "    sigma = A - B.dot(np.linalg.inv(C).dot(B.T))\n",
    "    return(mu.squeeze(), sigma.squeeze())"
   ]
  },
  {
   "cell_type": "code",
   "execution_count": 14,
   "id": "2b4628af",
   "metadata": {
    "scrolled": true
   },
   "outputs": [
    {
     "data": {
      "text/plain": [
       "<ErrorbarContainer object of 3 artists>"
      ]
     },
     "execution_count": 14,
     "metadata": {},
     "output_type": "execute_result"
    },
    {
     "data": {
      "image/png": "[encoded data removed]",
      "text/plain": [
       "<Figure size 432x288 with 1 Axes>"
      ]
     },
     "metadata": {
      "needs_background": "light"
     },
     "output_type": "display_data"
    }
   ],
   "source": [
    "theta = [1, 10]\n",
    "sigma_0 = exponential_cov(0, 0, theta)\n",
    "# sigma_0 = covariance([0,1,2,3,4],[0,1,2,3,4])\n",
    "xpts = np.arange(-3, 3, step=0.01)\n",
    "plt.errorbar(xpts, np.zeros(len(xpts)), yerr=sigma_0, capsize=0)"
   ]
  },
  {
   "cell_type": "markdown",
   "id": "2d970cfb",
   "metadata": {},
   "source": [
    "Note theta represents the hyperparameters. Selecting an arbitrary starting point: x = 1. "
   ]
  },
  {
   "cell_type": "code",
   "execution_count": 69,
   "id": "6250e158",
   "metadata": {},
   "outputs": [
    {
     "name": "stdout",
     "output_type": "stream",
     "text": [
      "[-1.532689286020542]\n"
     ]
    }
   ],
   "source": [
    "x = [1.]\n",
    "y = [np.random.normal(scale=sigma_0)]\n",
    "print(y)"
   ]
  },
  {
   "cell_type": "markdown",
   "id": "882463f8",
   "metadata": {},
   "source": [
    "Can update the confidence band given the point we just sampled using the covariance function to generate new point-wise intervals, conditional on the value x_0 and y_0"
   ]
  },
  {
   "cell_type": "code",
   "execution_count": 70,
   "id": "b8ab67d2",
   "metadata": {},
   "outputs": [],
   "source": [
    "sigma_1 = exponential_cov(x,x, theta)"
   ]
  },
  {
   "cell_type": "code",
   "execution_count": 71,
   "id": "c3678378",
   "metadata": {},
   "outputs": [],
   "source": [
    "def predict(x, data, kernel, params, sigma, t):\n",
    "    k = [kernel(x, y, params) for y in data]\n",
    "    sinv = np.linalg.inv(sigma)\n",
    "    y_pred = np.dot(k, sinv).dot(t)\n",
    "    sigma_new = kernel(x, x, params) - np.dot(k, sinv).dot(k)\n",
    "    return y_pred, sigma_new\n",
    "\n",
    "x_pred = np.linspace(-3, 3, 1000)\n",
    "predictions = [predict(i, x, exponential_cov, theta, sigma_1, y) for i in x_pred]"
   ]
  },
  {
   "cell_type": "code",
   "execution_count": 72,
   "id": "caba9c96",
   "metadata": {},
   "outputs": [
    {
     "data": {
      "text/plain": [
       "[<matplotlib.lines.Line2D at 0x7f92a22a86d0>]"
      ]
     },
     "execution_count": 72,
     "metadata": {},
     "output_type": "execute_result"
    },
    {
     "data": {
      "image/png": "[encoded data removed]",
      "text/plain": [
       "<Figure size 432x288 with 1 Axes>"
      ]
     },
     "metadata": {
      "needs_background": "light"
     },
     "output_type": "display_data"
    }
   ],
   "source": [
    "y_pred, sigmas = np.transpose(predictions)\n",
    "plt.errorbar(x_pred, y_pred, yerr = sigmas, capsize = 0)\n",
    "plt.plot(x, y, 'ro')"
   ]
  },
  {
   "cell_type": "markdown",
   "id": "5e101756",
   "metadata": {},
   "source": [
    "So conditional on this point and the covariance structure, we have essentially constrained the probable location of additional points"
   ]
  },
  {
   "cell_type": "code",
   "execution_count": 73,
   "id": "5d19dcb5",
   "metadata": {},
   "outputs": [
    {
     "name": "stdout",
     "output_type": "stream",
     "text": [
      "-0.6963628236068277\n"
     ]
    }
   ],
   "source": [
    "m, s = conditional([-0.7], x, y, theta)\n",
    "y2 = np.random.normal(m, s)\n",
    "print(y2)"
   ]
  },
  {
   "cell_type": "markdown",
   "id": "f60203fb",
   "metadata": {},
   "source": [
    "This point is the added to the realization and can be used to further update the location of the next point"
   ]
  },
  {
   "cell_type": "code",
   "execution_count": 74,
   "id": "1a130644",
   "metadata": {},
   "outputs": [],
   "source": [
    "x.append(-0.7)\n",
    "y.append(y2)\n",
    "sigma_2 = exponential_cov(x, x, theta)\n",
    "predictions =  [predict(i, x, exponential_cov, theta, sigma_2, y) for i in x_pred]"
   ]
  },
  {
   "cell_type": "code",
   "execution_count": 75,
   "id": "131a3401",
   "metadata": {},
   "outputs": [
    {
     "data": {
      "text/plain": [
       "[<matplotlib.lines.Line2D at 0x7f92a25487f0>]"
      ]
     },
     "execution_count": 75,
     "metadata": {},
     "output_type": "execute_result"
    },
    {
     "data": {
      "image/png": "[encoded data removed]",
      "text/plain": [
       "<Figure size 432x288 with 1 Axes>"
      ]
     },
     "metadata": {
      "needs_background": "light"
     },
     "output_type": "display_data"
    }
   ],
   "source": [
    "y_pred, sigmas = np.transpose(predictions)\n",
    "plt.errorbar(x_pred, y_pred, yerr = sigmas, capsize = 0)\n",
    "plt.plot(x, y, 'ro')"
   ]
  },
  {
   "cell_type": "markdown",
   "id": "fa81a50a",
   "metadata": {},
   "source": [
    "Sample several points at once:"
   ]
  },
  {
   "cell_type": "code",
   "execution_count": 76,
   "id": "e7fceee9",
   "metadata": {},
   "outputs": [
    {
     "name": "stdout",
     "output_type": "stream",
     "text": [
      "[ 0.68664784  0.64164187 -0.51974934 -1.10996198 -1.2111731 ]\n"
     ]
    }
   ],
   "source": [
    "x_more = [-2.1, -1.5, 0.3, 1.8, 2.5]\n",
    "mu, s = conditional(x_more, x, y, theta)\n",
    "y_more = np.random.multivariate_normal(mu, s)\n",
    "print(y_more)"
   ]
  },
  {
   "cell_type": "code",
   "execution_count": 77,
   "id": "304e7c3a",
   "metadata": {
    "scrolled": true
   },
   "outputs": [
    {
     "data": {
      "text/plain": [
       "[<matplotlib.lines.Line2D at 0x7f92a27daeb0>]"
      ]
     },
     "execution_count": 77,
     "metadata": {},
     "output_type": "execute_result"
    },
    {
     "data": {
      "image/png": "[encoded data removed]",
      "text/plain": [
       "<Figure size 432x288 with 1 Axes>"
      ]
     },
     "metadata": {
      "needs_background": "light"
     },
     "output_type": "display_data"
    }
   ],
   "source": [
    "x += x_more\n",
    "y += y_more.tolist()\n",
    "sigma_new = exponential_cov(x, x, theta)\n",
    "predictions = [predict(i, x, exponential_cov, theta, sigma_new, y) for i in x_pred]\n",
    "y_pred, sigmas = np.transpose(predictions)\n",
    "plt.errorbar(x_pred, y_pred, yerr=sigmas, capsize=0)\n",
    "plt.plot(x, y, \"ro\")"
   ]
  },
  {
   "cell_type": "markdown",
   "id": "efc6e978",
   "metadata": {},
   "source": [
    "### Different Covariance functions:\n",
    "In order to change the covariance, we have to look more closely at the kernel function. We will start with the Matern covariance."
   ]
  },
  {
   "cell_type": "code",
   "execution_count": 52,
   "id": "e19a6b3e",
   "metadata": {},
   "outputs": [],
   "source": [
    "import sklearn\n",
    "from sklearn import gaussian_process\n",
    "from sklearn.gaussian_process.kernels import Matern, WhiteKernel, ConstantKernel\n"
   ]
  },
  {
   "cell_type": "code",
   "execution_count": 79,
   "id": "79030066",
   "metadata": {},
   "outputs": [
    {
     "ename": "NameError",
     "evalue": "name 'LinearKernel' is not defined",
     "output_type": "error",
     "traceback": [
      "\u001b[0;31m---------------------------------------------------------------------------\u001b[0m",
      "\u001b[0;31mNameError\u001b[0m                                 Traceback (most recent call last)",
      "Input \u001b[0;32mIn [79]\u001b[0m, in \u001b[0;36m<cell line: 1>\u001b[0;34m()\u001b[0m\n\u001b[0;32m----> 1\u001b[0m kernel \u001b[38;5;241m=\u001b[39m \u001b[43mLinearKernel\u001b[49m() \u001b[38;5;241m+\u001b[39m Matern(length_scale\u001b[38;5;241m=\u001b[39m\u001b[38;5;241m2\u001b[39m, nu\u001b[38;5;241m=\u001b[39m\u001b[38;5;241m3\u001b[39m\u001b[38;5;241m/\u001b[39m\u001b[38;5;241m2\u001b[39m) \u001b[38;5;241m+\u001b[39m WhiteKernel(noise_level\u001b[38;5;241m=\u001b[39m\u001b[38;5;241m1\u001b[39m)\n",
      "\u001b[0;31mNameError\u001b[0m: name 'LinearKernel' is not defined"
     ]
    }
   ],
   "source": [
    "kernel = LinearKernel() + Matern(length_scale=2, nu=3/2) + WhiteKernel(noise_level=1)"
   ]
  },
  {
   "cell_type": "code",
   "execution_count": 54,
   "id": "14cb9d65",
   "metadata": {},
   "outputs": [
    {
     "name": "stdout",
     "output_type": "stream",
     "text": [
      "[1.0, -0.7, -2.1, -1.5, 0.3, 1.8, 2.5]\n"
     ]
    }
   ],
   "source": [
    "print(x)"
   ]
  },
  {
   "cell_type": "code",
   "execution_count": 55,
   "id": "90e089a6",
   "metadata": {},
   "outputs": [
    {
     "name": "stdout",
     "output_type": "stream",
     "text": [
      "(7, 1)\n"
     ]
    }
   ],
   "source": [
    "x_new = np.array(x)\n",
    "\n",
    "X = x_new.reshape(-1, 1)\n",
    "print(X.shape)"
   ]
  },
  {
   "cell_type": "code",
   "execution_count": 58,
   "id": "39a693c4",
   "metadata": {
    "scrolled": true
   },
   "outputs": [
    {
     "name": "stderr",
     "output_type": "stream",
     "text": [
      "/Users/Ivan/opt/anaconda3/lib/python3.9/site-packages/sklearn/gaussian_process/kernels.py:420: ConvergenceWarning: The optimal value found for dimension 0 of parameter k2__noise_level is close to the specified lower bound 1e-05. Decreasing the bound and calling fit again may find a better value.\n",
      "  warnings.warn(\n"
     ]
    },
    {
     "data": {
      "text/plain": [
       "GaussianProcessRegressor(kernel=1**2 + Matern(length_scale=2, nu=1.5) + WhiteKernel(noise_level=1))"
      ]
     },
     "execution_count": 58,
     "metadata": {},
     "output_type": "execute_result"
    }
   ],
   "source": [
    "gp = gaussian_process.GaussianProcessRegressor(kernel=kernel)\n",
    "gp.fit(X, y)"
   ]
  },
  {
   "cell_type": "code",
   "execution_count": 59,
   "id": "c400bfdf",
   "metadata": {},
   "outputs": [
    {
     "data": {
      "text/plain": [
       "0.249**2 + Matern(length_scale=1.26, nu=1.5) + WhiteKernel(noise_level=1e-05)"
      ]
     },
     "execution_count": 59,
     "metadata": {},
     "output_type": "execute_result"
    }
   ],
   "source": [
    "gp.kernel_"
   ]
  },
  {
   "cell_type": "markdown",
   "id": "3d937225",
   "metadata": {},
   "source": [
    "Here we can see the exact kernel used to parameterize the GP, along with their corresponding optimal hyperparameter values."
   ]
  },
  {
   "cell_type": "markdown",
   "id": "a0ef91af",
   "metadata": {},
   "source": [
    "We can also give a prediction method. For a Gaussian Process, this is done through the posterior predictive distribution, which is the GP with the mean and covariance functions updated to their posterior forms"
   ]
  },
  {
   "cell_type": "markdown",
   "id": "950458ca",
   "metadata": {},
   "source": [
    "$$ p(y^*|y, x, x^*) = GP(m^*(x^*), k^*(x^*))$$"
   ]
  },
  {
   "cell_type": "markdown",
   "id": "8e78d7f7",
   "metadata": {},
   "source": [
    "where the posterior mean and covariance functions are calculated as:\n",
    "$$ m^*(x^*) = k(x^*, x)^T[k(x,x) + \\sigma^2I]^{-1}y$$\n",
    "$$k^*(x^*) = k(x^*,x^*)+\\sigma^2-k(x^*,x)^T[k(x,x)+\\sigma^2I]^{-1}k(x^*,x) $$"
   ]
  },
  {
   "cell_type": "code",
   "execution_count": 60,
   "id": "d32f2232",
   "metadata": {},
   "outputs": [],
   "source": [
    "x_pred = np.linspace(-6,6).reshape(-1,1)\n",
    "y_pred, sigma = gp.predict(x_pred, return_std=True)"
   ]
  },
  {
   "cell_type": "code",
   "execution_count": 63,
   "id": "6b5245dc",
   "metadata": {},
   "outputs": [
    {
     "data": {
      "text/plain": [
       "[<matplotlib.lines.Line2D at 0x7f92a18d9730>]"
      ]
     },
     "execution_count": 63,
     "metadata": {},
     "output_type": "execute_result"
    },
    {
     "data": {
      "image/png": "[encoded data removed]",
      "text/plain": [
       "<Figure size 432x288 with 1 Axes>"
      ]
     },
     "metadata": {
      "needs_background": "light"
     },
     "output_type": "display_data"
    }
   ],
   "source": [
    "plt.plot(x_pred, y_pred)"
   ]
  },
  {
   "cell_type": "markdown",
   "id": "708ce2c9",
   "metadata": {},
   "source": [
    "### Problem 4: Forecasting 30 days of new cases of Covid in portugal"
   ]
  },
  {
   "cell_type": "code",
   "execution_count": 8,
   "id": "b4745218",
   "metadata": {},
   "outputs": [],
   "source": [
    "import gpflow"
   ]
  },
  {
   "cell_type": "code",
   "execution_count": 6,
   "id": "3c2c1edf",
   "metadata": {},
   "outputs": [],
   "source": [
    "import matplotlib.pyplot as plt\n",
    "import numpy as np\n",
    "import matplotlib.gridspec as gridspec\n",
    "import pandas as pd\n",
    "import pymc3 as pm\n",
    "import theano.tensor as tt\n",
    "import arviz as az\n",
    "from numpy.linalg import inv\n",
    "from numpy.linalg import det\n",
    "from scipy.optimize import minimize\n",
    "\n",
    "pd.options.mode.chained_assignment = None"
   ]
  },
  {
   "cell_type": "code",
   "execution_count": 8,
   "id": "990a1e02",
   "metadata": {},
   "outputs": [],
   "source": [
    "def multivariate_normal(x, d, mean, covariance):\n",
    "    return (1. / (np.sqrt((2*np.pi)**d * np.linalg.det(covariance))) \n",
    "            * np.exp(-(np.linalg.solve(covariance, x-mean).T.dot(x-mean))/2))"
   ]
  },
  {
   "cell_type": "code",
   "execution_count": 9,
   "id": "7bffebc7",
   "metadata": {},
   "outputs": [],
   "source": [
    "def calculate_pdf(mean, covariance, d):\n",
    "    x_ = 100\n",
    "    xs = np.linspace(-5, 5, x_)\n",
    "    ys = np.linspace(-5, 5, x_)\n",
    "    x, y = np.meshgrid(xs, ys)\n",
    "    pdf = np.zeros((x_, x_))\n",
    "    for i in range(x_):\n",
    "        for j in range(x_):\n",
    "            pdf[i,j] = multivariate_normal(\n",
    "                np.matrix([[x[i,j]], [y[i,j]]]), \n",
    "                d, mean, covariance)\n",
    "    return x, y, pdf"
   ]
  },
  {
   "cell_type": "code",
   "execution_count": 10,
   "id": "2c5fca69",
   "metadata": {
    "scrolled": true
   },
   "outputs": [
    {
     "data": {
      "image/png": "[encoded data removed]",
      "text/plain": [
       "<Figure size 576x288 with 3 Axes>"
      ]
     },
     "metadata": {
      "needs_background": "light"
     },
     "output_type": "display_data"
    }
   ],
   "source": [
    "fig, ax = plt.subplots(nrows=1, ncols=2, figsize=(8,4), sharey=True)\n",
    "d = 2 \n",
    "\n",
    "mean_ind = np.matrix([[0.], [0.]])\n",
    "covariance_ind = np.matrix([\n",
    "    [1., 0.], \n",
    "    [0., 1.]])\n",
    "x, y, p = calculate_pdf(\n",
    "    mean_ind, covariance_ind, d)\n",
    "\n",
    "ax[0].contourf(x, y, p, 100)\n",
    "ax[0].set_xlabel('$X$', fontsize=13)\n",
    "ax[0].set_ylabel('$Y$', fontsize=13)\n",
    "ax[0].axis([-2.5, 2.5, -2.5, 2.5])\n",
    "\n",
    "mean_corr = np.matrix([[0.], [0.]])\n",
    "covariance_corr = np.matrix([\n",
    "    [1., 0.8], \n",
    "    [0.8, 1.]])\n",
    "x, y, p = calculate_pdf(\n",
    "    mean_corr, covariance_corr, d)\n",
    "\n",
    "con = ax[1].contourf(x, y, p, 100)\n",
    "ax[1].set_xlabel('$X$', fontsize=13)\n",
    "ax[1].set_ylabel('$Y$', fontsize=13)\n",
    "ax[1].axis([-2.5, 2.5, -2.5, 2.5])\n",
    "\n",
    "ax[0].set_title('Independent variables', fontsize=12)\n",
    "ax[1].set_title('Correlated variables', fontsize=12)\n",
    "\n",
    "fig.subplots_adjust(right=0.8)\n",
    "cbar_ax = fig.add_axes([0.85, 0.15, 0.02, 0.7])\n",
    "cbar = fig.colorbar(con, cax=cbar_ax)\n",
    "cbar.ax.set_ylabel('$p(x, y)$', fontsize=13)\n",
    "plt.show()"
   ]
  },
  {
   "cell_type": "markdown",
   "id": "d57ec6ce",
   "metadata": {},
   "source": [
    "Correlated variables carry a ellipse shape to covariance matrix"
   ]
  },
  {
   "cell_type": "markdown",
   "id": "af283b26",
   "metadata": {},
   "source": [
    "### Problem 11: Function simulation"
   ]
  },
  {
   "cell_type": "code",
   "execution_count": 36,
   "id": "1f4d75a8",
   "metadata": {},
   "outputs": [
    {
     "name": "stdout",
     "output_type": "stream",
     "text": [
      "Collecting scikit-neuralnetwork\n",
      "  Downloading scikit-neuralnetwork-0.7.tar.gz (33 kB)\n",
      "  Preparing metadata (setup.py) ... \u001b[?25ldone\n",
      "\u001b[?25hRequirement already satisfied: scikit-learn>=0.17 in /Users/Ivan/opt/anaconda3/lib/python3.9/site-packages (from scikit-neuralnetwork) (1.0.2)\n",
      "Collecting Theano>=0.8\n",
      "  Using cached Theano-1.0.5-py3-none-any.whl\n",
      "Collecting Lasagne>=0.1\n",
      "  Downloading Lasagne-0.1.tar.gz (125 kB)\n",
      "\u001b[2K     \u001b[90m━━━━━━━━━━━━━━━━━━━━━━━━━━━━━━━━━━━━━━━\u001b[0m \u001b[32m125.1/125.1 kB\u001b[0m \u001b[31m4.5 MB/s\u001b[0m eta \u001b[36m0:00:00\u001b[0m\n",
      "\u001b[?25h  Preparing metadata (setup.py) ... \u001b[?25ldone\n",
      "\u001b[?25hRequirement already satisfied: numpy in /Users/Ivan/opt/anaconda3/lib/python3.9/site-packages (from Lasagne>=0.1->scikit-neuralnetwork) (1.21.5)\n",
      "Requirement already satisfied: joblib>=0.11 in /Users/Ivan/opt/anaconda3/lib/python3.9/site-packages (from scikit-learn>=0.17->scikit-neuralnetwork) (1.1.0)\n",
      "Requirement already satisfied: scipy>=1.1.0 in /Users/Ivan/opt/anaconda3/lib/python3.9/site-packages (from scikit-learn>=0.17->scikit-neuralnetwork) (1.7.3)\n",
      "Requirement already satisfied: threadpoolctl>=2.0.0 in /Users/Ivan/opt/anaconda3/lib/python3.9/site-packages (from scikit-learn>=0.17->scikit-neuralnetwork) (2.2.0)\n",
      "Requirement already satisfied: six>=1.9.0 in /Users/Ivan/opt/anaconda3/lib/python3.9/site-packages (from Theano>=0.8->scikit-neuralnetwork) (1.16.0)\n",
      "Building wheels for collected packages: scikit-neuralnetwork, Lasagne\n",
      "  Building wheel for scikit-neuralnetwork (setup.py) ... \u001b[?25ldone\n",
      "\u001b[?25h  Created wheel for scikit-neuralnetwork: filename=scikit_neuralnetwork-0.7-py3-none-any.whl size=41698 sha256=0fdde410e85a0d261bf736f41ad5239baa7fae607e2cd78d312cb479b0872814\n",
      "  Stored in directory: /Users/Ivan/Library/Caches/pip/wheels/21/a8/91/3ba50335c55ec89bf4197510be97b76a31fb6ea7c4da5e6352\n",
      "  Building wheel for Lasagne (setup.py) ... \u001b[?25ldone\n",
      "\u001b[?25h  Created wheel for Lasagne: filename=Lasagne-0.1-py3-none-any.whl size=79283 sha256=e71fab8ab2d70d3bbae6a8bfd0e06f3e8e89a4382bf33bc267e44e5b67f8e290\n",
      "  Stored in directory: /Users/Ivan/Library/Caches/pip/wheels/de/c8/58/09985ed559ace44cd6874b5e5ec4973e24eb35b1c818f4db32\n",
      "Successfully built scikit-neuralnetwork Lasagne\n",
      "Installing collected packages: Lasagne, Theano, scikit-neuralnetwork\n",
      "Successfully installed Lasagne-0.1 Theano-1.0.5 scikit-neuralnetwork-0.7\n"
     ]
    }
   ],
   "source": [
    "!pip install scikit-neuralnetwork"
   ]
  },
  {
   "cell_type": "code",
   "execution_count": 19,
   "id": "fee5468e",
   "metadata": {},
   "outputs": [],
   "source": [
    "import random\n",
    "import math"
   ]
  },
  {
   "cell_type": "code",
   "execution_count": 65,
   "id": "2bb03bd8",
   "metadata": {},
   "outputs": [],
   "source": [
    "# Randomly sample from -1 to 1\n",
    "x = np.random.uniform(-1, 1, size=50)\n",
    "\n",
    "# Functions\n",
    "square = x**2\n",
    "sin = np.sin(x)\n",
    "absolute = abs(x)\n",
    "heaviside = np.heaviside(x, 0)"
   ]
  },
  {
   "cell_type": "markdown",
   "id": "9bd4bf5f",
   "metadata": {},
   "source": [
    "Training a two-layer network with 3 hidden units with 'tanh' activation functions and linear output units"
   ]
  },
  {
   "cell_type": "code",
   "execution_count": 61,
   "id": "4c410c41",
   "metadata": {},
   "outputs": [],
   "source": [
    "from numpy import exp, array, random, dot, tanh\n",
    "\n",
    "# Class to create a neural\n",
    "# network with single neuron\n",
    "class NeuralNetwork():\n",
    "     \n",
    "    def __init__(self):\n",
    "         \n",
    "        # Using seed to make sure it'll \n",
    "        # generate same weights in every run\n",
    "        random.seed(1)\n",
    "         \n",
    "        # 3x1 Weight matrix\n",
    "        self.weight_matrix = 2 * random.random((3, 1)) - 1\n",
    " \n",
    "    # tanh as activation function\n",
    "    def tanh(self, x):\n",
    "        return tanh(x)\n",
    " \n",
    "    # derivative of tanh function.\n",
    "    # Needed to calculate the gradients.\n",
    "    def tanh_derivative(self, x):\n",
    "        return 1.0 - tanh(x) ** 2\n",
    " \n",
    "    # forward propagation\n",
    "    def forward_propagation(self, inputs):\n",
    "        return self.tanh(dot(inputs, self.weight_matrix))\n",
    "     \n",
    "    # training the neural network.\n",
    "    def train(self, train_inputs, train_outputs,\n",
    "                            num_train_iterations):\n",
    "                                 \n",
    "        # Number of iterations we want to\n",
    "        # perform for this set of input.\n",
    "        for iteration in range(num_train_iterations):\n",
    "            output = self.forward_propagation(train_inputs)\n",
    " \n",
    "            # Calculate the error in the output.\n",
    "            error = train_outputs - output\n",
    " \n",
    "            # multiply the error by input and then\n",
    "            # by gradient of tanh function to calculate\n",
    "            # the adjustment needs to be made in weights\n",
    "            adjustment = dot(train_inputs.T, error *\n",
    "                             self.tanh_derivative(output))\n",
    "                              \n",
    "            # Adjust the weight matrix\n",
    "            self.weight_matrix += adjustment\n"
   ]
  },
  {
   "cell_type": "code",
   "execution_count": null,
   "id": "2adaeb10",
   "metadata": {},
   "outputs": [],
   "source": [
    "# Driver Code\n",
    "if __name__ == \"__main__\":\n",
    "     \n",
    "    neural_network = NeuralNetwork()\n",
    "     \n",
    "    print ('Random weights at the start of training')\n",
    "    print (neural_network.weight_matrix)\n",
    "    \n",
    "    \n",
    " \n",
    "    train_inputs = array([[0, 0, 1], [1, 1, 1], [1, 0, 1], [0, 1, 1]])\n",
    "    train_outputs = array([[0, 1, 1, 0]]).T\n",
    " \n",
    "    neural_network.train(train_inputs, train_outputs, 10000)\n",
    " \n",
    "    print ('New weights after training')\n",
    "    print (neural_network.weight_matrix)\n",
    " \n",
    "    # Test the neural network with a new situation.\n",
    "    print (\"Testing network on new examples ->\")\n",
    "    print (neural_network.forward_propagation(array([1, 0, 0])))"
   ]
  },
  {
   "cell_type": "markdown",
   "id": "4553dc7a",
   "metadata": {},
   "source": [
    "### Problem 5: Online and Batch-Learning"
   ]
  },
  {
   "cell_type": "markdown",
   "id": "9e15dfc2",
   "metadata": {},
   "source": [
    "How do ML models in production learn incrementally from the stream of incoming data? Key considerations are:\\\n",
    "**Volume**: preprocessing in order to make data available for both training and prediction \\\n",
    "**Velocity**: Data coming in at higher speeds (ex. tweets) can also be a key criteria \\\n",
    "**Variety**: Data aggregator services such as Uber and Airbnb\n",
    "\n",
    "**Batch Learning**: The training of the models at regular intervals such as weekly, monthly, quaarterly, etc. Data is accumulated over a period of time.\n",
    "- requires training the models with the entire training data set \n",
    "- Improving model requires re-training on entire training data set\n",
    "- Business requirements do not require frequent learning of models\n",
    "- data distribution is not expected to change frequently\n",
    "- Not as complicated to use\n",
    "- Error term is calculated in one go\n",
    "\n",
    "**Online Learning**: Training happens in an incremental manner by continuously feeding data as it arrives or in a small group. Best for data that arrives in a continuous manner (stocks). Also good if you have limited computing resources\n",
    "- Best for huge datasets that can not fit in one machine's main memory\n",
    "- Key is in the *learning rate*\n",
    "- If the system is fed with bad data, the system will have bad performance and the user will see the impact instantly\n",
    "- Updating the average error term\n",
    "\n",
    "Can make a difference with cross validation so using a mix of batch and online learning is most useful\n"
   ]
  },
  {
   "cell_type": "markdown",
   "id": "43f7ffc5",
   "metadata": {},
   "source": [
    "### Scenario 2"
   ]
  },
  {
   "cell_type": "code",
   "execution_count": 54,
   "id": "b42673de",
   "metadata": {},
   "outputs": [],
   "source": [
    "from sklearn.model_selection import train_test_split # split the data into training and testing\n",
    "from sklearn.preprocessing import scale # scale and center data\n",
    "from sklearn.svm import SVC # creates support vector machine for classification\n",
    "from sklearn.model_selection import GridSearchCV # cross validation\n",
    "from sklearn.metrics import confusion_matrix # creates a confusion matrix\n",
    "from sklearn.metrics import plot_confusion_matrix # draws a confusion matrix\n",
    "from sklearn.metrics import accuracy_score\n",
    "from sklearn import svm\n",
    "from sklearn.metrics import roc_curve, auc"
   ]
  },
  {
   "cell_type": "code",
   "execution_count": 56,
   "id": "d99ce819",
   "metadata": {},
   "outputs": [
    {
     "data": {
      "image/png": "[encoded data removed]",
      "text/plain": [
       "<Figure size 432x288 with 1 Axes>"
      ]
     },
     "metadata": {
      "needs_background": "light"
     },
     "output_type": "display_data"
    },
    {
     "data": {
      "image/png": "[encoded data removed]",
      "text/plain": [
       "<Figure size 432x288 with 1 Axes>"
      ]
     },
     "metadata": {
      "needs_background": "light"
     },
     "output_type": "display_data"
    }
   ],
   "source": [
    "mu1 = [0,1]\n",
    "mu2 = [2,3]\n",
    "mu3 = [3,4]\n",
    "n_data_points = 1000\n",
    "plot_graphs = 1\n",
    "\n",
    "np.random.seed(42)\n",
    "xa = np.random.multivariate_normal(mu1, np.eye(2), n_data_points)\n",
    "ya = np.zeros(n_data_points)\n",
    "\n",
    "xb = np.random.multivariate_normal(mu2, np.eye(2), n_data_points)\n",
    "yb = np.ones(n_data_points)\n",
    "\n",
    "xc = np.random.multivariate_normal(mu3, np.eye(2), n_data_points)\n",
    "yc = [yb+1 for yb in yb]\n",
    "\n",
    "data_x = np.concatenate((xa, xb, xc))\n",
    "data_y = np.concatenate((ya, yb, yc)).reshape(-1, 1)\n",
    "\n",
    "data_scenario1 = pd.DataFrame(data=np.concatenate((data_x, data_y), 1), columns=['X1', 'X2', 'Y'])\n",
    "\n",
    "groups = data_scenario1.groupby('Y')\n",
    "\n",
    "if plot_graphs == 1:\n",
    "    fig, ax = plt.subplots()\n",
    "    for name, group in groups:\n",
    "        ax.plot(group['X1'], group['X2'], marker='o', linestyle='', alpha=.5, label=name)\n",
    "    ax.legend(loc=\"upper left\")\n",
    "    plt.savefig(\"Scenario1.png\")\n",
    "    plt.show()\n",
    "    \n",
    "##################################################\n",
    "\n",
    "n_groups = 10\n",
    "X2 = np.empty((0, 2))\n",
    "mean_all = np.random.multivariate_normal(mu1, np.eye(2), n_groups)\n",
    "for mu in mean_all:\n",
    "    X2 = np.vstack(\n",
    "        [X2, np.random.multivariate_normal(mu, 0.1 * np.eye(2), int(round(n_data_points / 10)))])\n",
    "\n",
    "mean_all = np.random.multivariate_normal(mu2, np.eye(2), n_groups)\n",
    "for mu in mean_all:\n",
    "    X2 = np.vstack(\n",
    "        [X2, np.random.multivariate_normal(mu, 0.1 * np.eye(2), int(round(n_data_points / 10)))])\n",
    "\n",
    "mean_all = np.random.multivariate_normal(mu3, np.eye(2), n_groups)\n",
    "for mu in mean_all:\n",
    "    X2 = np.vstack(\n",
    "        [X2, np.random.multivariate_normal(mu, 0.1 * np.eye(2), int(round(n_data_points / 10)))])\n",
    "    \n",
    "data_scenario2 = pd.DataFrame(data=np.concatenate((X2, data_y), 1), columns=['X1', 'X2', 'Y'])\n",
    "\n",
    "groups = data_scenario2.groupby('Y')\n",
    "\n",
    "if plot_graphs == 1:\n",
    "    fig, ax = plt.subplots()\n",
    "    for name, group in groups:\n",
    "        ax.plot(group['X1'], group['X2'], marker='o', linestyle='', alpha=.5, label=name)\n",
    "    ax.legend(loc=\"upper left\")\n",
    "    plt.savefig(\"Scenario2.png\")\n",
    "    plt.show()"
   ]
  },
  {
   "cell_type": "code",
   "execution_count": 57,
   "id": "763305ae",
   "metadata": {
    "scrolled": true
   },
   "outputs": [
    {
     "data": {
      "text/html": [
       "<div>\n",
       "<style scoped>\n",
       "    .dataframe tbody tr th:only-of-type {\n",
       "        vertical-align: middle;\n",
       "    }\n",
       "\n",
       "    .dataframe tbody tr th {\n",
       "        vertical-align: top;\n",
       "    }\n",
       "\n",
       "    .dataframe thead th {\n",
       "        text-align: right;\n",
       "    }\n",
       "</style>\n",
       "<table border=\"1\" class=\"dataframe\">\n",
       "  <thead>\n",
       "    <tr style=\"text-align: right;\">\n",
       "      <th></th>\n",
       "      <th>X1</th>\n",
       "      <th>X2</th>\n",
       "      <th>Y</th>\n",
       "    </tr>\n",
       "  </thead>\n",
       "  <tbody>\n",
       "    <tr>\n",
       "      <th>0</th>\n",
       "      <td>-1.035198</td>\n",
       "      <td>0.495316</td>\n",
       "      <td>0.0</td>\n",
       "    </tr>\n",
       "    <tr>\n",
       "      <th>1</th>\n",
       "      <td>-0.325984</td>\n",
       "      <td>0.282068</td>\n",
       "      <td>0.0</td>\n",
       "    </tr>\n",
       "    <tr>\n",
       "      <th>2</th>\n",
       "      <td>-1.214566</td>\n",
       "      <td>0.405935</td>\n",
       "      <td>0.0</td>\n",
       "    </tr>\n",
       "    <tr>\n",
       "      <th>3</th>\n",
       "      <td>-0.775238</td>\n",
       "      <td>-0.107339</td>\n",
       "      <td>0.0</td>\n",
       "    </tr>\n",
       "    <tr>\n",
       "      <th>4</th>\n",
       "      <td>-1.735645</td>\n",
       "      <td>0.183407</td>\n",
       "      <td>0.0</td>\n",
       "    </tr>\n",
       "  </tbody>\n",
       "</table>\n",
       "</div>"
      ],
      "text/plain": [
       "         X1        X2    Y\n",
       "0 -1.035198  0.495316  0.0\n",
       "1 -0.325984  0.282068  0.0\n",
       "2 -1.214566  0.405935  0.0\n",
       "3 -0.775238 -0.107339  0.0\n",
       "4 -1.735645  0.183407  0.0"
      ]
     },
     "execution_count": 57,
     "metadata": {},
     "output_type": "execute_result"
    }
   ],
   "source": [
    "data_scenario2.head()"
   ]
  },
  {
   "cell_type": "code",
   "execution_count": 58,
   "id": "933d8d0e",
   "metadata": {
    "scrolled": true
   },
   "outputs": [
    {
     "data": {
      "text/html": [
       "<div>\n",
       "<style scoped>\n",
       "    .dataframe tbody tr th:only-of-type {\n",
       "        vertical-align: middle;\n",
       "    }\n",
       "\n",
       "    .dataframe tbody tr th {\n",
       "        vertical-align: top;\n",
       "    }\n",
       "\n",
       "    .dataframe thead th {\n",
       "        text-align: right;\n",
       "    }\n",
       "</style>\n",
       "<table border=\"1\" class=\"dataframe\">\n",
       "  <thead>\n",
       "    <tr style=\"text-align: right;\">\n",
       "      <th></th>\n",
       "      <th>X1</th>\n",
       "      <th>X2</th>\n",
       "    </tr>\n",
       "  </thead>\n",
       "  <tbody>\n",
       "    <tr>\n",
       "      <th>0</th>\n",
       "      <td>-1.035198</td>\n",
       "      <td>0.495316</td>\n",
       "    </tr>\n",
       "    <tr>\n",
       "      <th>1</th>\n",
       "      <td>-0.325984</td>\n",
       "      <td>0.282068</td>\n",
       "    </tr>\n",
       "    <tr>\n",
       "      <th>2</th>\n",
       "      <td>-1.214566</td>\n",
       "      <td>0.405935</td>\n",
       "    </tr>\n",
       "    <tr>\n",
       "      <th>3</th>\n",
       "      <td>-0.775238</td>\n",
       "      <td>-0.107339</td>\n",
       "    </tr>\n",
       "    <tr>\n",
       "      <th>4</th>\n",
       "      <td>-1.735645</td>\n",
       "      <td>0.183407</td>\n",
       "    </tr>\n",
       "  </tbody>\n",
       "</table>\n",
       "</div>"
      ],
      "text/plain": [
       "         X1        X2\n",
       "0 -1.035198  0.495316\n",
       "1 -0.325984  0.282068\n",
       "2 -1.214566  0.405935\n",
       "3 -0.775238 -0.107339\n",
       "4 -1.735645  0.183407"
      ]
     },
     "execution_count": 58,
     "metadata": {},
     "output_type": "execute_result"
    }
   ],
   "source": [
    "X = data_scenario2.drop('Y', axis=1).copy()\n",
    "X.head()"
   ]
  },
  {
   "cell_type": "code",
   "execution_count": 59,
   "id": "40f19df6",
   "metadata": {},
   "outputs": [
    {
     "data": {
      "text/plain": [
       "0    0.0\n",
       "1    0.0\n",
       "2    0.0\n",
       "3    0.0\n",
       "4    0.0\n",
       "Name: Y, dtype: float64"
      ]
     },
     "execution_count": 59,
     "metadata": {},
     "output_type": "execute_result"
    }
   ],
   "source": [
    "y = data_scenario2['Y'].copy()\n",
    "y.head()"
   ]
  },
  {
   "cell_type": "code",
   "execution_count": 60,
   "id": "5af22a40",
   "metadata": {},
   "outputs": [],
   "source": [
    "X_train, X_test, y_train, y_test = train_test_split(X, y, random_state=42)\n",
    "X_train_scaled = scale(X_train)\n",
    "X_test_scaled = scale(X_test)"
   ]
  },
  {
   "cell_type": "code",
   "execution_count": null,
   "id": "214a7135",
   "metadata": {},
   "outputs": [],
   "source": []
  },
  {
   "cell_type": "markdown",
   "id": "86538feb",
   "metadata": {},
   "source": [
    "### Neural Network with MNIST"
   ]
  },
  {
   "cell_type": "code",
   "execution_count": 38,
   "id": "16595d8a",
   "metadata": {},
   "outputs": [],
   "source": [
    "import tensorflow as tf\n",
    "import matplotlib.pyplot as plt"
   ]
  },
  {
   "cell_type": "code",
   "execution_count": 40,
   "id": "a70e8abe",
   "metadata": {},
   "outputs": [],
   "source": [
    "mnist = tf.keras.datasets.mnist\n",
    "(train_images, train_labels) , (test_images, test_labels) = mnist.load_data()"
   ]
  },
  {
   "cell_type": "code",
   "execution_count": 41,
   "id": "1a6dfb87",
   "metadata": {},
   "outputs": [
    {
     "name": "stdout",
     "output_type": "stream",
     "text": [
      "train_images shape:  (60000, 28, 28)\n",
      "train_labels shape:  (60000,)\n",
      "test_images shape:  (10000, 28, 28)\n",
      "test_labels shape:  (10000,)\n"
     ]
    },
    {
     "data": {
      "image/png": "[encoded data removed]",
      "text/plain": [
       "<Figure size 720x720 with 9 Axes>"
      ]
     },
     "metadata": {
      "needs_background": "light"
     },
     "output_type": "display_data"
    }
   ],
   "source": [
    "# Printing the shapes\n",
    "print(\"train_images shape: \", train_images.shape)\n",
    "print(\"train_labels shape: \", train_labels.shape)\n",
    "print(\"test_images shape: \", test_images.shape)\n",
    "print(\"test_labels shape: \", test_labels.shape)\n",
    "\n",
    "\n",
    "# Displaying first 9 images of dataset\n",
    "\n",
    "fig = plt.figure(figsize=(10,10))\n",
    " \n",
    "nrows=3\n",
    "ncols=3\n",
    "for i in range(9):\n",
    "    fig.add_subplot(nrows, ncols, i+1)\n",
    "    plt.imshow(train_images[i])\n",
    "    plt.title(\"Digit: {}\".format(train_labels[i]))\n",
    "    plt.axis(False)\n",
    "    \n",
    "plt.show()"
   ]
  },
  {
   "cell_type": "markdown",
   "id": "0c121904",
   "metadata": {},
   "source": [
    "#### Preprocessing the Data"
   ]
  },
  {
   "cell_type": "markdown",
   "id": "ffaa76a1",
   "metadata": {},
   "source": [
    "- Normalize the grayscale pixels\n",
    "- Change labels from digits to one-hot encoded vectors (all elements are 0 except index. Similar to dummy)"
   ]
  },
  {
   "cell_type": "code",
   "execution_count": 42,
   "id": "905cfc32",
   "metadata": {},
   "outputs": [
    {
     "name": "stdout",
     "output_type": "stream",
     "text": [
      "First Label before conversion:\n",
      "5\n",
      "First Label after conversion:\n",
      "[0. 0. 0. 0. 0. 1. 0. 0. 0. 0.]\n"
     ]
    }
   ],
   "source": [
    "# Converting image pixel values to 0 - 1\n",
    "train_images = train_images / 255\n",
    "test_images = test_images / 255\n",
    " \n",
    "print(\"First Label before conversion:\")\n",
    "print(train_labels[0])\n",
    " \n",
    "# Converting labels to one-hot encoded vectors\n",
    "train_labels = tf.keras.utils.to_categorical(train_labels)\n",
    "test_labels = tf.keras.utils.to_categorical(test_labels)\n",
    " \n",
    "print(\"First Label after conversion:\")\n",
    "print(train_labels[0])"
   ]
  },
  {
   "cell_type": "markdown",
   "id": "d78e1269",
   "metadata": {},
   "source": [
    "#### Setting up the Layers:\n",
    "- Flatten Layer to convert 2D arrays of 28x28 pixels into a 1D array of 784 pixels\n",
    "- Hidden Layer with 512 relu activation function\n",
    "- Output Layer with 10 output neurons which outputs probabilities for each digit"
   ]
  },
  {
   "cell_type": "code",
   "execution_count": 43,
   "id": "37ae8c38",
   "metadata": {},
   "outputs": [
    {
     "name": "stderr",
     "output_type": "stream",
     "text": [
      "2022-05-18 15:50:20.867649: I tensorflow/core/platform/cpu_feature_guard.cc:151] This TensorFlow binary is optimized with oneAPI Deep Neural Network Library (oneDNN) to use the following CPU instructions in performance-critical operations:  AVX2 FMA\n",
      "To enable them in other operations, rebuild TensorFlow with the appropriate compiler flags.\n"
     ]
    }
   ],
   "source": [
    "# Using Sequential() to build layers one after another\n",
    "model = tf.keras.Sequential([\n",
    "   \n",
    "  # Flatten Layer that converts images to 1D array\n",
    "  tf.keras.layers.Flatten(),\n",
    "   \n",
    "  # Hidden Layer with 512 units and relu activation\n",
    "  tf.keras.layers.Dense(units=512, activation='relu'),\n",
    "   \n",
    "  # Output Layer with 10 units for 10 classes and softmax activation\n",
    "  tf.keras.layers.Dense(units=10, activation='softmax')\n",
    "])"
   ]
  },
  {
   "cell_type": "markdown",
   "id": "d114af8d",
   "metadata": {},
   "source": [
    "#### Compiling the model:\n",
    "We need 3 attributes to give to the model during the models compile step:\n",
    "- Loss Function to minimize\n",
    "- Optimizer to update weights/parameters by looking at data and loss function\n",
    "- Metrics used to monitor the train and test steps"
   ]
  },
  {
   "cell_type": "code",
   "execution_count": 44,
   "id": "50ba5542",
   "metadata": {},
   "outputs": [],
   "source": [
    "model.compile(\n",
    "  loss = 'categorical_crossentropy',\n",
    "  optimizer = 'adam',\n",
    "  metrics = ['accuracy']\n",
    ")"
   ]
  },
  {
   "cell_type": "markdown",
   "id": "c69ba8ab",
   "metadata": {},
   "source": [
    "#### Training the Neural Network\n",
    "We again need 3 things:\n",
    "- Training data from train_images\n",
    "- Training Labels which represent output of training images\n",
    "- Epochs which is the number of times our model will iterate on all training examples"
   ]
  },
  {
   "cell_type": "code",
   "execution_count": 45,
   "id": "5a612fb9",
   "metadata": {},
   "outputs": [
    {
     "name": "stdout",
     "output_type": "stream",
     "text": [
      "Epoch 1/10\n",
      "1875/1875 [==============================] - 10s 5ms/step - loss: 0.2004 - accuracy: 0.9416\n",
      "Epoch 2/10\n",
      "1875/1875 [==============================] - 9s 5ms/step - loss: 0.0788 - accuracy: 0.9766\n",
      "Epoch 3/10\n",
      "1875/1875 [==============================] - 8s 4ms/step - loss: 0.0521 - accuracy: 0.9839\n",
      "Epoch 4/10\n",
      "1875/1875 [==============================] - 9s 5ms/step - loss: 0.0366 - accuracy: 0.9883\n",
      "Epoch 5/10\n",
      "1875/1875 [==============================] - 9s 5ms/step - loss: 0.0269 - accuracy: 0.9912\n",
      "Epoch 6/10\n",
      "1875/1875 [==============================] - 9s 5ms/step - loss: 0.0201 - accuracy: 0.9931\n",
      "Epoch 7/10\n",
      "1875/1875 [==============================] - 11s 6ms/step - loss: 0.0175 - accuracy: 0.9942\n",
      "Epoch 8/10\n",
      "1875/1875 [==============================] - 8s 4ms/step - loss: 0.0142 - accuracy: 0.9952\n",
      "Epoch 9/10\n",
      "1875/1875 [==============================] - 8s 4ms/step - loss: 0.0109 - accuracy: 0.9964\n",
      "Epoch 10/10\n",
      "1875/1875 [==============================] - 9s 5ms/step - loss: 0.0117 - accuracy: 0.9962\n"
     ]
    }
   ],
   "source": [
    "history = model.fit(x = train_images, y = train_labels, epochs = 10)"
   ]
  },
  {
   "cell_type": "code",
   "execution_count": 46,
   "id": "544c93e7",
   "metadata": {},
   "outputs": [
    {
     "data": {
      "image/png": "[encoded data removed]",
      "text/plain": [
       "<Figure size 432x288 with 1 Axes>"
      ]
     },
     "metadata": {
      "needs_background": "light"
     },
     "output_type": "display_data"
    },
    {
     "data": {
      "image/png": "[encoded data removed]",
      "text/plain": [
       "<Figure size 432x288 with 1 Axes>"
      ]
     },
     "metadata": {
      "needs_background": "light"
     },
     "output_type": "display_data"
    }
   ],
   "source": [
    "# Showing plot for loss\n",
    "plt.plot(history.history['loss'])\n",
    "plt.xlabel('epochs')\n",
    "plt.legend(['loss'])\n",
    "plt.show()\n",
    " \n",
    "# Showing plot for accuracy\n",
    "plt.plot(history.history['accuracy'], color='orange')\n",
    "plt.xlabel('epochs')\n",
    "plt.legend(['accuracy'])\n",
    "plt.show()"
   ]
  },
  {
   "cell_type": "markdown",
   "id": "e1c652c3",
   "metadata": {},
   "source": [
    "#### Evaluating the neural network\n",
    "How does this perform on data our model hasn't seen before?"
   ]
  },
  {
   "cell_type": "code",
   "execution_count": 47,
   "id": "3d1c5ef6",
   "metadata": {},
   "outputs": [
    {
     "name": "stdout",
     "output_type": "stream",
     "text": [
      "313/313 [==============================] - 1s 3ms/step - loss: 0.0960 - accuracy: 0.9783\n",
      "Test Loss: 0.0960\n",
      "Test Accuracy: 0.9783\n"
     ]
    }
   ],
   "source": [
    "# Call evaluate to find the accuracy on test images\n",
    "test_loss, test_accuracy = model.evaluate(\n",
    "  x = test_images, \n",
    "  y = test_labels\n",
    ")\n",
    " \n",
    "print(\"Test Loss: %.4f\"%test_loss)\n",
    "print(\"Test Accuracy: %.4f\"%test_accuracy)"
   ]
  },
  {
   "cell_type": "markdown",
   "id": "a56fc011",
   "metadata": {},
   "source": [
    "We can also make predictions on new images and see what our model identifies in the image. Done in 2 steps:\n",
    "- **Predicting Probabilities**: Returns the probability for an image of it belonging to one of the classes\n",
    "- **Predicting Classes**: The class with maximum probability is the one predicted by the model"
   ]
  },
  {
   "cell_type": "code",
   "execution_count": 48,
   "id": "325d5b80",
   "metadata": {},
   "outputs": [],
   "source": [
    "predicted_probabilities = model.predict(test_images)\n",
    "predicted_classes = tf.argmax(predicted_probabilities, axis=-1).numpy()"
   ]
  },
  {
   "cell_type": "code",
   "execution_count": 51,
   "id": "498cd7f1",
   "metadata": {},
   "outputs": [
    {
     "name": "stdout",
     "output_type": "stream",
     "text": [
      "Probabilities predicted for image at index 125\n",
      "[5.9938200e-11 3.6315260e-08 7.0313154e-06 2.5526242e-07 5.1158760e-04\n",
      " 5.9245014e-10 1.2623768e-13 3.0215261e-07 1.7590941e-07 9.9948066e-01]\n",
      "\n",
      "Probabilities class for image at index 125\n",
      "9\n"
     ]
    },
    {
     "data": {
      "image/png": "[encoded data removed]",
      "text/plain": [
       "<Figure size 432x288 with 1 Axes>"
      ]
     },
     "metadata": {
      "needs_background": "light"
     },
     "output_type": "display_data"
    }
   ],
   "source": [
    "index=125\n",
    " \n",
    "# Showing image\n",
    "plt.imshow(test_images[index])\n",
    " \n",
    "# Printing Probabilities\n",
    "print(\"Probabilities predicted for image at index\", index)\n",
    "print(predicted_probabilities[index])\n",
    " \n",
    "print()\n",
    " \n",
    "# Printing Predicted Class\n",
    "print(\"Probabilities class for image at index\", index)\n",
    "print(predicted_classes[index])"
   ]
  }
 ],
 "metadata": {
  "kernelspec": {
   "display_name": "Python 3 (ipykernel)",
   "language": "python",
   "name": "python3"
  },
  "language_info": {
   "codemirror_mode": {
    "name": "ipython",
    "version": 3
   },
   "file_extension": ".py",
   "mimetype": "text/x-python",
   "name": "python",
   "nbconvert_exporter": "python",
   "pygments_lexer": "ipython3",
   "version": "3.9.12"
  }
 },
 "nbformat": 4,
 "nbformat_minor": 5
}
