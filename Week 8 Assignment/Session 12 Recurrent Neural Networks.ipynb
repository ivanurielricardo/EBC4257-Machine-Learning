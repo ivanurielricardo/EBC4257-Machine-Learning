{
 "cells": [
  {
   "cell_type": "markdown",
   "id": "ac930e29",
   "metadata": {},
   "source": [
    "# Session 12: Recurrent Neural Networks"
   ]
  },
  {
   "cell_type": "markdown",
   "id": "9e0b2594",
   "metadata": {},
   "source": [
    "### Problem 1: Recursive Substitution of RNN\n",
    "See Notes"
   ]
  },
  {
   "cell_type": "markdown",
   "id": "533d8cb2",
   "metadata": {},
   "source": [
    "### Problem 2: Equivalent feedforward architecture instead of an RNN:\n",
    "\n",
    "Any function involving recurrence can be considered a recurrent neural network. As a feedforward network, the NN could just be represented as an unfolded computational graph, in which each component is represented by many different variables, with one variable per time step, representing the state of the component at that point in time.\n",
    "\n",
    "Function g(t) takes the whole past sequence as input and produces the current state, but the unfolded recurrent structure allows us to factorize g(t) into repeated application of a function f. 2 advantages with unfolding:\n",
    "- Learned model always has the same input size because it is specified in terms of transition from one state to another state (rather than in terms of a variable length history of states\n",
    "- Possible to use the *same* transition function f with the same parameters at every time step\n",
    "\n",
    "This way we do not need to learn a separate model for all possible time steps"
   ]
  },
  {
   "cell_type": "markdown",
   "id": "03dae190",
   "metadata": {},
   "source": [
    "### Problem 3: Design patterns that can be used with RNN\n",
    "\n",
    "Could do a One to many and then many to one approach. One to one is 'vanilla'. One to many, many to one, many to many, many to many(equivalence)\n",
    "\n",
    "- Recurrent Networks that produce an output at each time step and have recurrent connections between hidden units\n",
    "- Produce an output at each time step and have recurrent connections only from the output at one time step to the hidden units at the next time step\n",
    "- Recurrent networks with recurrent connections between hidden units, that read an entire sequence then produce a single output"
   ]
  },
  {
   "cell_type": "markdown",
   "id": "07722e0f",
   "metadata": {},
   "source": [
    "### Problem 4: Design Pattern in the Unreasonable Effectiveness of RNNs\n",
    "\n",
    "Design examples are the one to one or one to many or many to one approaches already discussed"
   ]
  },
  {
   "cell_type": "markdown",
   "id": "12c474b7",
   "metadata": {},
   "source": [
    "### Problem 5: Difference between RNN and LSTM\n",
    "**RNN's have recurrent connections and/or layers**\n",
    "\n",
    "RNN is almost always described as a Neural Network and not as any specific layer.\n",
    "\n",
    "**LSTM can refer to a unit, layer or Neural Network**\n",
    "\n",
    "Note that an LSTM unit is a recurrent unit. So an LSTM neural network is a recurrent neural network. \n",
    "\n",
    "The difference is that LSTM is composed of so called 'gates' that supposedly regulate better the flow of information through the unit. We could have four different types of gates:\n",
    "- Forget gate: whether to erase a cell(from previous state)\n",
    "- Input gate: whether to write to cell\n",
    "- Gate gate: how much to write to (input) cell\n",
    "- Output gate: how much to reveal cell\n",
    "\n",
    "Also contains two hidden states at every time step:\n",
    "- Hidden state similar to vanilla RNN\n",
    "- Cell state is a vector that is internal, inside the LSTM, not exposed to the outside world\n",
    "Use gates to update our cell state ct. Then expose part of the cell for the hidden state.\n",
    "\n",
    "Take previous hidden state, stack, then multiply by a weight matrix to compute the four different states(gates). Each gte could use a different nonlinearity"
   ]
  },
  {
   "cell_type": "markdown",
   "id": "76c213be",
   "metadata": {},
   "source": [
    "### Problem 6: Exploding and Vanishing Gradient Problem\n",
    "LSTM was designed specifically to remove the vanishing gradient problem in backprop. Final expression for gradient on $h_0$ will involve many factors of the weight matrix.\n",
    "- Several hundred examples would yield bad results (not little factors)\n",
    "- either explode in the case $w>1$ or vanish in case $w<1$ in absolute value\n",
    "- In the matrix case, largest singular value of the weight matrix must meet these conditions\n",
    "\n",
    "Could hack the system to avoid this by using a gradient clipping\n",
    "\n",
    "`grad_norm = np.sum(grad*grad)    \n",
    "if grad_norm > threshold:         \n",
    "    grad *= (threshold/grad_norm)`\n",
    "    \n",
    "**Gradient Clipping**: After we compute our gradient, if the L2 norm is above a certain threshold, then just clamp it down so it has a maximum threshold (Works in the case of exploding gradient problem)"
   ]
  },
  {
   "cell_type": "markdown",
   "id": "8a2286b5",
   "metadata": {},
   "source": [
    "### Problem 7: Vanishing Gradient Problem"
   ]
  },
  {
   "cell_type": "markdown",
   "id": "b34eb287",
   "metadata": {},
   "source": [
    "**Vanishing Gradient Problem**: Change the RNN architecture"
   ]
  },
  {
   "cell_type": "markdown",
   "id": "050398ae",
   "metadata": {},
   "source": [
    "**Long Short Term Memory**: alleviates the vanishing gradient problem\n",
    "- We maintain two hidden steps to have better gradient flow\n",
    "- $h_t$ and $c_t$ are formed, which is a previous cell state and previous input state\n",
    "\n",
    "$$ h_t = o \\dot tanh(c_t) $$\n",
    "$$ c_t = f \\dot c_{t-1} + i \\dot g $$\n",
    "\n",
    "- forget gate, input gate, gate gate, output gate\n",
    "- when we go through a backwards pass, we completely ignore the weight matrix W"
   ]
  },
  {
   "cell_type": "markdown",
   "id": "1b5083d1",
   "metadata": {},
   "source": [
    "Due to nonlinearities, if forget gates are always less than one, then you could get vanishing gradients as you continuously go through forget gates. Could initialize biases of forget gate to be somewhat positive. Forget gates would always be close to one. Still better than vanilla RNN as f's can vary at each time step (unlike weight matrix) and because element wise multiplication rather than full matrix multiplications."
   ]
  },
  {
   "cell_type": "markdown",
   "id": "ff58297b",
   "metadata": {},
   "source": [
    "### Problem 8: Batch size\n",
    "Batch sizes are important because of computational issues. It is much more computationally heavy to back propagate through the whole RNN than it is to back propagate through batches.\n",
    "\n",
    "- Another reason is that because this is supervised learning, we need to give the input and output beforehand.\n",
    "- Needs a sequence of data, 3 months or 12 months, then it would make a prediction using this input size\n",
    "- Batches are just how many time periods in the past the neural network model will consider"
   ]
  },
  {
   "cell_type": "markdown",
   "id": "d305e514",
   "metadata": {},
   "source": [
    "### Problem 9: Generate 600 samples from an AR model\n",
    "\n",
    "$$ X_t = a_1 X_{t-1} + a_2 X_{t-2} + a_3 X_{t-3}$$"
   ]
  },
  {
   "cell_type": "code",
   "execution_count": 2,
   "id": "d16a06e4",
   "metadata": {},
   "outputs": [
    {
     "name": "stdout",
     "output_type": "stream",
     "text": [
      "Requirement already satisfied: statsmodels in /Users/Ivan/opt/anaconda3/lib/python3.9/site-packages (0.13.2)\n",
      "Requirement already satisfied: scipy>=1.3 in /Users/Ivan/opt/anaconda3/lib/python3.9/site-packages (from statsmodels) (1.7.3)\n",
      "Requirement already satisfied: patsy>=0.5.2 in /Users/Ivan/opt/anaconda3/lib/python3.9/site-packages (from statsmodels) (0.5.2)\n",
      "Requirement already satisfied: packaging>=21.3 in /Users/Ivan/opt/anaconda3/lib/python3.9/site-packages (from statsmodels) (21.3)\n",
      "Requirement already satisfied: numpy>=1.17 in /Users/Ivan/opt/anaconda3/lib/python3.9/site-packages (from statsmodels) (1.21.5)\n",
      "Requirement already satisfied: pandas>=0.25 in /Users/Ivan/opt/anaconda3/lib/python3.9/site-packages (from statsmodels) (1.4.2)\n",
      "Requirement already satisfied: pyparsing!=3.0.5,>=2.0.2 in /Users/Ivan/opt/anaconda3/lib/python3.9/site-packages (from packaging>=21.3->statsmodels) (3.0.4)\n",
      "Requirement already satisfied: python-dateutil>=2.8.1 in /Users/Ivan/opt/anaconda3/lib/python3.9/site-packages (from pandas>=0.25->statsmodels) (2.8.2)\n",
      "Requirement already satisfied: pytz>=2020.1 in /Users/Ivan/opt/anaconda3/lib/python3.9/site-packages (from pandas>=0.25->statsmodels) (2021.3)\n",
      "Requirement already satisfied: six in /Users/Ivan/opt/anaconda3/lib/python3.9/site-packages (from patsy>=0.5.2->statsmodels) (1.16.0)\n",
      "\u001b[33mWARNING: Error parsing requirements for fastprogress: [Errno 2] No such file or directory: '/Users/Ivan/opt/anaconda3/lib/python3.9/site-packages/fastprogress-1.0.2.dist-info/METADATA'\u001b[0m\n",
      "\u001b[33mWARNING: You are using pip version 22.1; however, version 22.1.1 is available.\n",
      "You should consider upgrading via the '/Users/Ivan/opt/anaconda3/bin/python -m pip install --upgrade pip' command.\u001b[0m\n"
     ]
    }
   ],
   "source": [
    "!pip install statsmodels"
   ]
  },
  {
   "cell_type": "code",
   "execution_count": 4,
   "id": "1ade7685",
   "metadata": {},
   "outputs": [],
   "source": [
    "import pandas as pd\n",
    "import numpy as np\n",
    "import matplotlib.pyplot as plt\n",
    "from statsmodels.tsa.arima_process import ArmaProcess"
   ]
  },
  {
   "cell_type": "code",
   "execution_count": 110,
   "id": "12e599a3",
   "metadata": {},
   "outputs": [
    {
     "data": {
      "text/html": [
       "<div>\n",
       "<style scoped>\n",
       "    .dataframe tbody tr th:only-of-type {\n",
       "        vertical-align: middle;\n",
       "    }\n",
       "\n",
       "    .dataframe tbody tr th {\n",
       "        vertical-align: top;\n",
       "    }\n",
       "\n",
       "    .dataframe thead th {\n",
       "        text-align: right;\n",
       "    }\n",
       "</style>\n",
       "<table border=\"1\" class=\"dataframe\">\n",
       "  <thead>\n",
       "    <tr style=\"text-align: right;\">\n",
       "      <th></th>\n",
       "      <th>Y</th>\n",
       "      <th>Yt1</th>\n",
       "      <th>Yt2</th>\n",
       "      <th>Yt3</th>\n",
       "    </tr>\n",
       "  </thead>\n",
       "  <tbody>\n",
       "    <tr>\n",
       "      <th>0</th>\n",
       "      <td>0.077159</td>\n",
       "      <td>0.000000</td>\n",
       "      <td>0.000000</td>\n",
       "      <td>0.000000</td>\n",
       "    </tr>\n",
       "    <tr>\n",
       "      <th>1</th>\n",
       "      <td>0.050742</td>\n",
       "      <td>0.077159</td>\n",
       "      <td>0.000000</td>\n",
       "      <td>0.000000</td>\n",
       "    </tr>\n",
       "    <tr>\n",
       "      <th>2</th>\n",
       "      <td>0.034782</td>\n",
       "      <td>0.050742</td>\n",
       "      <td>0.077159</td>\n",
       "      <td>0.000000</td>\n",
       "    </tr>\n",
       "    <tr>\n",
       "      <th>3</th>\n",
       "      <td>-0.006829</td>\n",
       "      <td>0.034782</td>\n",
       "      <td>0.050742</td>\n",
       "      <td>0.077159</td>\n",
       "    </tr>\n",
       "    <tr>\n",
       "      <th>4</th>\n",
       "      <td>0.048799</td>\n",
       "      <td>-0.006829</td>\n",
       "      <td>0.034782</td>\n",
       "      <td>0.050742</td>\n",
       "    </tr>\n",
       "  </tbody>\n",
       "</table>\n",
       "</div>"
      ],
      "text/plain": [
       "          Y       Yt1       Yt2       Yt3\n",
       "0  0.077159  0.000000  0.000000  0.000000\n",
       "1  0.050742  0.077159  0.000000  0.000000\n",
       "2  0.034782  0.050742  0.077159  0.000000\n",
       "3 -0.006829  0.034782  0.050742  0.077159\n",
       "4  0.048799 -0.006829  0.034782  0.050742"
      ]
     },
     "execution_count": 110,
     "metadata": {},
     "output_type": "execute_result"
    }
   ],
   "source": [
    "### Generation of data\n",
    "\n",
    "in_array = np.linspace(0, 2 * np.pi, 600)\n",
    "y = list(np.random.uniform(0,0.1,3))\n",
    "\n",
    "e = np.random.uniform(0,0.1,600)\n",
    "\n",
    "for i in range(len(in_array)):\n",
    "    y.append(0.6*y[-1] - 0.5*y[-2] - 0.2*y[-3] + np.random.uniform(0,0.1))\n",
    "    i += 1\n",
    "\n",
    "x1 = [0]\n",
    "x2 = [0, 0]\n",
    "x3 = [0, 0, 0]\n",
    "\n",
    "\n",
    "for j in y:\n",
    "    x1.append(j)\n",
    "    x2.append(j)\n",
    "    x3.append(j)\n",
    "\n",
    "x1.pop(-1)\n",
    "x2.pop(-1)\n",
    "x2.pop(-1)\n",
    "x3.pop(-1)\n",
    "x3.pop(-1)\n",
    "x3.pop(-1)\n",
    "\n",
    "x2\n",
    "df = pd.DataFrame(\n",
    "    {'Y': y,\n",
    "    'Yt1': x1,\n",
    "    'Yt2': x2,\n",
    "    'Yt3': x3})\n",
    "df.head()"
   ]
  },
  {
   "cell_type": "code",
   "execution_count": 114,
   "id": "6c7bf940",
   "metadata": {},
   "outputs": [
    {
     "data": {
      "text/plain": [
       "[<matplotlib.lines.Line2D at 0x7fd293cf8dc0>]"
      ]
     },
     "execution_count": 114,
     "metadata": {},
     "output_type": "execute_result"
    },
    {
     "data": {
      "image/png": "[encoded data removed]",
      "text/plain": [
       "<Figure size 432x288 with 1 Axes>"
      ]
     },
     "metadata": {
      "needs_background": "light"
     },
     "output_type": "display_data"
    }
   ],
   "source": [
    "plt.plot(df.Y)"
   ]
  },
  {
   "cell_type": "markdown",
   "id": "f4d03ada",
   "metadata": {},
   "source": [
    "#### Preprocessing"
   ]
  },
  {
   "cell_type": "code",
   "execution_count": 144,
   "id": "f4aae02c",
   "metadata": {},
   "outputs": [],
   "source": [
    "import sklearn\n",
    "from sklearn.model_selection import train_test_split # split the data into training and testing\n",
    "from sklearn.preprocessing import scale # scale and center data\n",
    "from sklearn.svm import SVC # creates support vector machine for classification\n",
    "from sklearn.model_selection import GridSearchCV # cross validation\n",
    "from sklearn.metrics import confusion_matrix # creates a confusion matrix\n",
    "from sklearn.metrics import plot_confusion_matrix # draws a confusion matrix\n",
    "from sklearn.metrics import accuracy_score\n",
    "from sklearn import svm\n",
    "from sklearn.metrics import roc_curve, auc\n",
    "from sklearn.preprocessing import MinMaxScaler"
   ]
  },
  {
   "cell_type": "code",
   "execution_count": 116,
   "id": "fc2e8d68",
   "metadata": {},
   "outputs": [
    {
     "data": {
      "text/html": [
       "<div>\n",
       "<style scoped>\n",
       "    .dataframe tbody tr th:only-of-type {\n",
       "        vertical-align: middle;\n",
       "    }\n",
       "\n",
       "    .dataframe tbody tr th {\n",
       "        vertical-align: top;\n",
       "    }\n",
       "\n",
       "    .dataframe thead th {\n",
       "        text-align: right;\n",
       "    }\n",
       "</style>\n",
       "<table border=\"1\" class=\"dataframe\">\n",
       "  <thead>\n",
       "    <tr style=\"text-align: right;\">\n",
       "      <th></th>\n",
       "      <th>Yt1</th>\n",
       "      <th>Yt2</th>\n",
       "      <th>Yt3</th>\n",
       "    </tr>\n",
       "  </thead>\n",
       "  <tbody>\n",
       "    <tr>\n",
       "      <th>0</th>\n",
       "      <td>0.000000</td>\n",
       "      <td>0.000000</td>\n",
       "      <td>0.000000</td>\n",
       "    </tr>\n",
       "    <tr>\n",
       "      <th>1</th>\n",
       "      <td>0.077159</td>\n",
       "      <td>0.000000</td>\n",
       "      <td>0.000000</td>\n",
       "    </tr>\n",
       "    <tr>\n",
       "      <th>2</th>\n",
       "      <td>0.050742</td>\n",
       "      <td>0.077159</td>\n",
       "      <td>0.000000</td>\n",
       "    </tr>\n",
       "    <tr>\n",
       "      <th>3</th>\n",
       "      <td>0.034782</td>\n",
       "      <td>0.050742</td>\n",
       "      <td>0.077159</td>\n",
       "    </tr>\n",
       "    <tr>\n",
       "      <th>4</th>\n",
       "      <td>-0.006829</td>\n",
       "      <td>0.034782</td>\n",
       "      <td>0.050742</td>\n",
       "    </tr>\n",
       "  </tbody>\n",
       "</table>\n",
       "</div>"
      ],
      "text/plain": [
       "        Yt1       Yt2       Yt3\n",
       "0  0.000000  0.000000  0.000000\n",
       "1  0.077159  0.000000  0.000000\n",
       "2  0.050742  0.077159  0.000000\n",
       "3  0.034782  0.050742  0.077159\n",
       "4 -0.006829  0.034782  0.050742"
      ]
     },
     "execution_count": 116,
     "metadata": {},
     "output_type": "execute_result"
    }
   ],
   "source": [
    "X = df.drop('Y', axis=1).copy()\n",
    "X.head()"
   ]
  },
  {
   "cell_type": "code",
   "execution_count": 180,
   "id": "ec761f97",
   "metadata": {},
   "outputs": [
    {
     "data": {
      "text/plain": [
       "603"
      ]
     },
     "execution_count": 180,
     "metadata": {},
     "output_type": "execute_result"
    }
   ],
   "source": [
    "y = df['Y'].copy()\n",
    "len(y)"
   ]
  },
  {
   "cell_type": "code",
   "execution_count": 193,
   "id": "dc1d0130",
   "metadata": {},
   "outputs": [
    {
     "ename": "TypeError",
     "evalue": "'MinMaxScaler' object is not callable",
     "output_type": "error",
     "traceback": [
      "\u001b[0;31m---------------------------------------------------------------------------\u001b[0m",
      "\u001b[0;31mTypeError\u001b[0m                                 Traceback (most recent call last)",
      "Input \u001b[0;32mIn [193]\u001b[0m, in \u001b[0;36m<cell line: 2>\u001b[0;34m()\u001b[0m\n\u001b[1;32m      1\u001b[0m X_train, X_test, y_train, y_test \u001b[38;5;241m=\u001b[39m X\u001b[38;5;241m.\u001b[39mhead(\u001b[38;5;241m452\u001b[39m)\u001b[38;5;241m.\u001b[39mcopy(), X\u001b[38;5;241m.\u001b[39mtail(\u001b[38;5;241m151\u001b[39m)\u001b[38;5;241m.\u001b[39mcopy(), y\u001b[38;5;241m.\u001b[39mhead(\u001b[38;5;241m452\u001b[39m)\u001b[38;5;241m.\u001b[39mcopy(), y\u001b[38;5;241m.\u001b[39mtail(\u001b[38;5;241m151\u001b[39m)\u001b[38;5;241m.\u001b[39mcopy()\n\u001b[0;32m----> 2\u001b[0m X_train_scaled \u001b[38;5;241m=\u001b[39m \u001b[43mscale\u001b[49m\u001b[43m(\u001b[49m\u001b[43mX_train\u001b[49m\u001b[43m)\u001b[49m\n\u001b[1;32m      3\u001b[0m X_test_scaled \u001b[38;5;241m=\u001b[39m scale(X_test)\n",
      "\u001b[0;31mTypeError\u001b[0m: 'MinMaxScaler' object is not callable"
     ]
    }
   ],
   "source": [
    "X_train, X_test, y_train, y_test = X.head(452).copy(), X.tail(151).copy(), y.head(452).copy(), y.tail(151).copy()\n",
    "X_train_scaled = scale(X_train)\n",
    "X_test_scaled = scale(X_test)"
   ]
  },
  {
   "cell_type": "code",
   "execution_count": 131,
   "id": "ff6e5b0d",
   "metadata": {
    "scrolled": false
   },
   "outputs": [
    {
     "data": {
      "text/plain": [
       "[<matplotlib.lines.Line2D at 0x7fd274c7ad60>]"
      ]
     },
     "execution_count": 131,
     "metadata": {},
     "output_type": "execute_result"
    },
    {
     "data": {
      "image/png": "[encoded data removed]",
      "text/plain": [
       "<Figure size 432x288 with 1 Axes>"
      ]
     },
     "metadata": {
      "needs_background": "light"
     },
     "output_type": "display_data"
    }
   ],
   "source": [
    "plt.plot(y_test)"
   ]
  },
  {
   "cell_type": "code",
   "execution_count": 194,
   "id": "4bdd92e3",
   "metadata": {
    "scrolled": true
   },
   "outputs": [],
   "source": [
    "y_flatten = y.values[0:].reshape(-1,1)\n",
    "y_flatten\n",
    "\n",
    "# scale the data -- this avoids the exploding gradient problem\n",
    "\n",
    "scale = MinMaxScaler(feature_range = (0,1))\n",
    "y_flatten = scale.fit_transform(y_flatten)"
   ]
  },
  {
   "cell_type": "markdown",
   "id": "ba1a212f",
   "metadata": {},
   "source": [
    "#### Architecture of RNN"
   ]
  },
  {
   "cell_type": "code",
   "execution_count": 149,
   "id": "e0b6815c",
   "metadata": {},
   "outputs": [],
   "source": [
    "import tensorflow as tf\n",
    "from tensorflow import keras\n",
    "from tensorflow.keras import layers"
   ]
  },
  {
   "cell_type": "code",
   "execution_count": 195,
   "id": "71f39d18",
   "metadata": {},
   "outputs": [
    {
     "name": "stdout",
     "output_type": "stream",
     "text": [
      "Training Data: Length is  10 :  [array([[0.66020863],\n",
      "       [0.55995501],\n",
      "       [0.49938846],\n",
      "       [0.34146981],\n",
      "       [0.5525812 ],\n",
      "       [0.6359593 ],\n",
      "       [0.77184288],\n",
      "       [0.66604698],\n",
      "       [0.59215922],\n",
      "       [0.35140198]])]\n",
      "Testing Data: Length is  1 :  [0.3565209199273157]\n"
     ]
    }
   ],
   "source": [
    "samples = 10  # number of samples (in past)\n",
    "steps = 1  # number of steps (in future)\n",
    "x_array = []\n",
    "y_array = []\n",
    "for k in range(y_flatten.shape[0] - samples):\n",
    "    x_array.append(y_flatten[k:k+samples])  # independent samples\n",
    "    y_array.append(y_flatten[k+samples][0]) # dependent samples\n",
    "print('Training Data: Length is ', len(x_array[0:1][0]),': ', x_array[0:1])\n",
    "print('Testing Data: Length is ', len(y_array[0:1]),': ', y_array[0:1])"
   ]
  },
  {
   "cell_type": "markdown",
   "id": "2cdbe026",
   "metadata": {},
   "source": [
    "Essentially, we will use the last 10 values of the training data in order to try and predict the testing set"
   ]
  },
  {
   "cell_type": "code",
   "execution_count": 196,
   "id": "6e9d162f",
   "metadata": {},
   "outputs": [
    {
     "name": "stdout",
     "output_type": "stream",
     "text": [
      "Dimensions of X (593, 10, 1) Dimensions of Y (593,)\n",
      "Threshold is  534\n"
     ]
    }
   ],
   "source": [
    "X_reshape = np.array(x_array)\n",
    "Y_reshape = np.array(y_array)\n",
    "print('Dimensions of X', X_reshape.shape, 'Dimensions of Y', Y_reshape.shape)\n",
    "\n",
    "threshold = round(0.9 * X_reshape.shape[0])\n",
    "print('Threshold is ', threshold)"
   ]
  },
  {
   "cell_type": "code",
   "execution_count": 197,
   "id": "4da6cfe4",
   "metadata": {},
   "outputs": [],
   "source": [
    "trainX, trainY = X_reshape[:threshold], Y_reshape[:threshold]\n",
    "testX, testY = X_reshape[threshold:], Y_reshape[threshold:]"
   ]
  },
  {
   "cell_type": "markdown",
   "id": "e9965c47",
   "metadata": {},
   "source": [
    "90% of the data will be used as training data"
   ]
  },
  {
   "cell_type": "markdown",
   "id": "a5729ba9",
   "metadata": {},
   "source": [
    "#### Building the RNN"
   ]
  },
  {
   "cell_type": "code",
   "execution_count": 198,
   "id": "736703ef",
   "metadata": {},
   "outputs": [
    {
     "name": "stdout",
     "output_type": "stream",
     "text": [
      "Model: \"sequential_5\"\n",
      "_________________________________________________________________\n",
      " Layer (type)                Output Shape              Param #   \n",
      "=================================================================\n",
      " simple_rnn_4 (SimpleRNN)    (None, 3)                 15        \n",
      "                                                                 \n",
      " dropout_3 (Dropout)         (None, 3)                 0         \n",
      "                                                                 \n",
      " dense_4 (Dense)             (None, 1)                 4         \n",
      "                                                                 \n",
      "=================================================================\n",
      "Total params: 19\n",
      "Trainable params: 19\n",
      "Non-trainable params: 0\n",
      "_________________________________________________________________\n"
     ]
    }
   ],
   "source": [
    "model = keras.Sequential()\n",
    "\n",
    "# Add an RNN layer with 3 units\n",
    "model.add(layers.SimpleRNN(3,\n",
    "                          activation = 'tanh',\n",
    "                          input_shape = (trainX.shape[1], trainX.shape[2])))\n",
    "\n",
    "# Add a dropout layer (penalize more complex models)\n",
    "model.add(layers.Dropout(rate=0.2))\n",
    "\n",
    "# add a Dense laer with 1 unit (since we are doing a regression)\n",
    "model.add(layers.Dense(1))\n",
    "\n",
    "# Evaluating loss function of MSE using the adam optimizer\n",
    "model.compile(loss = 'mean_squared_error', optimizer = 'adam')\n",
    "\n",
    "# print out architecture\n",
    "model.summary()"
   ]
  },
  {
   "cell_type": "code",
   "execution_count": 199,
   "id": "2159be1c",
   "metadata": {},
   "outputs": [
    {
     "name": "stdout",
     "output_type": "stream",
     "text": [
      "Epoch 1/100\n",
      "14/14 [==============================] - 2s 28ms/step - loss: 0.1974 - val_loss: 0.1597\n",
      "Epoch 2/100\n",
      "14/14 [==============================] - 0s 8ms/step - loss: 0.1553 - val_loss: 0.1196\n",
      "Epoch 3/100\n",
      "14/14 [==============================] - 0s 8ms/step - loss: 0.1224 - val_loss: 0.0862\n",
      "Epoch 4/100\n",
      "14/14 [==============================] - 0s 8ms/step - loss: 0.0999 - val_loss: 0.0611\n",
      "Epoch 5/100\n",
      "14/14 [==============================] - 0s 8ms/step - loss: 0.0767 - val_loss: 0.0441\n",
      "Epoch 6/100\n",
      "14/14 [==============================] - 0s 8ms/step - loss: 0.0714 - val_loss: 0.0339\n",
      "Epoch 7/100\n",
      "14/14 [==============================] - 0s 8ms/step - loss: 0.0632 - val_loss: 0.0288\n",
      "Epoch 8/100\n",
      "14/14 [==============================] - 0s 8ms/step - loss: 0.0577 - val_loss: 0.0268\n",
      "Epoch 9/100\n",
      "14/14 [==============================] - 0s 8ms/step - loss: 0.0525 - val_loss: 0.0255\n",
      "Epoch 10/100\n",
      "14/14 [==============================] - 0s 8ms/step - loss: 0.0563 - val_loss: 0.0245\n",
      "Epoch 11/100\n",
      "14/14 [==============================] - 0s 8ms/step - loss: 0.0542 - val_loss: 0.0240\n",
      "Epoch 12/100\n",
      "14/14 [==============================] - 0s 8ms/step - loss: 0.0579 - val_loss: 0.0231\n",
      "Epoch 13/100\n",
      "14/14 [==============================] - 0s 8ms/step - loss: 0.0457 - val_loss: 0.0222\n",
      "Epoch 14/100\n",
      "14/14 [==============================] - 0s 9ms/step - loss: 0.0474 - val_loss: 0.0217\n",
      "Epoch 15/100\n",
      "14/14 [==============================] - 0s 8ms/step - loss: 0.0548 - val_loss: 0.0213\n",
      "Epoch 16/100\n",
      "14/14 [==============================] - 0s 8ms/step - loss: 0.0530 - val_loss: 0.0203\n",
      "Epoch 17/100\n",
      "14/14 [==============================] - 0s 7ms/step - loss: 0.0457 - val_loss: 0.0198\n",
      "Epoch 18/100\n",
      "14/14 [==============================] - 0s 8ms/step - loss: 0.0434 - val_loss: 0.0196\n",
      "Epoch 19/100\n",
      "14/14 [==============================] - 0s 8ms/step - loss: 0.0394 - val_loss: 0.0194\n",
      "Epoch 20/100\n",
      "14/14 [==============================] - 0s 8ms/step - loss: 0.0430 - val_loss: 0.0188\n",
      "Epoch 21/100\n",
      "14/14 [==============================] - 0s 10ms/step - loss: 0.0397 - val_loss: 0.0182\n",
      "Epoch 22/100\n",
      "14/14 [==============================] - 0s 9ms/step - loss: 0.0434 - val_loss: 0.0179\n",
      "Epoch 23/100\n",
      "14/14 [==============================] - 0s 8ms/step - loss: 0.0392 - val_loss: 0.0175\n",
      "Epoch 24/100\n",
      "14/14 [==============================] - 0s 7ms/step - loss: 0.0432 - val_loss: 0.0173\n",
      "Epoch 25/100\n",
      "14/14 [==============================] - 0s 8ms/step - loss: 0.0405 - val_loss: 0.0174\n",
      "Epoch 26/100\n",
      "14/14 [==============================] - 0s 7ms/step - loss: 0.0400 - val_loss: 0.0170\n",
      "Epoch 27/100\n",
      "14/14 [==============================] - 0s 9ms/step - loss: 0.0349 - val_loss: 0.0162\n",
      "Epoch 28/100\n",
      "14/14 [==============================] - 0s 7ms/step - loss: 0.0352 - val_loss: 0.0160\n",
      "Epoch 29/100\n",
      "14/14 [==============================] - 0s 8ms/step - loss: 0.0320 - val_loss: 0.0158\n",
      "Epoch 30/100\n",
      "14/14 [==============================] - 0s 8ms/step - loss: 0.0311 - val_loss: 0.0156\n",
      "Epoch 31/100\n",
      "14/14 [==============================] - 0s 7ms/step - loss: 0.0383 - val_loss: 0.0155\n",
      "Epoch 32/100\n",
      "14/14 [==============================] - 0s 7ms/step - loss: 0.0361 - val_loss: 0.0154\n",
      "Epoch 33/100\n",
      "14/14 [==============================] - 0s 8ms/step - loss: 0.0318 - val_loss: 0.0152\n",
      "Epoch 34/100\n",
      "14/14 [==============================] - 0s 7ms/step - loss: 0.0346 - val_loss: 0.0150\n",
      "Epoch 35/100\n",
      "14/14 [==============================] - 0s 7ms/step - loss: 0.0338 - val_loss: 0.0146\n",
      "Epoch 36/100\n",
      "14/14 [==============================] - 0s 10ms/step - loss: 0.0345 - val_loss: 0.0145\n",
      "Epoch 37/100\n",
      "14/14 [==============================] - 0s 9ms/step - loss: 0.0321 - val_loss: 0.0144\n",
      "Epoch 38/100\n",
      "14/14 [==============================] - 0s 7ms/step - loss: 0.0327 - val_loss: 0.0144\n",
      "Epoch 39/100\n",
      "14/14 [==============================] - 0s 8ms/step - loss: 0.0328 - val_loss: 0.0145\n",
      "Epoch 40/100\n",
      "14/14 [==============================] - 0s 10ms/step - loss: 0.0278 - val_loss: 0.0140\n",
      "Epoch 41/100\n",
      "14/14 [==============================] - 0s 8ms/step - loss: 0.0302 - val_loss: 0.0139\n",
      "Epoch 42/100\n",
      "14/14 [==============================] - 0s 7ms/step - loss: 0.0327 - val_loss: 0.0137\n",
      "Epoch 43/100\n",
      "14/14 [==============================] - 0s 7ms/step - loss: 0.0297 - val_loss: 0.0137\n",
      "Epoch 44/100\n",
      "14/14 [==============================] - 0s 7ms/step - loss: 0.0303 - val_loss: 0.0137\n",
      "Epoch 45/100\n",
      "14/14 [==============================] - 0s 8ms/step - loss: 0.0219 - val_loss: 0.0134\n",
      "Epoch 46/100\n",
      "14/14 [==============================] - 0s 7ms/step - loss: 0.0275 - val_loss: 0.0131\n",
      "Epoch 47/100\n",
      "14/14 [==============================] - 0s 7ms/step - loss: 0.0252 - val_loss: 0.0130\n",
      "Epoch 48/100\n",
      "14/14 [==============================] - 0s 7ms/step - loss: 0.0254 - val_loss: 0.0131\n",
      "Epoch 49/100\n",
      "14/14 [==============================] - 0s 7ms/step - loss: 0.0279 - val_loss: 0.0132\n",
      "Epoch 50/100\n",
      "14/14 [==============================] - 0s 8ms/step - loss: 0.0281 - val_loss: 0.0131\n",
      "Epoch 51/100\n",
      "14/14 [==============================] - 0s 7ms/step - loss: 0.0260 - val_loss: 0.0127\n",
      "Epoch 52/100\n",
      "14/14 [==============================] - 0s 7ms/step - loss: 0.0262 - val_loss: 0.0126\n",
      "Epoch 53/100\n",
      "14/14 [==============================] - 0s 8ms/step - loss: 0.0239 - val_loss: 0.0130\n",
      "Epoch 54/100\n",
      "14/14 [==============================] - 0s 7ms/step - loss: 0.0228 - val_loss: 0.0129\n",
      "Epoch 55/100\n",
      "14/14 [==============================] - 0s 7ms/step - loss: 0.0256 - val_loss: 0.0127\n",
      "Epoch 56/100\n",
      "14/14 [==============================] - 0s 7ms/step - loss: 0.0269 - val_loss: 0.0126\n",
      "Epoch 57/100\n",
      "14/14 [==============================] - 0s 8ms/step - loss: 0.0244 - val_loss: 0.0124\n",
      "Epoch 58/100\n",
      "14/14 [==============================] - 0s 7ms/step - loss: 0.0254 - val_loss: 0.0124\n",
      "Epoch 59/100\n",
      "14/14 [==============================] - 0s 8ms/step - loss: 0.0266 - val_loss: 0.0124\n",
      "Epoch 60/100\n",
      "14/14 [==============================] - 0s 7ms/step - loss: 0.0221 - val_loss: 0.0124\n",
      "Epoch 61/100\n",
      "14/14 [==============================] - 0s 7ms/step - loss: 0.0200 - val_loss: 0.0124\n",
      "Epoch 62/100\n",
      "14/14 [==============================] - 0s 7ms/step - loss: 0.0227 - val_loss: 0.0122\n",
      "Epoch 63/100\n",
      "14/14 [==============================] - 0s 8ms/step - loss: 0.0218 - val_loss: 0.0119\n",
      "Epoch 64/100\n",
      "14/14 [==============================] - 0s 8ms/step - loss: 0.0235 - val_loss: 0.0120\n",
      "Epoch 65/100\n",
      "14/14 [==============================] - 0s 8ms/step - loss: 0.0261 - val_loss: 0.0121\n",
      "Epoch 66/100\n",
      "14/14 [==============================] - 0s 7ms/step - loss: 0.0223 - val_loss: 0.0121\n",
      "Epoch 67/100\n",
      "14/14 [==============================] - 0s 8ms/step - loss: 0.0231 - val_loss: 0.0119\n",
      "Epoch 68/100\n",
      "14/14 [==============================] - 0s 7ms/step - loss: 0.0206 - val_loss: 0.0122\n",
      "Epoch 69/100\n",
      "14/14 [==============================] - 0s 7ms/step - loss: 0.0244 - val_loss: 0.0124\n",
      "Epoch 70/100\n",
      "14/14 [==============================] - 0s 7ms/step - loss: 0.0223 - val_loss: 0.0121\n",
      "Epoch 71/100\n",
      "14/14 [==============================] - 0s 7ms/step - loss: 0.0218 - val_loss: 0.0117\n",
      "Epoch 72/100\n",
      "14/14 [==============================] - 0s 9ms/step - loss: 0.0190 - val_loss: 0.0117\n",
      "Epoch 73/100\n",
      "14/14 [==============================] - 0s 8ms/step - loss: 0.0203 - val_loss: 0.0118\n",
      "Epoch 74/100\n",
      "14/14 [==============================] - 0s 7ms/step - loss: 0.0206 - val_loss: 0.0120\n",
      "Epoch 75/100\n",
      "14/14 [==============================] - 0s 7ms/step - loss: 0.0211 - val_loss: 0.0119\n",
      "Epoch 76/100\n",
      "14/14 [==============================] - 0s 7ms/step - loss: 0.0205 - val_loss: 0.0114\n",
      "Epoch 77/100\n",
      "14/14 [==============================] - 0s 7ms/step - loss: 0.0193 - val_loss: 0.0117\n",
      "Epoch 78/100\n",
      "14/14 [==============================] - 0s 7ms/step - loss: 0.0227 - val_loss: 0.0117\n",
      "Epoch 79/100\n",
      "14/14 [==============================] - 0s 7ms/step - loss: 0.0212 - val_loss: 0.0115\n",
      "Epoch 80/100\n",
      "14/14 [==============================] - 0s 7ms/step - loss: 0.0192 - val_loss: 0.0116\n",
      "Epoch 81/100\n",
      "14/14 [==============================] - 0s 9ms/step - loss: 0.0225 - val_loss: 0.0116\n",
      "Epoch 82/100\n",
      "14/14 [==============================] - 0s 7ms/step - loss: 0.0189 - val_loss: 0.0115\n"
     ]
    },
    {
     "name": "stdout",
     "output_type": "stream",
     "text": [
      "Epoch 83/100\n",
      "14/14 [==============================] - 0s 8ms/step - loss: 0.0175 - val_loss: 0.0117\n",
      "Epoch 84/100\n",
      "14/14 [==============================] - 0s 7ms/step - loss: 0.0200 - val_loss: 0.0116\n",
      "Epoch 85/100\n",
      "14/14 [==============================] - 0s 7ms/step - loss: 0.0178 - val_loss: 0.0116\n",
      "Epoch 86/100\n",
      "14/14 [==============================] - 0s 7ms/step - loss: 0.0191 - val_loss: 0.0115\n",
      "Epoch 87/100\n",
      "14/14 [==============================] - 0s 8ms/step - loss: 0.0185 - val_loss: 0.0114\n",
      "Epoch 88/100\n",
      "14/14 [==============================] - 0s 7ms/step - loss: 0.0197 - val_loss: 0.0112\n",
      "Epoch 89/100\n",
      "14/14 [==============================] - 0s 7ms/step - loss: 0.0176 - val_loss: 0.0114\n",
      "Epoch 90/100\n",
      "14/14 [==============================] - 0s 7ms/step - loss: 0.0187 - val_loss: 0.0114\n",
      "Epoch 91/100\n",
      "14/14 [==============================] - 0s 7ms/step - loss: 0.0193 - val_loss: 0.0113\n",
      "Epoch 92/100\n",
      "14/14 [==============================] - 0s 7ms/step - loss: 0.0187 - val_loss: 0.0112\n",
      "Epoch 93/100\n",
      "14/14 [==============================] - 0s 7ms/step - loss: 0.0178 - val_loss: 0.0113\n",
      "Epoch 94/100\n",
      "14/14 [==============================] - 0s 8ms/step - loss: 0.0172 - val_loss: 0.0114\n",
      "Epoch 95/100\n",
      "14/14 [==============================] - 0s 7ms/step - loss: 0.0186 - val_loss: 0.0114\n",
      "Epoch 96/100\n",
      "14/14 [==============================] - 0s 7ms/step - loss: 0.0178 - val_loss: 0.0114\n",
      "Epoch 97/100\n",
      "14/14 [==============================] - 0s 7ms/step - loss: 0.0162 - val_loss: 0.0114\n",
      "Epoch 98/100\n",
      "14/14 [==============================] - 0s 7ms/step - loss: 0.0172 - val_loss: 0.0113\n",
      "Epoch 99/100\n",
      "14/14 [==============================] - 0s 7ms/step - loss: 0.0167 - val_loss: 0.0113\n",
      "Epoch 100/100\n",
      "14/14 [==============================] - 0s 7ms/step - loss: 0.0179 - val_loss: 0.0114\n"
     ]
    }
   ],
   "source": [
    "# fitting the data\n",
    "history = model.fit(trainX[:threshold],\n",
    "                    trainY[:threshold],\n",
    "                    shuffle = False,  # since this is time series data\n",
    "                    epochs = 100,\n",
    "                    batch_size = 32,\n",
    "                    validation_split = 0.2,\n",
    "                   verbose = 1)  # verbose outputs data"
   ]
  },
  {
   "cell_type": "code",
   "execution_count": 200,
   "id": "b41d6bc4",
   "metadata": {
    "scrolled": true
   },
   "outputs": [
    {
     "data": {
      "text/plain": [
       "<matplotlib.legend.Legend at 0x7fd281ba9610>"
      ]
     },
     "execution_count": 200,
     "metadata": {},
     "output_type": "execute_result"
    },
    {
     "data": {
      "image/png": "[encoded data removed]",
      "text/plain": [
       "<Figure size 432x288 with 1 Axes>"
      ]
     },
     "metadata": {
      "needs_background": "light"
     },
     "output_type": "display_data"
    }
   ],
   "source": [
    "# Plotting the loss iteration\n",
    "plt.plot(history.history['loss'], label = 'training loss')\n",
    "plt.plot(history.history['val_loss'], label = 'validation loss')\n",
    "plt.legend()\n",
    "\n",
    "# Note:\n",
    "# If training loss >> validation loss -> Underfitting\n",
    "# If training loss << validation loss -> Overfitting\n",
    "# Several ways to address overfitting:\n",
    "# Reduce the complexity of the model\n",
    "# Add dropout and tune rate\n",
    "# More data"
   ]
  },
  {
   "cell_type": "markdown",
   "id": "4d059333",
   "metadata": {},
   "source": [
    "#### One step ahead forecast"
   ]
  },
  {
   "cell_type": "code",
   "execution_count": 201,
   "id": "3c016305",
   "metadata": {},
   "outputs": [
    {
     "data": {
      "text/plain": [
       "<matplotlib.legend.Legend at 0x7fd282463850>"
      ]
     },
     "execution_count": 201,
     "metadata": {},
     "output_type": "execute_result"
    },
    {
     "data": {
      "image/png": "[encoded data removed]",
      "text/plain": [
       "<Figure size 432x288 with 1 Axes>"
      ]
     },
     "metadata": {
      "needs_background": "light"
     },
     "output_type": "display_data"
    }
   ],
   "source": [
    "y_pred = model.predict(testX)\n",
    "plt.plot(testY, label = 'True Value')\n",
    "plt.plot(y_pred, label = 'Forecasted Value')\n",
    "plt.legend()"
   ]
  },
  {
   "cell_type": "markdown",
   "id": "35772df1",
   "metadata": {},
   "source": [
    "#### Multi Step Forecast"
   ]
  },
  {
   "cell_type": "code",
   "execution_count": 202,
   "id": "bc362687",
   "metadata": {},
   "outputs": [
    {
     "name": "stdout",
     "output_type": "stream",
     "text": [
      "Number of Forecasts to do:  593\n"
     ]
    }
   ],
   "source": [
    "# Predictions using the 'sliding/rolling window' approach\n",
    "# Multi-step forecast\n",
    "# using self predictions for making future predictions\n",
    "\n",
    "true_Y = Y_reshape[threshold:]\n",
    "pred_Y = []\n",
    "print('Number of Forecasts to do: ', Y_reshape.shape[0] - round(Y_reshape[0]*0.9))\n",
    "latest_input = X_reshape[threshold - 1:threshold]\n",
    "for i in range(Y_reshape.shape[0] - round(Y_reshape.shape[0]*0.9)):\n",
    "    # prediction\n",
    "    p = model.predict(latest_input.reshape(1, X_reshape.shape[1], 1))[0,0]\n",
    "    \n",
    "    #Update predictions\n",
    "    pred_Y.append(p)\n",
    "    latest_input = np.append(X_reshape[threshold][1:], p)"
   ]
  },
  {
   "cell_type": "code",
   "execution_count": 203,
   "id": "21e5b8c3",
   "metadata": {
    "scrolled": false
   },
   "outputs": [
    {
     "data": {
      "text/plain": [
       "<matplotlib.legend.Legend at 0x7fd2826fba60>"
      ]
     },
     "execution_count": 203,
     "metadata": {},
     "output_type": "execute_result"
    },
    {
     "data": {
      "image/png": "[encoded data removed]",
      "text/plain": [
       "<Figure size 432x288 with 1 Axes>"
      ]
     },
     "metadata": {
      "needs_background": "light"
     },
     "output_type": "display_data"
    }
   ],
   "source": [
    "plt.plot(true_Y, label = 'True Value')\n",
    "plt.plot(pred_Y, label = 'Forecasted Value')\n",
    "plt.legend()"
   ]
  },
  {
   "cell_type": "markdown",
   "id": "ec8717a7",
   "metadata": {},
   "source": [
    "#### Why do we discard the first 100 samples then re-estimate the RNN?"
   ]
  },
  {
   "cell_type": "markdown",
   "id": "1289a768",
   "metadata": {},
   "source": [
    "I can only imagine that it is because the RNN is 'forgetful' and sometimes it may better classify on shorter data"
   ]
  },
  {
   "cell_type": "code",
   "execution_count": 185,
   "id": "20e4f388",
   "metadata": {},
   "outputs": [],
   "source": [
    "# Discard first 100 samples\n",
    "y_flatten_trimmed = y.values[0:503].reshape(-1,1)\n",
    "y_flatten_trimmed\n",
    "\n",
    "# scale the data -- this avoids the exploding gradient problem\n",
    "\n",
    "scale = MinMaxScaler(feature_range = (0,1))\n",
    "y_flatten_trimmed = scale.fit_transform(y_flatten_trimmed)"
   ]
  },
  {
   "cell_type": "code",
   "execution_count": 186,
   "id": "7c22a044",
   "metadata": {},
   "outputs": [
    {
     "name": "stdout",
     "output_type": "stream",
     "text": [
      "Training Data: Length is  10 :  [array([[0.66020863],\n",
      "       [0.55995501],\n",
      "       [0.49938846],\n",
      "       [0.34146981],\n",
      "       [0.5525812 ],\n",
      "       [0.6359593 ],\n",
      "       [0.77184288],\n",
      "       [0.66604698],\n",
      "       [0.59215922],\n",
      "       [0.35140198]])]\n",
      "Testing Data: Length is  1 :  [0.3565209199273157]\n"
     ]
    }
   ],
   "source": [
    "X_trimmed = []\n",
    "Y_trimmed = []\n",
    "for k in range(y_flatten_trimmed.shape[0] - samples):\n",
    "    X_trimmed.append(y_flatten_trimmed[k:k+samples])  # independent samples\n",
    "    Y_trimmed.append(y_flatten_trimmed[k+samples][0]) # dependent samples\n",
    "print('Training Data: Length is ', len(X_trimmed[0:1][0]),': ', X_trimmed[0:1])\n",
    "print('Testing Data: Length is ', len(Y_trimmed[0:1]),': ', Y_trimmed[0:1])"
   ]
  },
  {
   "cell_type": "code",
   "execution_count": 187,
   "id": "880327eb",
   "metadata": {},
   "outputs": [
    {
     "name": "stdout",
     "output_type": "stream",
     "text": [
      "Dimensions of X (493, 10, 1) Dimensions of Y (493,)\n",
      "Threshold is  444\n"
     ]
    }
   ],
   "source": [
    "X_reshape_trimmed = np.array(X_trimmed)\n",
    "Y_reshape_trimmed = np.array(Y_trimmed)\n",
    "print('Dimensions of X', X_reshape_trimmed.shape, 'Dimensions of Y', Y_reshape_trimmed.shape)\n",
    "\n",
    "threshold_trimmed = round(0.9 * X_reshape_trimmed.shape[0])\n",
    "print('Threshold is ', threshold_trimmed)"
   ]
  },
  {
   "cell_type": "code",
   "execution_count": 188,
   "id": "2f3c7ca6",
   "metadata": {},
   "outputs": [],
   "source": [
    "trainX_trimmed, trainY_trimmed = X_reshape_trimmed[:threshold_trimmed], Y_reshape_trimmed[:threshold_trimmed]\n",
    "testX_trimmed, testY_trimmed = X_reshape_trimmed[threshold_trimmed:], Y_reshape_trimmed[threshold_trimmed:]"
   ]
  },
  {
   "cell_type": "code",
   "execution_count": 189,
   "id": "020d2210",
   "metadata": {},
   "outputs": [
    {
     "name": "stdout",
     "output_type": "stream",
     "text": [
      "Model: \"sequential_4\"\n",
      "_________________________________________________________________\n",
      " Layer (type)                Output Shape              Param #   \n",
      "=================================================================\n",
      " simple_rnn_3 (SimpleRNN)    (None, 3)                 15        \n",
      "                                                                 \n",
      " dropout_2 (Dropout)         (None, 3)                 0         \n",
      "                                                                 \n",
      " dense_3 (Dense)             (None, 1)                 4         \n",
      "                                                                 \n",
      "=================================================================\n",
      "Total params: 19\n",
      "Trainable params: 19\n",
      "Non-trainable params: 0\n",
      "_________________________________________________________________\n"
     ]
    }
   ],
   "source": [
    "model_trimmed = keras.Sequential()\n",
    "\n",
    "# Add an RNN layer with 3 units\n",
    "model_trimmed.add(layers.SimpleRNN(3,\n",
    "                          activation = 'tanh',\n",
    "                          input_shape = (trainX_trimmed.shape[1], trainX_trimmed.shape[2])))\n",
    "\n",
    "# Add a dropout layer (penalize more complex models)\n",
    "model_trimmed.add(layers.Dropout(rate=0.2))\n",
    "\n",
    "# add a Dense laer with 1 unit (since we are doing a regression)\n",
    "model_trimmed.add(layers.Dense(1))\n",
    "\n",
    "# Evaluating loss function of MSE using the adam optimizer\n",
    "model_trimmed.compile(loss = 'mean_squared_error', optimizer = 'adam')\n",
    "\n",
    "# print out architecture\n",
    "model_trimmed.summary()"
   ]
  },
  {
   "cell_type": "code",
   "execution_count": 190,
   "id": "3546dbed",
   "metadata": {},
   "outputs": [
    {
     "name": "stdout",
     "output_type": "stream",
     "text": [
      "Epoch 1/100\n",
      "12/12 [==============================] - 2s 38ms/step - loss: 0.1392 - val_loss: 0.0857\n",
      "Epoch 2/100\n",
      "12/12 [==============================] - 0s 9ms/step - loss: 0.1319 - val_loss: 0.0742\n",
      "Epoch 3/100\n",
      "12/12 [==============================] - 0s 10ms/step - loss: 0.1153 - val_loss: 0.0659\n",
      "Epoch 4/100\n",
      "12/12 [==============================] - 0s 9ms/step - loss: 0.0996 - val_loss: 0.0595\n",
      "Epoch 5/100\n",
      "12/12 [==============================] - 0s 8ms/step - loss: 0.0966 - val_loss: 0.0546\n",
      "Epoch 6/100\n",
      "12/12 [==============================] - 0s 9ms/step - loss: 0.0929 - val_loss: 0.0508\n",
      "Epoch 7/100\n",
      "12/12 [==============================] - 0s 11ms/step - loss: 0.0892 - val_loss: 0.0480\n",
      "Epoch 8/100\n",
      "12/12 [==============================] - 0s 10ms/step - loss: 0.0818 - val_loss: 0.0460\n",
      "Epoch 9/100\n",
      "12/12 [==============================] - 0s 11ms/step - loss: 0.0799 - val_loss: 0.0444\n",
      "Epoch 10/100\n",
      "12/12 [==============================] - 0s 8ms/step - loss: 0.0818 - val_loss: 0.0431\n",
      "Epoch 11/100\n",
      "12/12 [==============================] - 0s 9ms/step - loss: 0.0714 - val_loss: 0.0417\n",
      "Epoch 12/100\n",
      "12/12 [==============================] - 0s 9ms/step - loss: 0.0640 - val_loss: 0.0401\n",
      "Epoch 13/100\n",
      "12/12 [==============================] - 0s 11ms/step - loss: 0.0762 - val_loss: 0.0386\n",
      "Epoch 14/100\n",
      "12/12 [==============================] - 0s 13ms/step - loss: 0.0585 - val_loss: 0.0376\n",
      "Epoch 15/100\n",
      "12/12 [==============================] - 0s 8ms/step - loss: 0.0643 - val_loss: 0.0364\n",
      "Epoch 16/100\n",
      "12/12 [==============================] - 0s 9ms/step - loss: 0.0637 - val_loss: 0.0351\n",
      "Epoch 17/100\n",
      "12/12 [==============================] - 0s 10ms/step - loss: 0.0548 - val_loss: 0.0342\n",
      "Epoch 18/100\n",
      "12/12 [==============================] - 0s 11ms/step - loss: 0.0579 - val_loss: 0.0332\n",
      "Epoch 19/100\n",
      "12/12 [==============================] - 0s 11ms/step - loss: 0.0547 - val_loss: 0.0327\n",
      "Epoch 20/100\n",
      "12/12 [==============================] - 0s 10ms/step - loss: 0.0476 - val_loss: 0.0322\n",
      "Epoch 21/100\n",
      "12/12 [==============================] - 0s 9ms/step - loss: 0.0468 - val_loss: 0.0320\n",
      "Epoch 22/100\n",
      "12/12 [==============================] - 0s 10ms/step - loss: 0.0470 - val_loss: 0.0316\n",
      "Epoch 23/100\n",
      "12/12 [==============================] - 0s 9ms/step - loss: 0.0480 - val_loss: 0.0312\n",
      "Epoch 24/100\n",
      "12/12 [==============================] - 0s 8ms/step - loss: 0.0478 - val_loss: 0.0302\n",
      "Epoch 25/100\n",
      "12/12 [==============================] - 0s 10ms/step - loss: 0.0444 - val_loss: 0.0295\n",
      "Epoch 26/100\n",
      "12/12 [==============================] - 0s 10ms/step - loss: 0.0440 - val_loss: 0.0287\n",
      "Epoch 27/100\n",
      "12/12 [==============================] - 0s 9ms/step - loss: 0.0465 - val_loss: 0.0280\n",
      "Epoch 28/100\n",
      "12/12 [==============================] - 0s 9ms/step - loss: 0.0423 - val_loss: 0.0278\n",
      "Epoch 29/100\n",
      "12/12 [==============================] - 0s 9ms/step - loss: 0.0469 - val_loss: 0.0271\n",
      "Epoch 30/100\n",
      "12/12 [==============================] - 0s 9ms/step - loss: 0.0402 - val_loss: 0.0271\n",
      "Epoch 31/100\n",
      "12/12 [==============================] - 0s 9ms/step - loss: 0.0391 - val_loss: 0.0267\n",
      "Epoch 32/100\n",
      "12/12 [==============================] - 0s 11ms/step - loss: 0.0378 - val_loss: 0.0262\n",
      "Epoch 33/100\n",
      "12/12 [==============================] - 0s 10ms/step - loss: 0.0377 - val_loss: 0.0262\n",
      "Epoch 34/100\n",
      "12/12 [==============================] - 0s 9ms/step - loss: 0.0369 - val_loss: 0.0258\n",
      "Epoch 35/100\n",
      "12/12 [==============================] - 0s 8ms/step - loss: 0.0382 - val_loss: 0.0257\n",
      "Epoch 36/100\n",
      "12/12 [==============================] - 0s 9ms/step - loss: 0.0382 - val_loss: 0.0251\n",
      "Epoch 37/100\n",
      "12/12 [==============================] - 0s 8ms/step - loss: 0.0336 - val_loss: 0.0246\n",
      "Epoch 38/100\n",
      "12/12 [==============================] - 0s 8ms/step - loss: 0.0369 - val_loss: 0.0244\n",
      "Epoch 39/100\n",
      "12/12 [==============================] - 0s 9ms/step - loss: 0.0344 - val_loss: 0.0242\n",
      "Epoch 40/100\n",
      "12/12 [==============================] - 0s 10ms/step - loss: 0.0294 - val_loss: 0.0241\n",
      "Epoch 41/100\n",
      "12/12 [==============================] - 0s 10ms/step - loss: 0.0381 - val_loss: 0.0238\n",
      "Epoch 42/100\n",
      "12/12 [==============================] - 0s 9ms/step - loss: 0.0297 - val_loss: 0.0235\n",
      "Epoch 43/100\n",
      "12/12 [==============================] - 0s 10ms/step - loss: 0.0338 - val_loss: 0.0232\n",
      "Epoch 44/100\n",
      "12/12 [==============================] - 0s 10ms/step - loss: 0.0299 - val_loss: 0.0230\n",
      "Epoch 45/100\n",
      "12/12 [==============================] - 0s 7ms/step - loss: 0.0270 - val_loss: 0.0228\n",
      "Epoch 46/100\n",
      "12/12 [==============================] - 0s 12ms/step - loss: 0.0336 - val_loss: 0.0227\n",
      "Epoch 47/100\n",
      "12/12 [==============================] - 0s 12ms/step - loss: 0.0284 - val_loss: 0.0222\n",
      "Epoch 48/100\n",
      "12/12 [==============================] - 0s 11ms/step - loss: 0.0281 - val_loss: 0.0219\n",
      "Epoch 49/100\n",
      "12/12 [==============================] - 0s 10ms/step - loss: 0.0263 - val_loss: 0.0217\n",
      "Epoch 50/100\n",
      "12/12 [==============================] - 0s 13ms/step - loss: 0.0252 - val_loss: 0.0215\n",
      "Epoch 51/100\n",
      "12/12 [==============================] - 0s 11ms/step - loss: 0.0242 - val_loss: 0.0215\n",
      "Epoch 52/100\n",
      "12/12 [==============================] - 0s 9ms/step - loss: 0.0255 - val_loss: 0.0215\n",
      "Epoch 53/100\n",
      "12/12 [==============================] - 0s 7ms/step - loss: 0.0250 - val_loss: 0.0212\n",
      "Epoch 54/100\n",
      "12/12 [==============================] - 0s 8ms/step - loss: 0.0289 - val_loss: 0.0209\n",
      "Epoch 55/100\n",
      "12/12 [==============================] - 0s 8ms/step - loss: 0.0258 - val_loss: 0.0209\n",
      "Epoch 56/100\n",
      "12/12 [==============================] - 0s 8ms/step - loss: 0.0251 - val_loss: 0.0204\n",
      "Epoch 57/100\n",
      "12/12 [==============================] - 0s 8ms/step - loss: 0.0246 - val_loss: 0.0202\n",
      "Epoch 58/100\n",
      "12/12 [==============================] - 0s 9ms/step - loss: 0.0245 - val_loss: 0.0201\n",
      "Epoch 59/100\n",
      "12/12 [==============================] - 0s 8ms/step - loss: 0.0249 - val_loss: 0.0198\n",
      "Epoch 60/100\n",
      "12/12 [==============================] - 0s 8ms/step - loss: 0.0236 - val_loss: 0.0193\n",
      "Epoch 61/100\n",
      "12/12 [==============================] - 0s 8ms/step - loss: 0.0228 - val_loss: 0.0192\n",
      "Epoch 62/100\n",
      "12/12 [==============================] - 0s 8ms/step - loss: 0.0237 - val_loss: 0.0191\n",
      "Epoch 63/100\n",
      "12/12 [==============================] - 0s 8ms/step - loss: 0.0214 - val_loss: 0.0192\n",
      "Epoch 64/100\n",
      "12/12 [==============================] - 0s 8ms/step - loss: 0.0203 - val_loss: 0.0190\n",
      "Epoch 65/100\n",
      "12/12 [==============================] - 0s 9ms/step - loss: 0.0226 - val_loss: 0.0190\n",
      "Epoch 66/100\n",
      "12/12 [==============================] - 0s 8ms/step - loss: 0.0227 - val_loss: 0.0189\n",
      "Epoch 67/100\n",
      "12/12 [==============================] - 0s 8ms/step - loss: 0.0223 - val_loss: 0.0187\n",
      "Epoch 68/100\n",
      "12/12 [==============================] - 0s 8ms/step - loss: 0.0232 - val_loss: 0.0184\n",
      "Epoch 69/100\n",
      "12/12 [==============================] - 0s 7ms/step - loss: 0.0239 - val_loss: 0.0183\n",
      "Epoch 70/100\n",
      "12/12 [==============================] - 0s 8ms/step - loss: 0.0218 - val_loss: 0.0181\n",
      "Epoch 71/100\n",
      "12/12 [==============================] - 0s 7ms/step - loss: 0.0197 - val_loss: 0.0180\n",
      "Epoch 72/100\n",
      "12/12 [==============================] - 0s 7ms/step - loss: 0.0227 - val_loss: 0.0179\n",
      "Epoch 73/100\n",
      "12/12 [==============================] - 0s 7ms/step - loss: 0.0213 - val_loss: 0.0177\n",
      "Epoch 74/100\n",
      "12/12 [==============================] - 0s 7ms/step - loss: 0.0199 - val_loss: 0.0175\n",
      "Epoch 75/100\n",
      "12/12 [==============================] - 0s 9ms/step - loss: 0.0192 - val_loss: 0.0174\n",
      "Epoch 76/100\n",
      "12/12 [==============================] - 0s 7ms/step - loss: 0.0200 - val_loss: 0.0173\n",
      "Epoch 77/100\n",
      "12/12 [==============================] - 0s 7ms/step - loss: 0.0182 - val_loss: 0.0174\n",
      "Epoch 78/100\n",
      "12/12 [==============================] - 0s 9ms/step - loss: 0.0196 - val_loss: 0.0172\n",
      "Epoch 79/100\n",
      "12/12 [==============================] - 0s 8ms/step - loss: 0.0205 - val_loss: 0.0170\n",
      "Epoch 80/100\n",
      "12/12 [==============================] - 0s 7ms/step - loss: 0.0196 - val_loss: 0.0171\n",
      "Epoch 81/100\n",
      "12/12 [==============================] - 0s 8ms/step - loss: 0.0187 - val_loss: 0.0171\n",
      "Epoch 82/100\n"
     ]
    },
    {
     "name": "stdout",
     "output_type": "stream",
     "text": [
      "12/12 [==============================] - 0s 8ms/step - loss: 0.0181 - val_loss: 0.0167\n",
      "Epoch 83/100\n",
      "12/12 [==============================] - 0s 8ms/step - loss: 0.0189 - val_loss: 0.0165\n",
      "Epoch 84/100\n",
      "12/12 [==============================] - 0s 8ms/step - loss: 0.0179 - val_loss: 0.0165\n",
      "Epoch 85/100\n",
      "12/12 [==============================] - 0s 10ms/step - loss: 0.0189 - val_loss: 0.0163\n",
      "Epoch 86/100\n",
      "12/12 [==============================] - 0s 7ms/step - loss: 0.0176 - val_loss: 0.0163\n",
      "Epoch 87/100\n",
      "12/12 [==============================] - 0s 9ms/step - loss: 0.0175 - val_loss: 0.0162\n",
      "Epoch 88/100\n",
      "12/12 [==============================] - 0s 8ms/step - loss: 0.0174 - val_loss: 0.0159\n",
      "Epoch 89/100\n",
      "12/12 [==============================] - 0s 7ms/step - loss: 0.0201 - val_loss: 0.0158\n",
      "Epoch 90/100\n",
      "12/12 [==============================] - 0s 7ms/step - loss: 0.0182 - val_loss: 0.0158\n",
      "Epoch 91/100\n",
      "12/12 [==============================] - 0s 8ms/step - loss: 0.0185 - val_loss: 0.0160\n",
      "Epoch 92/100\n",
      "12/12 [==============================] - 0s 8ms/step - loss: 0.0173 - val_loss: 0.0161\n",
      "Epoch 93/100\n",
      "12/12 [==============================] - 0s 7ms/step - loss: 0.0184 - val_loss: 0.0163\n",
      "Epoch 94/100\n",
      "12/12 [==============================] - 0s 8ms/step - loss: 0.0175 - val_loss: 0.0161\n",
      "Epoch 95/100\n",
      "12/12 [==============================] - 0s 7ms/step - loss: 0.0185 - val_loss: 0.0159\n",
      "Epoch 96/100\n",
      "12/12 [==============================] - 0s 8ms/step - loss: 0.0164 - val_loss: 0.0158\n",
      "Epoch 97/100\n",
      "12/12 [==============================] - 0s 7ms/step - loss: 0.0173 - val_loss: 0.0157\n",
      "Epoch 98/100\n",
      "12/12 [==============================] - 0s 8ms/step - loss: 0.0169 - val_loss: 0.0156\n",
      "Epoch 99/100\n",
      "12/12 [==============================] - 0s 8ms/step - loss: 0.0180 - val_loss: 0.0154\n",
      "Epoch 100/100\n",
      "12/12 [==============================] - 0s 7ms/step - loss: 0.0179 - val_loss: 0.0155\n"
     ]
    }
   ],
   "source": [
    "# fitting the data\n",
    "history_trimmed = model_trimmed.fit(trainX_trimmed[:threshold_trimmed],\n",
    "                    trainY_trimmed[:threshold_trimmed],\n",
    "                    shuffle = False,  # since this is time series data\n",
    "                    epochs = 100,\n",
    "                    batch_size = 32,\n",
    "                    validation_split = 0.2,\n",
    "                   verbose = 1)  # verbose outputs data"
   ]
  },
  {
   "cell_type": "code",
   "execution_count": 191,
   "id": "953971f2",
   "metadata": {
    "scrolled": true
   },
   "outputs": [
    {
     "data": {
      "text/plain": [
       "<matplotlib.legend.Legend at 0x7fd280373220>"
      ]
     },
     "execution_count": 191,
     "metadata": {},
     "output_type": "execute_result"
    },
    {
     "data": {
      "image/png": "[encoded data removed]",
      "text/plain": [
       "<Figure size 432x288 with 1 Axes>"
      ]
     },
     "metadata": {
      "needs_background": "light"
     },
     "output_type": "display_data"
    }
   ],
   "source": [
    "# Plotting the loss iteration\n",
    "plt.plot(history_trimmed.history['loss'], label = 'training loss')\n",
    "plt.plot(history_trimmed.history['val_loss'], label = 'validation loss')\n",
    "plt.legend()"
   ]
  },
  {
   "cell_type": "code",
   "execution_count": 192,
   "id": "603a2137",
   "metadata": {
    "scrolled": true
   },
   "outputs": [
    {
     "data": {
      "text/plain": [
       "<matplotlib.legend.Legend at 0x7fd280931df0>"
      ]
     },
     "execution_count": 192,
     "metadata": {},
     "output_type": "execute_result"
    },
    {
     "data": {
      "image/png": "[encoded data removed]",
      "text/plain": [
       "<Figure size 432x288 with 1 Axes>"
      ]
     },
     "metadata": {
      "needs_background": "light"
     },
     "output_type": "display_data"
    }
   ],
   "source": [
    "y_pred_trimmed = model_trimmed.predict(testX_trimmed)\n",
    "plt.plot(testY_trimmed, label = 'True Value')\n",
    "plt.plot(y_pred_trimmed, label = 'Forecasted Value')\n",
    "plt.legend()"
   ]
  },
  {
   "cell_type": "markdown",
   "id": "c1202c91",
   "metadata": {},
   "source": [
    "If we compare the val_loss of both models, we see that model_trimmed has a final val_loss of 0.0155 and model has a final val_loss of 0.0114"
   ]
  },
  {
   "cell_type": "markdown",
   "id": "9e7ee827",
   "metadata": {},
   "source": [
    "#### Building an LSTM\n",
    "We will use the full data in this case. This is callable from the y data set we defined before"
   ]
  },
  {
   "cell_type": "code",
   "execution_count": 240,
   "id": "239866ee",
   "metadata": {},
   "outputs": [
    {
     "data": {
      "text/html": [
       "<div>\n",
       "<style scoped>\n",
       "    .dataframe tbody tr th:only-of-type {\n",
       "        vertical-align: middle;\n",
       "    }\n",
       "\n",
       "    .dataframe tbody tr th {\n",
       "        vertical-align: top;\n",
       "    }\n",
       "\n",
       "    .dataframe thead th {\n",
       "        text-align: right;\n",
       "    }\n",
       "</style>\n",
       "<table border=\"1\" class=\"dataframe\">\n",
       "  <thead>\n",
       "    <tr style=\"text-align: right;\">\n",
       "      <th></th>\n",
       "      <th>Y</th>\n",
       "    </tr>\n",
       "  </thead>\n",
       "  <tbody>\n",
       "    <tr>\n",
       "      <th>0</th>\n",
       "      <td>0.077159</td>\n",
       "    </tr>\n",
       "    <tr>\n",
       "      <th>1</th>\n",
       "      <td>0.050742</td>\n",
       "    </tr>\n",
       "    <tr>\n",
       "      <th>2</th>\n",
       "      <td>0.034782</td>\n",
       "    </tr>\n",
       "    <tr>\n",
       "      <th>3</th>\n",
       "      <td>-0.006829</td>\n",
       "    </tr>\n",
       "    <tr>\n",
       "      <th>4</th>\n",
       "      <td>0.048799</td>\n",
       "    </tr>\n",
       "    <tr>\n",
       "      <th>...</th>\n",
       "      <td>...</td>\n",
       "    </tr>\n",
       "    <tr>\n",
       "      <th>598</th>\n",
       "      <td>0.053489</td>\n",
       "    </tr>\n",
       "    <tr>\n",
       "      <th>599</th>\n",
       "      <td>0.013511</td>\n",
       "    </tr>\n",
       "    <tr>\n",
       "      <th>600</th>\n",
       "      <td>0.036463</td>\n",
       "    </tr>\n",
       "    <tr>\n",
       "      <th>601</th>\n",
       "      <td>0.037491</td>\n",
       "    </tr>\n",
       "    <tr>\n",
       "      <th>602</th>\n",
       "      <td>0.011212</td>\n",
       "    </tr>\n",
       "  </tbody>\n",
       "</table>\n",
       "<p>603 rows × 1 columns</p>\n",
       "</div>"
      ],
      "text/plain": [
       "            Y\n",
       "0    0.077159\n",
       "1    0.050742\n",
       "2    0.034782\n",
       "3   -0.006829\n",
       "4    0.048799\n",
       "..        ...\n",
       "598  0.053489\n",
       "599  0.013511\n",
       "600  0.036463\n",
       "601  0.037491\n",
       "602  0.011212\n",
       "\n",
       "[603 rows x 1 columns]"
      ]
     },
     "execution_count": 240,
     "metadata": {},
     "output_type": "execute_result"
    }
   ],
   "source": [
    "df_melted = df.Y\n",
    "type(df_melted)\n",
    "lstm_df = df_melted.to_frame()"
   ]
  },
  {
   "cell_type": "code",
   "execution_count": 241,
   "id": "1c6866d3",
   "metadata": {
    "scrolled": false
   },
   "outputs": [
    {
     "data": {
      "text/plain": [
       "[<matplotlib.lines.Line2D at 0x7fd2658f92e0>]"
      ]
     },
     "execution_count": 241,
     "metadata": {},
     "output_type": "execute_result"
    },
    {
     "data": {
      "image/png": "[encoded data removed]",
      "text/plain": [
       "<Figure size 432x288 with 1 Axes>"
      ]
     },
     "metadata": {
      "needs_background": "light"
     },
     "output_type": "display_data"
    }
   ],
   "source": [
    "plt.plot(lstm_df)"
   ]
  },
  {
   "cell_type": "code",
   "execution_count": 242,
   "id": "8968d3b5",
   "metadata": {},
   "outputs": [],
   "source": [
    "lstm_train = lstm_df.iloc[:543]\n",
    "lstm_test = lstm_df.iloc[543:]"
   ]
  },
  {
   "cell_type": "markdown",
   "id": "3142ccf7",
   "metadata": {},
   "source": [
    "Interesting side note: RNNs don't actually require the data to be stationary. They can consider complex patterns much more easily."
   ]
  },
  {
   "cell_type": "markdown",
   "id": "3ae7ce64",
   "metadata": {},
   "source": [
    "#### Preprocessing"
   ]
  },
  {
   "cell_type": "code",
   "execution_count": 243,
   "id": "e304649a",
   "metadata": {},
   "outputs": [],
   "source": [
    "lstm_scaler = MinMaxScaler()"
   ]
  },
  {
   "cell_type": "code",
   "execution_count": 244,
   "id": "da1f2102",
   "metadata": {},
   "outputs": [
    {
     "data": {
      "text/plain": [
       "(          Y\n",
       " 0  0.077159\n",
       " 1  0.050742\n",
       " 2  0.034782\n",
       " 3 -0.006829\n",
       " 4  0.048799,\n",
       "             Y\n",
       " 598  0.053489\n",
       " 599  0.013511\n",
       " 600  0.036463\n",
       " 601  0.037491\n",
       " 602  0.011212)"
      ]
     },
     "execution_count": 244,
     "metadata": {},
     "output_type": "execute_result"
    }
   ],
   "source": [
    "lstm_df.head(), lstm_df.tail()"
   ]
  },
  {
   "cell_type": "code",
   "execution_count": 245,
   "id": "0cf56fa4",
   "metadata": {},
   "outputs": [],
   "source": [
    "lstm_scaler.fit(lstm_train)\n",
    "lstm_scaled_train = lstm_scaler.transform(lstm_train)\n",
    "lstm_scaled_test = lstm_scaler.transform(lstm_test)"
   ]
  },
  {
   "cell_type": "markdown",
   "id": "bf36a520",
   "metadata": {},
   "source": [
    "Like always, we want to scale the model because there may be large differences in values from the first time point through the last time point."
   ]
  },
  {
   "cell_type": "code",
   "execution_count": 246,
   "id": "55c52f7c",
   "metadata": {},
   "outputs": [],
   "source": [
    "from keras.preprocessing.sequence import TimeseriesGenerator"
   ]
  },
  {
   "cell_type": "code",
   "execution_count": 255,
   "id": "b4cbd6ae",
   "metadata": {},
   "outputs": [],
   "source": [
    "# Define Generator\n",
    "n_input = 12  # Consider 12 periods in the past\n",
    "n_features = 1  # Can increase if you have multiple time series\n",
    "generator = TimeseriesGenerator(lstm_scaled_train, lstm_scaled_train, length = n_input, batch_size = 1)"
   ]
  },
  {
   "cell_type": "code",
   "execution_count": 256,
   "id": "6adaa09f",
   "metadata": {},
   "outputs": [
    {
     "name": "stdout",
     "output_type": "stream",
     "text": [
      "543 531\n"
     ]
    }
   ],
   "source": [
    "print(len(lstm_scaled_train), len(generator))"
   ]
  },
  {
   "cell_type": "code",
   "execution_count": 257,
   "id": "eec445c5",
   "metadata": {
    "scrolled": true
   },
   "outputs": [
    {
     "name": "stdout",
     "output_type": "stream",
     "text": [
      "Given the Array: \n",
      "[0.66020863 0.55995501 0.49938846 0.34146981 0.5525812  0.6359593\n",
      " 0.77184288 0.66604698 0.59215922 0.35140198 0.35652092 0.67327795]\n",
      "Predict this y: \n",
      " [[0.73706296]]\n"
     ]
    }
   ],
   "source": [
    "new_X, new_Y = generator[0]\n",
    "print(f'Given the Array: \\n{new_X.flatten()}')\n",
    "print(f'Predict this y: \\n {new_Y}')"
   ]
  },
  {
   "cell_type": "code",
   "execution_count": 253,
   "id": "c7444824",
   "metadata": {},
   "outputs": [],
   "source": [
    "from keras.models import Sequential\n",
    "from keras.layers import Dense\n",
    "from keras.layers import LSTM"
   ]
  },
  {
   "cell_type": "code",
   "execution_count": 259,
   "id": "e213a9ab",
   "metadata": {},
   "outputs": [],
   "source": [
    "lstm_model = Sequential()\n",
    "lstm_model.add(LSTM(100, activation = 'relu', input_shape = (n_input, n_features)))\n",
    "lstm_model.add(Dense(1))  # final layer to make prediction\n",
    "lstm_model.compile(optimizer = 'adam', loss = 'mse')"
   ]
  },
  {
   "cell_type": "code",
   "execution_count": 260,
   "id": "20cca3d8",
   "metadata": {},
   "outputs": [
    {
     "name": "stdout",
     "output_type": "stream",
     "text": [
      "Model: \"sequential_8\"\n",
      "_________________________________________________________________\n",
      " Layer (type)                Output Shape              Param #   \n",
      "=================================================================\n",
      " lstm_2 (LSTM)               (None, 100)               40800     \n",
      "                                                                 \n",
      " dense_5 (Dense)             (None, 1)                 101       \n",
      "                                                                 \n",
      "=================================================================\n",
      "Total params: 40,901\n",
      "Trainable params: 40,901\n",
      "Non-trainable params: 0\n",
      "_________________________________________________________________\n"
     ]
    }
   ],
   "source": [
    "lstm_model.summary()"
   ]
  },
  {
   "cell_type": "code",
   "execution_count": 265,
   "id": "9f9bce97",
   "metadata": {
    "scrolled": false
   },
   "outputs": [
    {
     "name": "stdout",
     "output_type": "stream",
     "text": [
      "Epoch 1/50\n",
      "531/531 [==============================] - 4s 7ms/step - loss: 0.0117\n",
      "Epoch 2/50\n",
      "531/531 [==============================] - 4s 7ms/step - loss: 0.0118\n",
      "Epoch 3/50\n",
      "531/531 [==============================] - 4s 7ms/step - loss: 0.0116\n",
      "Epoch 4/50\n",
      "531/531 [==============================] - 4s 8ms/step - loss: 0.0117\n",
      "Epoch 5/50\n",
      "531/531 [==============================] - 4s 8ms/step - loss: 0.0119\n",
      "Epoch 6/50\n",
      "531/531 [==============================] - 5s 9ms/step - loss: 0.0122\n",
      "Epoch 7/50\n",
      "531/531 [==============================] - 4s 7ms/step - loss: 0.0116\n",
      "Epoch 8/50\n",
      "531/531 [==============================] - 4s 7ms/step - loss: 0.0117\n",
      "Epoch 9/50\n",
      "531/531 [==============================] - 4s 7ms/step - loss: 0.0117\n",
      "Epoch 10/50\n",
      "531/531 [==============================] - 4s 7ms/step - loss: 0.0115\n",
      "Epoch 11/50\n",
      "531/531 [==============================] - 4s 8ms/step - loss: 0.0117\n",
      "Epoch 12/50\n",
      "531/531 [==============================] - 4s 7ms/step - loss: 0.0115\n",
      "Epoch 13/50\n",
      "531/531 [==============================] - 5s 9ms/step - loss: 0.0116\n",
      "Epoch 14/50\n",
      "531/531 [==============================] - 5s 9ms/step - loss: 0.0116\n",
      "Epoch 15/50\n",
      "531/531 [==============================] - 4s 7ms/step - loss: 0.0116\n",
      "Epoch 16/50\n",
      "531/531 [==============================] - 4s 7ms/step - loss: 0.0115\n",
      "Epoch 17/50\n",
      "531/531 [==============================] - 4s 7ms/step - loss: 0.0114\n",
      "Epoch 18/50\n",
      "531/531 [==============================] - 4s 8ms/step - loss: 0.0116\n",
      "Epoch 19/50\n",
      "531/531 [==============================] - 4s 8ms/step - loss: 0.0115\n",
      "Epoch 20/50\n",
      "531/531 [==============================] - 4s 7ms/step - loss: 0.0112\n",
      "Epoch 21/50\n",
      "531/531 [==============================] - 4s 7ms/step - loss: 0.0114\n",
      "Epoch 22/50\n",
      "531/531 [==============================] - 4s 8ms/step - loss: 0.0119\n",
      "Epoch 23/50\n",
      "531/531 [==============================] - 4s 7ms/step - loss: 0.0115\n",
      "Epoch 24/50\n",
      "531/531 [==============================] - 4s 7ms/step - loss: 0.0112\n",
      "Epoch 25/50\n",
      "531/531 [==============================] - 4s 7ms/step - loss: 0.0112\n",
      "Epoch 26/50\n",
      "531/531 [==============================] - 4s 7ms/step - loss: 0.0111\n",
      "Epoch 27/50\n",
      "531/531 [==============================] - 4s 7ms/step - loss: 0.0114\n",
      "Epoch 28/50\n",
      "531/531 [==============================] - 4s 7ms/step - loss: 0.0116\n",
      "Epoch 29/50\n",
      "531/531 [==============================] - 4s 7ms/step - loss: 0.0114\n",
      "Epoch 30/50\n",
      "531/531 [==============================] - 4s 7ms/step - loss: 0.0114\n",
      "Epoch 31/50\n",
      "531/531 [==============================] - 4s 8ms/step - loss: 0.0112\n",
      "Epoch 32/50\n",
      "531/531 [==============================] - 4s 7ms/step - loss: 0.0115\n",
      "Epoch 33/50\n",
      "531/531 [==============================] - 4s 7ms/step - loss: 0.0110\n",
      "Epoch 34/50\n",
      "531/531 [==============================] - 4s 7ms/step - loss: 0.0114\n",
      "Epoch 35/50\n",
      "531/531 [==============================] - 4s 7ms/step - loss: 0.0114\n",
      "Epoch 36/50\n",
      "531/531 [==============================] - 4s 7ms/step - loss: 0.0112\n",
      "Epoch 37/50\n",
      "531/531 [==============================] - 4s 7ms/step - loss: 0.0111\n",
      "Epoch 38/50\n",
      "531/531 [==============================] - 4s 7ms/step - loss: 0.0109\n",
      "Epoch 39/50\n",
      "531/531 [==============================] - 4s 8ms/step - loss: 0.0113\n",
      "Epoch 40/50\n",
      "531/531 [==============================] - 4s 7ms/step - loss: 0.0111\n",
      "Epoch 41/50\n",
      "531/531 [==============================] - 4s 7ms/step - loss: 0.0111\n",
      "Epoch 42/50\n",
      "531/531 [==============================] - 4s 7ms/step - loss: 0.0111\n",
      "Epoch 43/50\n",
      "531/531 [==============================] - 4s 7ms/step - loss: 0.0114\n",
      "Epoch 44/50\n",
      "531/531 [==============================] - 4s 8ms/step - loss: 0.0114\n",
      "Epoch 45/50\n",
      "531/531 [==============================] - 4s 7ms/step - loss: 0.0110\n",
      "Epoch 46/50\n",
      "531/531 [==============================] - 4s 8ms/step - loss: 0.0111\n",
      "Epoch 47/50\n",
      "531/531 [==============================] - 4s 7ms/step - loss: 0.0113\n",
      "Epoch 48/50\n",
      "531/531 [==============================] - 4s 7ms/step - loss: 0.0111\n",
      "Epoch 49/50\n",
      "531/531 [==============================] - 4s 7ms/step - loss: 0.0111\n",
      "Epoch 50/50\n",
      "531/531 [==============================] - 4s 7ms/step - loss: 0.0108\n"
     ]
    },
    {
     "data": {
      "text/plain": [
       "<keras.callbacks.History at 0x7fd26e256160>"
      ]
     },
     "execution_count": 265,
     "metadata": {},
     "output_type": "execute_result"
    }
   ],
   "source": [
    "lstm_model.fit(generator, epochs = 50)"
   ]
  },
  {
   "cell_type": "code",
   "execution_count": 266,
   "id": "41e2e320",
   "metadata": {},
   "outputs": [
    {
     "data": {
      "text/plain": [
       "[<matplotlib.lines.Line2D at 0x7fd26d043880>]"
      ]
     },
     "execution_count": 266,
     "metadata": {},
     "output_type": "execute_result"
    },
    {
     "data": {
      "image/png": "[encoded data removed]",
      "text/plain": [
       "<Figure size 432x288 with 1 Axes>"
      ]
     },
     "metadata": {
      "needs_background": "light"
     },
     "output_type": "display_data"
    }
   ],
   "source": [
    "loss_per_epoch = lstm_model.history.history['loss']\n",
    "plt.plot(range(len(loss_per_epoch)), loss_per_epoch)"
   ]
  },
  {
   "cell_type": "code",
   "execution_count": 267,
   "id": "7ec1403f",
   "metadata": {},
   "outputs": [],
   "source": [
    "last_train_batch = lstm_scaled_train[-12:]"
   ]
  },
  {
   "cell_type": "code",
   "execution_count": 268,
   "id": "84b7e9b9",
   "metadata": {},
   "outputs": [],
   "source": [
    "last_train_batch = last_train_batch.reshape((1, n_input, n_features))"
   ]
  },
  {
   "cell_type": "code",
   "execution_count": 269,
   "id": "11c8f39a",
   "metadata": {},
   "outputs": [
    {
     "data": {
      "text/plain": [
       "array([[0.5837765]], dtype=float32)"
      ]
     },
     "execution_count": 269,
     "metadata": {},
     "output_type": "execute_result"
    }
   ],
   "source": [
    "lstm_model.predict(last_train_batch)"
   ]
  },
  {
   "cell_type": "code",
   "execution_count": 270,
   "id": "339d9370",
   "metadata": {},
   "outputs": [
    {
     "data": {
      "text/plain": [
       "array([0.45841215])"
      ]
     },
     "execution_count": 270,
     "metadata": {},
     "output_type": "execute_result"
    }
   ],
   "source": [
    "lstm_scaled_test[0]"
   ]
  },
  {
   "cell_type": "code",
   "execution_count": 272,
   "id": "2ecb2a90",
   "metadata": {},
   "outputs": [],
   "source": [
    "lstm_predictions = []\n",
    "\n",
    "first_eval_batch = lstm_scaled_train[-n_input:]\n",
    "current_batch = first_eval_batch.reshape((1, n_input, n_features))\n",
    "\n",
    "for i in range(len(lstm_test)):\n",
    "    \n",
    "    # get prediction value for current batch\n",
    "    current_pred = lstm_model.predict(current_batch)[0]\n",
    "    \n",
    "    # append the prediction to the array\n",
    "    lstm_predictions.append(current_pred)\n",
    "    \n",
    "    # use the prediction to update the batches\n",
    "    current_batch = np.append(current_batch[:,1:,:], [[current_pred]], axis=1)"
   ]
  },
  {
   "cell_type": "code",
   "execution_count": 274,
   "id": "a87bead6",
   "metadata": {},
   "outputs": [
    {
     "data": {
      "text/plain": [
       "[array([0.5837765], dtype=float32),\n",
       " array([0.5090978], dtype=float32),\n",
       " array([0.5279521], dtype=float32),\n",
       " array([0.6089308], dtype=float32),\n",
       " array([0.66104716], dtype=float32),\n",
       " array([0.64072204], dtype=float32),\n",
       " array([0.582845], dtype=float32),\n",
       " array([0.5488568], dtype=float32),\n",
       " array([0.5640714], dtype=float32),\n",
       " array([0.6046592], dtype=float32),\n",
       " array([0.6254674], dtype=float32),\n",
       " array([0.6077715], dtype=float32),\n",
       " array([0.5778438], dtype=float32),\n",
       " array([0.5688747], dtype=float32),\n",
       " array([0.58520156], dtype=float32),\n",
       " array([0.6048902], dtype=float32),\n",
       " array([0.60675794], dtype=float32),\n",
       " array([0.59122247], dtype=float32),\n",
       " array([0.57748425], dtype=float32),\n",
       " array([0.57982755], dtype=float32),\n",
       " array([0.59292483], dtype=float32),\n",
       " array([0.60146105], dtype=float32),\n",
       " array([0.5969473], dtype=float32),\n",
       " array([0.5856564], dtype=float32),\n",
       " array([0.5806791], dtype=float32),\n",
       " array([0.5860677], dtype=float32),\n",
       " array([0.5945008], dtype=float32),\n",
       " array([0.5969237], dtype=float32),\n",
       " array([0.59151864], dtype=float32),\n",
       " array([0.58506775], dtype=float32),\n",
       " array([0.5844681], dtype=float32),\n",
       " array([0.58927286], dtype=float32),\n",
       " array([0.5937167], dtype=float32),\n",
       " array([0.59324336], dtype=float32),\n",
       " array([0.5889702], dtype=float32),\n",
       " array([0.58602786], dtype=float32),\n",
       " array([0.58721167], dtype=float32),\n",
       " array([0.5905367], dtype=float32),\n",
       " array([0.5923244], dtype=float32),\n",
       " array([0.59089124], dtype=float32),\n",
       " array([0.58818305], dtype=float32),\n",
       " array([0.58727515], dtype=float32),\n",
       " array([0.58877254], dtype=float32),\n",
       " array([0.59073377], dtype=float32),\n",
       " array([0.59107757], dtype=float32),\n",
       " array([0.5896461], dtype=float32),\n",
       " array([0.58821654], dtype=float32),\n",
       " array([0.5882808], dtype=float32),\n",
       " array([0.58949876], dtype=float32),\n",
       " array([0.59045386], dtype=float32),\n",
       " array([0.59018546], dtype=float32),\n",
       " array([0.58912855], dtype=float32),\n",
       " array([0.5885336], dtype=float32),\n",
       " array([0.5889309], dtype=float32),\n",
       " array([0.58973724], dtype=float32),\n",
       " array([0.5900742], dtype=float32),\n",
       " array([0.5896476], dtype=float32),\n",
       " array([0.58901155], dtype=float32),\n",
       " array([0.588871], dtype=float32),\n",
       " array([0.5892798], dtype=float32)]"
      ]
     },
     "execution_count": 274,
     "metadata": {},
     "output_type": "execute_result"
    }
   ],
   "source": [
    "lstm_predictions"
   ]
  },
  {
   "cell_type": "code",
   "execution_count": 275,
   "id": "3280b440",
   "metadata": {},
   "outputs": [
    {
     "data": {
      "text/html": [
       "<div>\n",
       "<style scoped>\n",
       "    .dataframe tbody tr th:only-of-type {\n",
       "        vertical-align: middle;\n",
       "    }\n",
       "\n",
       "    .dataframe tbody tr th {\n",
       "        vertical-align: top;\n",
       "    }\n",
       "\n",
       "    .dataframe thead th {\n",
       "        text-align: right;\n",
       "    }\n",
       "</style>\n",
       "<table border=\"1\" class=\"dataframe\">\n",
       "  <thead>\n",
       "    <tr style=\"text-align: right;\">\n",
       "      <th></th>\n",
       "      <th>Y</th>\n",
       "    </tr>\n",
       "  </thead>\n",
       "  <tbody>\n",
       "    <tr>\n",
       "      <th>543</th>\n",
       "      <td>0.023985</td>\n",
       "    </tr>\n",
       "    <tr>\n",
       "      <th>544</th>\n",
       "      <td>0.048409</td>\n",
       "    </tr>\n",
       "    <tr>\n",
       "      <th>545</th>\n",
       "      <td>0.012198</td>\n",
       "    </tr>\n",
       "    <tr>\n",
       "      <th>546</th>\n",
       "      <td>0.034746</td>\n",
       "    </tr>\n",
       "    <tr>\n",
       "      <th>547</th>\n",
       "      <td>0.102625</td>\n",
       "    </tr>\n",
       "  </tbody>\n",
       "</table>\n",
       "</div>"
      ],
      "text/plain": [
       "            Y\n",
       "543  0.023985\n",
       "544  0.048409\n",
       "545  0.012198\n",
       "546  0.034746\n",
       "547  0.102625"
      ]
     },
     "execution_count": 275,
     "metadata": {},
     "output_type": "execute_result"
    }
   ],
   "source": [
    "lstm_test.head()"
   ]
  },
  {
   "cell_type": "code",
   "execution_count": 277,
   "id": "f1ee81f8",
   "metadata": {},
   "outputs": [],
   "source": [
    "true_predictions = lstm_scaler.inverse_transform(lstm_predictions)"
   ]
  },
  {
   "cell_type": "code",
   "execution_count": 278,
   "id": "c382d4b6",
   "metadata": {},
   "outputs": [
    {
     "name": "stderr",
     "output_type": "stream",
     "text": [
      "/var/folders/bk/vwbh8wcn0bdg18n5f30xdrf00000gn/T/ipykernel_47808/148945012.py:1: SettingWithCopyWarning: \n",
      "A value is trying to be set on a copy of a slice from a DataFrame.\n",
      "Try using .loc[row_indexer,col_indexer] = value instead\n",
      "\n",
      "See the caveats in the documentation: https://pandas.pydata.org/pandas-docs/stable/user_guide/indexing.html#returning-a-view-versus-a-copy\n",
      "  lstm_test['Predictions'] = true_predictions\n"
     ]
    }
   ],
   "source": [
    "lstm_test['Predictions'] = true_predictions"
   ]
  },
  {
   "cell_type": "code",
   "execution_count": 279,
   "id": "9a1819a6",
   "metadata": {},
   "outputs": [
    {
     "data": {
      "text/plain": [
       "<AxesSubplot:>"
      ]
     },
     "execution_count": 279,
     "metadata": {},
     "output_type": "execute_result"
    },
    {
     "data": {
      "image/png": "[encoded data removed]",
      "text/plain": [
       "<Figure size 432x288 with 1 Axes>"
      ]
     },
     "metadata": {
      "needs_background": "light"
     },
     "output_type": "display_data"
    }
   ],
   "source": [
    "lstm_test.plot()"
   ]
  }
 ],
 "metadata": {
  "kernelspec": {
   "display_name": "Python 3 (ipykernel)",
   "language": "python",
   "name": "python3"
  },
  "language_info": {
   "codemirror_mode": {
    "name": "ipython",
    "version": 3
   },
   "file_extension": ".py",
   "mimetype": "text/x-python",
   "name": "python",
   "nbconvert_exporter": "python",
   "pygments_lexer": "ipython3",
   "version": "3.9.12"
  }
 },
 "nbformat": 4,
 "nbformat_minor": 5
}
